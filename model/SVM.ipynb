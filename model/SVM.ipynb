{
 "metadata": {
  "language_info": {
   "codemirror_mode": {
    "name": "ipython",
    "version": 3
   },
   "file_extension": ".py",
   "mimetype": "text/x-python",
   "name": "python",
   "nbconvert_exporter": "python",
   "pygments_lexer": "ipython3",
   "version": "3.9.5"
  },
  "orig_nbformat": 2,
  "kernelspec": {
   "name": "myenv",
   "display_name": "Python 3.9.5  ('.venv': venv)"
  }
 },
 "nbformat": 4,
 "nbformat_minor": 2,
 "cells": [
  {
   "cell_type": "code",
   "execution_count": 1,
   "metadata": {},
   "outputs": [],
   "source": [
    "import time\n",
    "import numpy as np\n",
    "import matplotlib.pyplot as plt\n",
    "import pandas as pd\n",
    "\n",
    "from pathlib import Path\n",
    "\n",
    "from sklearn.svm import SVR\n",
    "from sklearn.model_selection import train_test_split, GridSearchCV, learning_curve\n",
    "from sklearn.metrics import *"
   ]
  },
  {
   "cell_type": "code",
   "execution_count": 2,
   "metadata": {},
   "outputs": [],
   "source": [
    "df_Ch001 = pd.DataFrame(pd.read_pickle(Path(\"C:/Users/Victor/Desktop/PIR/process/Ch001.pkl\")))\n",
    "df_Ch009 = pd.DataFrame(pd.read_pickle(Path(\"C:/Users/Victor/Desktop/PIR/process/Ch009.pkl\")))\n",
    "df_Ch020 = pd.DataFrame(pd.read_pickle(Path(\"C:/Users/Victor/Desktop/PIR/process/Ch020.pkl\")))\n",
    "df_Ch022 = pd.DataFrame(pd.read_pickle(Path(\"C:/Users/Victor/Desktop/PIR/process/Ch022.pkl\")))"
   ]
  },
  {
   "cell_type": "code",
   "execution_count": 3,
   "metadata": {},
   "outputs": [],
   "source": [
    "from model_util import data_scale\n",
    "from sklearn.preprocessing import MinMaxScaler, StandardScaler\n",
    "\n",
    "df_input=[df_Ch001, df_Ch009, df_Ch020]\n",
    "df_input_scaled=[]\n",
    "\n",
    "LOG_SCALE= False\n",
    "scaler=MinMaxScaler()\n",
    "\n",
    "for df in df_input:\n",
    "    df_input_scaled.append(data_scale(df, scaler, LOG_SCALE))\n",
    "\n",
    "df_output_scaled, output_scaler = data_scale(df_Ch022, scaler, LOG_SCALE, output= True)"
   ]
  },
  {
   "cell_type": "code",
   "execution_count": 4,
   "metadata": {},
   "outputs": [],
   "source": [
    "size=len(df_Ch022.index)\n",
    "split=int(size*0.15)\n",
    "\n",
    "MAE, MSE, RMSE = [], [], []\n",
    "df_pred = pd.DataFrame(0, index= df_Ch022.index[:split], columns=df_Ch022.columns)"
   ]
  },
  {
   "cell_type": "code",
   "execution_count": 5,
   "metadata": {},
   "outputs": [
    {
     "output_type": "stream",
     "name": "stdout",
     "text": [
      "0.0 4573.0\n"
     ]
    }
   ],
   "source": [
    "p=15\n",
    "min = output_scaler.data_min_[p]\n",
    "max = output_scaler.data_max_[p]\n",
    "print(min,max)"
   ]
  },
  {
   "cell_type": "code",
   "execution_count": 13,
   "metadata": {},
   "outputs": [],
   "source": [
    "#format data\n",
    "data_scaled=np.dstack(df_input_scaled)\n",
    "target_scaled=df_output_scaled.copy().values\n",
    "\n",
    "for p in range(len(df_Ch022.columns)):\n",
    "\n",
    "    #select data\n",
    "    X_train_p = data_scaled[split:,p,:]\n",
    "    y_train_p = target_scaled[split:,p]\n",
    "    X_test_p = data_scaled[:split,p,:]\n",
    "    y_test_p = target_scaled[:split,p]\n",
    "\n",
    "    #gridsearch\n",
    "    svr_grid = GridSearchCV(SVR(kernel='rbf', gamma=0.1),\n",
    "                   param_grid = {\"C\": [1e0, 1e1, 1e2, 1e3],\n",
    "                               \"gamma\": np.logspace(-2, 2, 5)})\n",
    "\n",
    "    svr_grid.fit(X_train_p, y_train_p)\n",
    "    C = svr_grid.best_params_['C']\n",
    "    gamma = svr_grid.best_params_['gamma']\n",
    "\n",
    "    #learning curve\n",
    "    svr_lc = SVR(kernel='rbf', C=C, gamma=gamma)\n",
    "    train_sizes, train_scores_svr, test_scores_svr = \\\n",
    "    learning_curve(svr_lc, X_train_p, y_train_p, train_sizes=np.linspace(0.1, 1, 10),\n",
    "                   scoring=\"neg_mean_squared_error\", cv=10)\n",
    "\n",
    "    split2 = train_sizes[np.argmin(-test_scores_svr.mean(1))]\n",
    "    if split2 >int(size*0.5):\n",
    "\n",
    "        X_train_p = data_scaled[size-split2:,p,:]\n",
    "        y_train_p = target_scaled[size-split2:,p]\n",
    "\n",
    "    #calcul predict test, error\n",
    "    svr=SVR(kernel='rbf', C=C, gamma=gamma)\n",
    "    svr.fit(X_train_p, y_train_p)\n",
    "    y_pred_test_p = svr.predict(X_test_p)\n",
    "\n",
    "    min = output_scaler.data_min_[p]\n",
    "    max = output_scaler.data_max_[p]\n",
    "    y_test_p= (max-min)*y_test_p+min\n",
    "    y_pred_test_p = (max-min)*y_pred_test_p+min\n",
    "\n",
    "    MAE.append(mean_absolute_error(y_test_p,y_pred_test_p))\n",
    "    MSE.append(mean_squared_error(y_test_p,y_pred_test_p))\n",
    "    RMSE.append(mean_squared_error(y_test_p, y_pred_test_p, squared= False))\n",
    "\n",
    "    df_pred[df_pred.columns[p]] = y_pred_test_p"
   ]
  },
  {
   "cell_type": "code",
   "execution_count": 14,
   "metadata": {},
   "outputs": [],
   "source": [
    "df_pred.to_pickle(Path(\"C:/Users/Victor/Desktop/PIR/model/saved_models/SVM_predict_test.pkl\"))\n",
    "df_metrics=pd.DataFrame({\"MAE\": MAE, \"MSE\": MSE, \"RMSE\": RMSE})\n",
    "df_metrics.to_pickle(Path(\"C:/Users/Victor/Desktop/PIR/model/saved_models/SVM_metrics_test.pkl\"))"
   ]
  },
  {
   "cell_type": "code",
   "execution_count": 15,
   "metadata": {},
   "outputs": [
    {
     "output_type": "execute_result",
     "data": {
      "text/plain": [
       "             MAE           MSE          RMSE\n",
       "0      10.952686  1.250180e+02     11.181146\n",
       "1      20.183472  4.087399e+02     20.217317\n",
       "2   59015.891803  4.000360e+09  63248.401681\n",
       "3      24.877560  6.254434e+02     25.008867\n",
       "4       4.768083  3.533907e+01      5.944667\n",
       "5       3.069253  2.128084e+01      4.613116\n",
       "6       3.596462  2.472355e+01      4.972278\n",
       "7       4.656917  2.904815e+01      5.389634\n",
       "8     222.424257  5.021693e+04    224.091344\n",
       "9       6.305944  8.254278e+01      9.085306\n",
       "10     13.038349  1.952204e+02     13.972130\n",
       "11     33.179069  1.187973e+03     34.466979\n",
       "12     15.845594  5.683791e+02     23.840702\n",
       "13     32.088884  1.906590e+03     43.664521\n",
       "14     86.521966  1.066436e+04    103.268372\n",
       "15     80.206502  1.086664e+04    104.243178\n",
       "16    182.633839  4.048051e+04    201.197697\n",
       "17    162.377870  3.038889e+04    174.324081\n",
       "18    147.163285  2.654164e+04    162.916042\n",
       "19    179.649011  3.757204e+04    193.835074\n",
       "20    152.134385  3.149699e+04    177.473921\n",
       "21    192.069913  4.812788e+04    219.380682\n",
       "22     99.142609  1.493028e+04    122.189527\n",
       "23     81.605766  1.109129e+04    105.315191\n",
       "24     74.484041  9.492457e+03     97.429240\n",
       "25    194.525522  4.175079e+04    204.330097\n",
       "26    200.946534  4.507087e+04    212.299013\n",
       "27    174.968625  4.370851e+04    209.065796\n",
       "28    128.225344  2.332319e+04    152.719314\n",
       "29    199.975966  4.836099e+04    219.911329\n",
       "30     90.781903  1.053301e+04    102.630456\n",
       "31    208.003605  4.436775e+04    210.636542\n",
       "32     23.094762  1.750527e+03     41.839306\n",
       "33    375.040666  1.411590e+05    375.711320"
      ],
      "text/html": "<div>\n<style scoped>\n    .dataframe tbody tr th:only-of-type {\n        vertical-align: middle;\n    }\n\n    .dataframe tbody tr th {\n        vertical-align: top;\n    }\n\n    .dataframe thead th {\n        text-align: right;\n    }\n</style>\n<table border=\"1\" class=\"dataframe\">\n  <thead>\n    <tr style=\"text-align: right;\">\n      <th></th>\n      <th>MAE</th>\n      <th>MSE</th>\n      <th>RMSE</th>\n    </tr>\n  </thead>\n  <tbody>\n    <tr>\n      <th>0</th>\n      <td>10.952686</td>\n      <td>1.250180e+02</td>\n      <td>11.181146</td>\n    </tr>\n    <tr>\n      <th>1</th>\n      <td>20.183472</td>\n      <td>4.087399e+02</td>\n      <td>20.217317</td>\n    </tr>\n    <tr>\n      <th>2</th>\n      <td>59015.891803</td>\n      <td>4.000360e+09</td>\n      <td>63248.401681</td>\n    </tr>\n    <tr>\n      <th>3</th>\n      <td>24.877560</td>\n      <td>6.254434e+02</td>\n      <td>25.008867</td>\n    </tr>\n    <tr>\n      <th>4</th>\n      <td>4.768083</td>\n      <td>3.533907e+01</td>\n      <td>5.944667</td>\n    </tr>\n    <tr>\n      <th>5</th>\n      <td>3.069253</td>\n      <td>2.128084e+01</td>\n      <td>4.613116</td>\n    </tr>\n    <tr>\n      <th>6</th>\n      <td>3.596462</td>\n      <td>2.472355e+01</td>\n      <td>4.972278</td>\n    </tr>\n    <tr>\n      <th>7</th>\n      <td>4.656917</td>\n      <td>2.904815e+01</td>\n      <td>5.389634</td>\n    </tr>\n    <tr>\n      <th>8</th>\n      <td>222.424257</td>\n      <td>5.021693e+04</td>\n      <td>224.091344</td>\n    </tr>\n    <tr>\n      <th>9</th>\n      <td>6.305944</td>\n      <td>8.254278e+01</td>\n      <td>9.085306</td>\n    </tr>\n    <tr>\n      <th>10</th>\n      <td>13.038349</td>\n      <td>1.952204e+02</td>\n      <td>13.972130</td>\n    </tr>\n    <tr>\n      <th>11</th>\n      <td>33.179069</td>\n      <td>1.187973e+03</td>\n      <td>34.466979</td>\n    </tr>\n    <tr>\n      <th>12</th>\n      <td>15.845594</td>\n      <td>5.683791e+02</td>\n      <td>23.840702</td>\n    </tr>\n    <tr>\n      <th>13</th>\n      <td>32.088884</td>\n      <td>1.906590e+03</td>\n      <td>43.664521</td>\n    </tr>\n    <tr>\n      <th>14</th>\n      <td>86.521966</td>\n      <td>1.066436e+04</td>\n      <td>103.268372</td>\n    </tr>\n    <tr>\n      <th>15</th>\n      <td>80.206502</td>\n      <td>1.086664e+04</td>\n      <td>104.243178</td>\n    </tr>\n    <tr>\n      <th>16</th>\n      <td>182.633839</td>\n      <td>4.048051e+04</td>\n      <td>201.197697</td>\n    </tr>\n    <tr>\n      <th>17</th>\n      <td>162.377870</td>\n      <td>3.038889e+04</td>\n      <td>174.324081</td>\n    </tr>\n    <tr>\n      <th>18</th>\n      <td>147.163285</td>\n      <td>2.654164e+04</td>\n      <td>162.916042</td>\n    </tr>\n    <tr>\n      <th>19</th>\n      <td>179.649011</td>\n      <td>3.757204e+04</td>\n      <td>193.835074</td>\n    </tr>\n    <tr>\n      <th>20</th>\n      <td>152.134385</td>\n      <td>3.149699e+04</td>\n      <td>177.473921</td>\n    </tr>\n    <tr>\n      <th>21</th>\n      <td>192.069913</td>\n      <td>4.812788e+04</td>\n      <td>219.380682</td>\n    </tr>\n    <tr>\n      <th>22</th>\n      <td>99.142609</td>\n      <td>1.493028e+04</td>\n      <td>122.189527</td>\n    </tr>\n    <tr>\n      <th>23</th>\n      <td>81.605766</td>\n      <td>1.109129e+04</td>\n      <td>105.315191</td>\n    </tr>\n    <tr>\n      <th>24</th>\n      <td>74.484041</td>\n      <td>9.492457e+03</td>\n      <td>97.429240</td>\n    </tr>\n    <tr>\n      <th>25</th>\n      <td>194.525522</td>\n      <td>4.175079e+04</td>\n      <td>204.330097</td>\n    </tr>\n    <tr>\n      <th>26</th>\n      <td>200.946534</td>\n      <td>4.507087e+04</td>\n      <td>212.299013</td>\n    </tr>\n    <tr>\n      <th>27</th>\n      <td>174.968625</td>\n      <td>4.370851e+04</td>\n      <td>209.065796</td>\n    </tr>\n    <tr>\n      <th>28</th>\n      <td>128.225344</td>\n      <td>2.332319e+04</td>\n      <td>152.719314</td>\n    </tr>\n    <tr>\n      <th>29</th>\n      <td>199.975966</td>\n      <td>4.836099e+04</td>\n      <td>219.911329</td>\n    </tr>\n    <tr>\n      <th>30</th>\n      <td>90.781903</td>\n      <td>1.053301e+04</td>\n      <td>102.630456</td>\n    </tr>\n    <tr>\n      <th>31</th>\n      <td>208.003605</td>\n      <td>4.436775e+04</td>\n      <td>210.636542</td>\n    </tr>\n    <tr>\n      <th>32</th>\n      <td>23.094762</td>\n      <td>1.750527e+03</td>\n      <td>41.839306</td>\n    </tr>\n    <tr>\n      <th>33</th>\n      <td>375.040666</td>\n      <td>1.411590e+05</td>\n      <td>375.711320</td>\n    </tr>\n  </tbody>\n</table>\n</div>"
     },
     "metadata": {},
     "execution_count": 15
    }
   ],
   "source": [
    "df_metrics"
   ]
  }
 ]
}