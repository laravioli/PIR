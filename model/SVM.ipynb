{
 "metadata": {
  "language_info": {
   "codemirror_mode": {
    "name": "ipython",
    "version": 3
   },
   "file_extension": ".py",
   "mimetype": "text/x-python",
   "name": "python",
   "nbconvert_exporter": "python",
   "pygments_lexer": "ipython3",
   "version": "3.9.5"
  },
  "orig_nbformat": 2,
  "kernelspec": {
   "name": "myenv",
   "display_name": "Python 3.9.5  ('.venv': venv)"
  }
 },
 "nbformat": 4,
 "nbformat_minor": 2,
 "cells": [
  {
   "cell_type": "code",
   "execution_count": 15,
   "metadata": {},
   "outputs": [],
   "source": [
    "import time\n",
    "import numpy as np\n",
    "import matplotlib.pyplot as plt\n",
    "import pandas as pd\n",
    "\n",
    "from pathlib import Path\n",
    "\n",
    "from sklearn.svm import SVR\n",
    "from sklearn.model_selection import train_test_split, GridSearchCV, learning_curve\n",
    "from sklearn.metrics import *"
   ]
  },
  {
   "cell_type": "code",
   "execution_count": 16,
   "metadata": {},
   "outputs": [],
   "source": [
    "df_Ch001 = pd.DataFrame(pd.read_pickle(Path(\"C:/Users/Victor/Desktop/PIR/process/Ch001.pkl\")))\n",
    "df_Ch009 = pd.DataFrame(pd.read_pickle(Path(\"C:/Users/Victor/Desktop/PIR/process/Ch009.pkl\")))\n",
    "df_Ch020 = pd.DataFrame(pd.read_pickle(Path(\"C:/Users/Victor/Desktop/PIR/process/Ch020.pkl\")))\n",
    "df_Ch022 = pd.DataFrame(pd.read_pickle(Path(\"C:/Users/Victor/Desktop/PIR/process/Ch022.pkl\")))"
   ]
  },
  {
   "cell_type": "code",
   "execution_count": 17,
   "metadata": {},
   "outputs": [],
   "source": [
    "from model_util import data_scale\n",
    "from sklearn.preprocessing import MinMaxScaler, StandardScaler\n",
    "\n",
    "df_input=[df_Ch001, df_Ch009, df_Ch020]\n",
    "df_input_scaled=[]\n",
    "\n",
    "LOG_SCALE= True\n",
    "scaler=MinMaxScaler()\n",
    "\n",
    "for df in df_input:\n",
    "    df_input_scaled.append(data_scale(df, scaler, LOG_SCALE))\n",
    "\n",
    "df_output_scaled, output_scaler = data_scale(df_Ch022, scaler, LOG_SCALE, output= True)"
   ]
  },
  {
   "cell_type": "code",
   "execution_count": 18,
   "metadata": {},
   "outputs": [],
   "source": [
    "size=len(df_Ch022.index)\n",
    "split=int(size*0.15)\n",
    "\n",
    "MAE, MSE, RMSE = [], [], []\n",
    "df_pred = pd.DataFrame(0, index= df_Ch022.index[:split], columns=df_Ch022.columns)"
   ]
  },
  {
   "cell_type": "code",
   "execution_count": 19,
   "metadata": {},
   "outputs": [],
   "source": [
    "#format data\n",
    "data_scaled=np.dstack(df_input_scaled)\n",
    "target_scaled=df_output_scaled.copy().values\n",
    "\n",
    "for p in range(len(df_Ch022.columns)):\n",
    "\n",
    "    #select data\n",
    "    X_train_p = data_scaled[split:,p,:]\n",
    "    y_train_p = target_scaled[split:,p]\n",
    "    X_test_p = data_scaled[:split,p,:]\n",
    "    y_test_p = target_scaled[:split,p]\n",
    "\n",
    "    #gridsearch\n",
    "    svr_grid = GridSearchCV(SVR(kernel='rbf', gamma=0.1),\n",
    "                   param_grid = {\"C\": [1e0, 1e1, 1e2, 1e3],\n",
    "                               \"gamma\": np.logspace(-2, 2, 5)})\n",
    "\n",
    "    svr_grid.fit(X_train_p, y_train_p)\n",
    "    C = svr_grid.best_params_['C']\n",
    "    gamma = svr_grid.best_params_['gamma']\n",
    "\n",
    "    #learning curve\n",
    "    svr_lc = SVR(kernel='rbf', C=C, gamma=gamma)\n",
    "    train_sizes, train_scores_svr, test_scores_svr = \\\n",
    "    learning_curve(svr_lc, X_train_p, y_train_p, train_sizes=np.linspace(0.1, 1, 10),\n",
    "                   scoring=\"neg_mean_squared_error\", cv=10)\n",
    "\n",
    "    split2 = train_sizes[np.argmin(-test_scores_svr.mean(1))]\n",
    "    if split2 >int(size*0.5):\n",
    "\n",
    "        X_train_p = data_scaled[size-split2:,p,:]\n",
    "        y_train_p = target_scaled[size-split2:,p]\n",
    "\n",
    "    #calcul predict test, error\n",
    "    svr=SVR(kernel='rbf', C=C, gamma=gamma)\n",
    "    svr.fit(X_train_p, y_train_p)\n",
    "    y_pred_test_p = svr.predict(X_test_p)\n",
    "\n",
    "    min = output_scaler.data_min_[p]\n",
    "    max = output_scaler.data_max_[p]\n",
    "    y_test_p= (max-min)*y_test_p+min\n",
    "    y_pred_test_p = (max-min)*y_pred_test_p+min\n",
    "\n",
    "    if LOG_SCALE:\n",
    "        y_test_p = 10 ** y_test_p\n",
    "        y_pred_test_p = 10 ** y_pred_test_p\n",
    "\n",
    "    MAE.append(mean_absolute_error(y_test_p,y_pred_test_p))\n",
    "    MSE.append(mean_squared_error(y_test_p,y_pred_test_p))\n",
    "    RMSE.append(mean_squared_error(y_test_p, y_pred_test_p, squared= False))\n",
    "\n",
    "    df_pred[df_pred.columns[p]] = y_pred_test_p\n",
    "    df_secure[df_pred.columns[p]] = y_test_p"
   ]
  },
  {
   "cell_type": "code",
   "execution_count": 20,
   "metadata": {},
   "outputs": [],
   "source": [
    "# a = df_Ch022.iloc[:split].values.max(axis=0)\n",
    "# b = df_Ch022.iloc[split:].values.max(axis=0)\n",
    "\n",
    "# print(a>b)"
   ]
  },
  {
   "cell_type": "code",
   "execution_count": 21,
   "metadata": {},
   "outputs": [],
   "source": [
    "df_pred.to_pickle(Path(\"C:/Users/Victor/Desktop/PIR/model/saved_models/log_SVM_predict_test.pkl\"))\n",
    "df_metrics=pd.DataFrame({\"MAE\": MAE, \"MSE\": MSE, \"RMSE\": RMSE})\n",
    "df_metrics.to_pickle(Path(\"C:/Users/Victor/Desktop/PIR/model/saved_models/log_SVM_metrics_test.pkl\"))"
   ]
  },
  {
   "cell_type": "code",
   "execution_count": 22,
   "metadata": {},
   "outputs": [
    {
     "output_type": "execute_result",
     "data": {
      "text/plain": [
       "         MAE          MSE       RMSE\n",
       "0   0.733081     0.845234   0.919366\n",
       "1   1.243578     2.222639   1.490852\n",
       "2   1.271607     2.558101   1.599407\n",
       "3   2.113443     8.245485   2.871495\n",
       "4   3.729374    30.525880   5.525023\n",
       "5   4.781286    39.933241   6.319275\n",
       "6   5.242276    46.736677   6.836423\n",
       "7   5.231295    45.486176   6.744344\n",
       "8   4.360381    33.776415   5.811748\n",
       "9   3.088563    16.842098   4.103912\n",
       "10  2.038714     8.054882   2.838112\n",
       "11  1.326512     3.975146   1.993777\n",
       "12  0.756445     1.417486   1.190582\n",
       "13  0.521057     0.896125   0.946639\n",
       "14  0.410194     0.874489   0.935141\n",
       "15  0.389166     2.969211   1.723140\n",
       "16  0.378794     4.087196   2.021682\n",
       "17  0.432528     7.311881   2.704049\n",
       "18  0.562568    16.790750   4.097652\n",
       "19  0.785358    35.257569   5.937808\n",
       "20  1.106439    50.735798   7.122907\n",
       "21  3.050537   672.432434  25.931302\n",
       "22  1.603241   145.751611  12.072763\n",
       "23  1.817532   197.134341  14.040454\n",
       "24  2.110393   316.877539  17.801054\n",
       "25  2.450272   362.088457  19.028622\n",
       "26  2.816932   459.835825  21.443783\n",
       "27  3.232516   634.738071  25.194009\n",
       "28  3.716955   825.657963  28.734265\n",
       "29  4.122005  1049.010536  32.388432\n",
       "30  4.360359  1096.581649  33.114674\n",
       "31  4.634979  1421.036571  37.696639\n",
       "32  4.873090  1393.398285  37.328250\n",
       "33  4.708285  1245.343756  35.289428"
      ],
      "text/html": "<div>\n<style scoped>\n    .dataframe tbody tr th:only-of-type {\n        vertical-align: middle;\n    }\n\n    .dataframe tbody tr th {\n        vertical-align: top;\n    }\n\n    .dataframe thead th {\n        text-align: right;\n    }\n</style>\n<table border=\"1\" class=\"dataframe\">\n  <thead>\n    <tr style=\"text-align: right;\">\n      <th></th>\n      <th>MAE</th>\n      <th>MSE</th>\n      <th>RMSE</th>\n    </tr>\n  </thead>\n  <tbody>\n    <tr>\n      <th>0</th>\n      <td>0.733081</td>\n      <td>0.845234</td>\n      <td>0.919366</td>\n    </tr>\n    <tr>\n      <th>1</th>\n      <td>1.243578</td>\n      <td>2.222639</td>\n      <td>1.490852</td>\n    </tr>\n    <tr>\n      <th>2</th>\n      <td>1.271607</td>\n      <td>2.558101</td>\n      <td>1.599407</td>\n    </tr>\n    <tr>\n      <th>3</th>\n      <td>2.113443</td>\n      <td>8.245485</td>\n      <td>2.871495</td>\n    </tr>\n    <tr>\n      <th>4</th>\n      <td>3.729374</td>\n      <td>30.525880</td>\n      <td>5.525023</td>\n    </tr>\n    <tr>\n      <th>5</th>\n      <td>4.781286</td>\n      <td>39.933241</td>\n      <td>6.319275</td>\n    </tr>\n    <tr>\n      <th>6</th>\n      <td>5.242276</td>\n      <td>46.736677</td>\n      <td>6.836423</td>\n    </tr>\n    <tr>\n      <th>7</th>\n      <td>5.231295</td>\n      <td>45.486176</td>\n      <td>6.744344</td>\n    </tr>\n    <tr>\n      <th>8</th>\n      <td>4.360381</td>\n      <td>33.776415</td>\n      <td>5.811748</td>\n    </tr>\n    <tr>\n      <th>9</th>\n      <td>3.088563</td>\n      <td>16.842098</td>\n      <td>4.103912</td>\n    </tr>\n    <tr>\n      <th>10</th>\n      <td>2.038714</td>\n      <td>8.054882</td>\n      <td>2.838112</td>\n    </tr>\n    <tr>\n      <th>11</th>\n      <td>1.326512</td>\n      <td>3.975146</td>\n      <td>1.993777</td>\n    </tr>\n    <tr>\n      <th>12</th>\n      <td>0.756445</td>\n      <td>1.417486</td>\n      <td>1.190582</td>\n    </tr>\n    <tr>\n      <th>13</th>\n      <td>0.521057</td>\n      <td>0.896125</td>\n      <td>0.946639</td>\n    </tr>\n    <tr>\n      <th>14</th>\n      <td>0.410194</td>\n      <td>0.874489</td>\n      <td>0.935141</td>\n    </tr>\n    <tr>\n      <th>15</th>\n      <td>0.389166</td>\n      <td>2.969211</td>\n      <td>1.723140</td>\n    </tr>\n    <tr>\n      <th>16</th>\n      <td>0.378794</td>\n      <td>4.087196</td>\n      <td>2.021682</td>\n    </tr>\n    <tr>\n      <th>17</th>\n      <td>0.432528</td>\n      <td>7.311881</td>\n      <td>2.704049</td>\n    </tr>\n    <tr>\n      <th>18</th>\n      <td>0.562568</td>\n      <td>16.790750</td>\n      <td>4.097652</td>\n    </tr>\n    <tr>\n      <th>19</th>\n      <td>0.785358</td>\n      <td>35.257569</td>\n      <td>5.937808</td>\n    </tr>\n    <tr>\n      <th>20</th>\n      <td>1.106439</td>\n      <td>50.735798</td>\n      <td>7.122907</td>\n    </tr>\n    <tr>\n      <th>21</th>\n      <td>3.050537</td>\n      <td>672.432434</td>\n      <td>25.931302</td>\n    </tr>\n    <tr>\n      <th>22</th>\n      <td>1.603241</td>\n      <td>145.751611</td>\n      <td>12.072763</td>\n    </tr>\n    <tr>\n      <th>23</th>\n      <td>1.817532</td>\n      <td>197.134341</td>\n      <td>14.040454</td>\n    </tr>\n    <tr>\n      <th>24</th>\n      <td>2.110393</td>\n      <td>316.877539</td>\n      <td>17.801054</td>\n    </tr>\n    <tr>\n      <th>25</th>\n      <td>2.450272</td>\n      <td>362.088457</td>\n      <td>19.028622</td>\n    </tr>\n    <tr>\n      <th>26</th>\n      <td>2.816932</td>\n      <td>459.835825</td>\n      <td>21.443783</td>\n    </tr>\n    <tr>\n      <th>27</th>\n      <td>3.232516</td>\n      <td>634.738071</td>\n      <td>25.194009</td>\n    </tr>\n    <tr>\n      <th>28</th>\n      <td>3.716955</td>\n      <td>825.657963</td>\n      <td>28.734265</td>\n    </tr>\n    <tr>\n      <th>29</th>\n      <td>4.122005</td>\n      <td>1049.010536</td>\n      <td>32.388432</td>\n    </tr>\n    <tr>\n      <th>30</th>\n      <td>4.360359</td>\n      <td>1096.581649</td>\n      <td>33.114674</td>\n    </tr>\n    <tr>\n      <th>31</th>\n      <td>4.634979</td>\n      <td>1421.036571</td>\n      <td>37.696639</td>\n    </tr>\n    <tr>\n      <th>32</th>\n      <td>4.873090</td>\n      <td>1393.398285</td>\n      <td>37.328250</td>\n    </tr>\n    <tr>\n      <th>33</th>\n      <td>4.708285</td>\n      <td>1245.343756</td>\n      <td>35.289428</td>\n    </tr>\n  </tbody>\n</table>\n</div>"
     },
     "metadata": {},
     "execution_count": 22
    }
   ],
   "source": [
    "df_metrics"
   ]
  },
  {
   "cell_type": "code",
   "execution_count": null,
   "metadata": {},
   "outputs": [],
   "source": []
  }
 ]
}