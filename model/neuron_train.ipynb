{
 "metadata": {
  "language_info": {
   "codemirror_mode": {
    "name": "ipython",
    "version": 3
   },
   "file_extension": ".py",
   "mimetype": "text/x-python",
   "name": "python",
   "nbconvert_exporter": "python",
   "pygments_lexer": "ipython3",
   "version": "3.9.5"
  },
  "orig_nbformat": 2,
  "kernelspec": {
   "name": "myenv",
   "display_name": "Python 3.9.5  ('.venv': venv)"
  }
 },
 "nbformat": 4,
 "nbformat_minor": 2,
 "cells": [
  {
   "cell_type": "code",
   "execution_count": 3,
   "metadata": {},
   "outputs": [],
   "source": [
    "import matplotlib.pyplot as plt\n",
    "import numpy as np\n",
    "import pandas as pd\n",
    "import torch\n",
    "import seaborn as sns\n",
    "\n",
    "from pathlib import Path\n",
    "from model_util import *\n",
    "from sklearn.preprocessing import MinMaxScaler, StandardScaler\n",
    "from neuron_model import *"
   ]
  },
  {
   "source": [
    "### Import data"
   ],
   "cell_type": "markdown",
   "metadata": {}
  },
  {
   "source": [
    "df_Ch001 = pd.read_pickle(Path(\"../process/Ch001.pkl\"))\n",
    "df_Ch009 = pd.read_pickle(Path(\"../process/Ch009.pkl\"))\n",
    "df_Ch020 = pd.read_pickle(Path(\"../process/Ch020.pkl\"))\n",
    "df_Ch022 = pd.read_pickle(Path(\"../process/Ch022.pkl\"))"
   ],
   "cell_type": "code",
   "metadata": {},
   "execution_count": 4,
   "outputs": []
  },
  {
   "source": [
    "### train parameters"
   ],
   "cell_type": "markdown",
   "metadata": {}
  },
  {
   "cell_type": "code",
   "execution_count": 5,
   "metadata": {},
   "outputs": [],
   "source": [
    "df_input=[df_Ch001, df_Ch020, df_Ch009]\n",
    "log_noise=1\n",
    "network= \"cnn_v2\"\n",
    "window= 118\n",
    "model= CNN_v2()\n",
    "batch_size= 512\n",
    "lr=0.001\n",
    "epochs= 1000\n",
    "patience= 10\n",
    "savename=\"CNN\"\n",
    "version=\"v2\""
   ]
  },
  {
   "source": [
    "### scaling and formating data to tensor"
   ],
   "cell_type": "markdown",
   "metadata": {}
  },
  {
   "cell_type": "code",
   "execution_count": 12,
   "metadata": {},
   "outputs": [],
   "source": [
    "# log-transforming and scaling data\n",
    "data_input = [data_log_scaler(df) for df in df_input]\n",
    "data_target , scaler = data_log_scaler(df_Ch022, output= True)\n",
    "# formatting data\n",
    "data_input, data_target = data_formatter(data_input, data_target, network, window)"
   ]
  },
  {
   "cell_type": "code",
   "execution_count": 17,
   "metadata": {},
   "outputs": [],
   "source": [
    "#define split to separate train and test data\n",
    "split = int(len(data_input)*0.15)"
   ]
  },
  {
   "cell_type": "code",
   "execution_count": 21,
   "metadata": {},
   "outputs": [
    {
     "output_type": "stream",
     "name": "stdout",
     "text": [
      "(28, 3, 118, 34) (6, 3, 118, 34) (28, 118, 34) (6, 118, 34)\n"
     ]
    }
   ],
   "source": [
    "#split data into train and val, transform all data to pytorch tensor\n",
    "from sklearn.model_selection import train_test_split\n",
    "\n",
    "X_train, X_val, y_train, y_val = train_test_split(data_input[split:], data_target[split:], test_size=0.15, random_state=10)\n",
    "\n",
    "train_size=y_train.shape[0]\n",
    "val_size=y_val.shape[0]\n",
    "print(X_train.shape, X_val.shape, y_train.shape, y_val.shape)"
   ]
  },
  {
   "cell_type": "code",
   "execution_count": 34,
   "metadata": {},
   "outputs": [],
   "source": [
    "from torch import nn, optim\n",
    "import torch.nn.functional as F\n",
    "from torch.utils.data import TensorDataset, DataLoader"
   ]
  },
  {
   "cell_type": "code",
   "execution_count": 35,
   "metadata": {},
   "outputs": [],
   "source": [
    "trainset = TensorDataset(X_train, y_train)\n",
    "train_loader = DataLoader(trainset, batch_size=train_size)\n",
    "validationset= TensorDataset(X_val, y_val)\n",
    "val_loader = DataLoader(validationset, batch_size=val_size)"
   ]
  },
  {
   "source": [
    "### CNN model"
   ],
   "cell_type": "markdown",
   "metadata": {}
  },
  {
   "cell_type": "code",
   "execution_count": 36,
   "metadata": {},
   "outputs": [],
   "source": [
    "#defining optimizer and loss, moving model to gpu if available\n",
    "device = torch.device(\"cuda:0\" if torch.cuda.is_available() else \"cpu\")\n",
    "model.to(device)\n",
    "optimizer = optim.Adam(model.parameters(), lr=lr)\n",
    "criterion = nn.MSELoss()"
   ]
  },
  {
   "source": [
    "### Training and Evaluating using Ignite"
   ],
   "cell_type": "markdown",
   "metadata": {}
  },
  {
   "cell_type": "code",
   "execution_count": 37,
   "metadata": {},
   "outputs": [],
   "source": [
    "from ignite.engine import Events, create_supervised_trainer, create_supervised_evaluator\n",
    "from ignite.metrics import Loss, RunningAverage\n",
    "from ignite.handlers import ModelCheckpoint, EarlyStopping"
   ]
  },
  {
   "cell_type": "code",
   "execution_count": 38,
   "metadata": {},
   "outputs": [],
   "source": [
    "# defining the number of epochs\n",
    "epochs = epochs\n",
    "# creating trainer,evaluator\n",
    "trainer = create_supervised_trainer(model, optimizer, criterion, device=device)\n",
    "metrics = {\n",
    "    'MSE':Loss(criterion)\n",
    "}\n",
    "train_evaluator = create_supervised_evaluator(model, metrics=metrics, device=device)\n",
    "val_evaluator = create_supervised_evaluator(model, metrics=metrics, device=device)\n",
    "training_history = {'loss':[]}\n",
    "validation_history = {'loss':[]}\n",
    "last_epoch = []"
   ]
  },
  {
   "cell_type": "code",
   "execution_count": 39,
   "metadata": {},
   "outputs": [],
   "source": [
    "RunningAverage(output_transform=lambda x: x).attach(trainer, 'loss')"
   ]
  },
  {
   "cell_type": "code",
   "execution_count": 40,
   "metadata": {},
   "outputs": [
    {
     "output_type": "execute_result",
     "data": {
      "text/plain": [
       "<ignite.engine.events.RemovableEventHandle at 0x214c250fe50>"
      ]
     },
     "metadata": {},
     "execution_count": 40
    }
   ],
   "source": [
    "def score_function(engine):\n",
    "    val_loss = engine.state.metrics['MSE']\n",
    "    return -val_loss\n",
    "\n",
    "handler = EarlyStopping(patience=patience, score_function=score_function, trainer=trainer)\n",
    "val_evaluator.add_event_handler(Events.COMPLETED, handler)"
   ]
  },
  {
   "cell_type": "code",
   "execution_count": 41,
   "metadata": {},
   "outputs": [
    {
     "output_type": "execute_result",
     "data": {
      "text/plain": [
       "<ignite.engine.events.RemovableEventHandle at 0x214c253e490>"
      ]
     },
     "metadata": {},
     "execution_count": 41
    }
   ],
   "source": [
    "@trainer.on(Events.EPOCH_COMPLETED)\n",
    "def log_training_results(trainer):\n",
    "    train_evaluator.run(train_loader)\n",
    "    metrics = train_evaluator.state.metrics\n",
    "    loss = metrics['MSE']\n",
    "    last_epoch.append(0)\n",
    "    training_history['loss'].append(loss)\n",
    "    print(\"Training Results - Epoch: {}  Avg loss: {:.2f}\"\n",
    "          .format(trainer.state.epoch, loss))\n",
    "\n",
    "def log_validation_results(trainer):\n",
    "    val_evaluator.run(val_loader)\n",
    "    metrics = val_evaluator.state.metrics\n",
    "    loss = metrics['MSE']\n",
    "    validation_history['loss'].append(loss)\n",
    "    print(\"Validation Results - Epoch: {}  Avg loss: {:.2f}\"\n",
    "          .format(trainer.state.epoch, loss))\n",
    "    \n",
    "trainer.add_event_handler(Events.EPOCH_COMPLETED, log_validation_results)  "
   ]
  },
  {
   "source": [
    "### model save"
   ],
   "cell_type": "markdown",
   "metadata": {}
  },
  {
   "cell_type": "code",
   "execution_count": 42,
   "metadata": {},
   "outputs": [
    {
     "output_type": "execute_result",
     "data": {
      "text/plain": [
       "<ignite.engine.events.RemovableEventHandle at 0x214c253e7f0>"
      ]
     },
     "metadata": {},
     "execution_count": 42
    }
   ],
   "source": [
    "checkpointer = ModelCheckpoint(Path('./saved_models'), savename, n_saved=1, create_dir=True, save_as_state_dict=True, require_empty=False)\n",
    "\n",
    "trainer.add_event_handler(Events.EPOCH_COMPLETED, checkpointer, {version : model})"
   ]
  },
  {
   "source": [
    "### Run Engine"
   ],
   "cell_type": "markdown",
   "metadata": {}
  },
  {
   "cell_type": "code",
   "execution_count": 43,
   "metadata": {
    "tags": [
     "outputPrepend"
    ]
   },
   "outputs": [
    {
     "output_type": "stream",
     "name": "stdout",
     "text": [
      "h: 72  Avg loss: 0.02\n",
      "Training Results - Epoch: 73  Avg loss: 0.02\n",
      "Validation Results - Epoch: 73  Avg loss: 0.02\n",
      "Training Results - Epoch: 74  Avg loss: 0.02\n",
      "Validation Results - Epoch: 74  Avg loss: 0.02\n",
      "Training Results - Epoch: 75  Avg loss: 0.02\n",
      "Validation Results - Epoch: 75  Avg loss: 0.02\n",
      "Training Results - Epoch: 76  Avg loss: 0.02\n",
      "Validation Results - Epoch: 76  Avg loss: 0.02\n",
      "Training Results - Epoch: 77  Avg loss: 0.02\n",
      "Validation Results - Epoch: 77  Avg loss: 0.02\n",
      "Training Results - Epoch: 78  Avg loss: 0.02\n",
      "Validation Results - Epoch: 78  Avg loss: 0.02\n",
      "Training Results - Epoch: 79  Avg loss: 0.02\n",
      "Validation Results - Epoch: 79  Avg loss: 0.02\n",
      "Training Results - Epoch: 80  Avg loss: 0.02\n",
      "Validation Results - Epoch: 80  Avg loss: 0.02\n",
      "Training Results - Epoch: 81  Avg loss: 0.02\n",
      "Validation Results - Epoch: 81  Avg loss: 0.02\n",
      "Training Results - Epoch: 82  Avg loss: 0.02\n",
      "Validation Results - Epoch: 82  Avg loss: 0.02\n",
      "Training Results - Epoch: 83  Avg loss: 0.02\n",
      "Validation Results - Epoch: 83  Avg loss: 0.02\n",
      "Training Results - Epoch: 84  Avg loss: 0.02\n",
      "Validation Results - Epoch: 84  Avg loss: 0.02\n",
      "Training Results - Epoch: 85  Avg loss: 0.02\n",
      "Validation Results - Epoch: 85  Avg loss: 0.02\n",
      "Training Results - Epoch: 86  Avg loss: 0.02\n",
      "Validation Results - Epoch: 86  Avg loss: 0.02\n",
      "Training Results - Epoch: 87  Avg loss: 0.02\n",
      "Validation Results - Epoch: 87  Avg loss: 0.02\n",
      "Training Results - Epoch: 88  Avg loss: 0.02\n",
      "Validation Results - Epoch: 88  Avg loss: 0.02\n",
      "Training Results - Epoch: 89  Avg loss: 0.02\n",
      "Validation Results - Epoch: 89  Avg loss: 0.02\n",
      "Training Results - Epoch: 90  Avg loss: 0.02\n",
      "Validation Results - Epoch: 90  Avg loss: 0.02\n",
      "Training Results - Epoch: 91  Avg loss: 0.02\n",
      "Validation Results - Epoch: 91  Avg loss: 0.02\n",
      "Training Results - Epoch: 92  Avg loss: 0.02\n",
      "Validation Results - Epoch: 92  Avg loss: 0.02\n",
      "Training Results - Epoch: 93  Avg loss: 0.02\n",
      "Validation Results - Epoch: 93  Avg loss: 0.02\n",
      "Training Results - Epoch: 94  Avg loss: 0.02\n",
      "Validation Results - Epoch: 94  Avg loss: 0.02\n",
      "Training Results - Epoch: 95  Avg loss: 0.02\n",
      "Validation Results - Epoch: 95  Avg loss: 0.02\n",
      "Training Results - Epoch: 96  Avg loss: 0.02\n",
      "Validation Results - Epoch: 96  Avg loss: 0.02\n",
      "Training Results - Epoch: 97  Avg loss: 0.02\n",
      "Validation Results - Epoch: 97  Avg loss: 0.02\n",
      "Training Results - Epoch: 98  Avg loss: 0.02\n",
      "Validation Results - Epoch: 98  Avg loss: 0.02\n",
      "Training Results - Epoch: 99  Avg loss: 0.02\n",
      "Validation Results - Epoch: 99  Avg loss: 0.02\n",
      "Training Results - Epoch: 100  Avg loss: 0.02\n",
      "Validation Results - Epoch: 100  Avg loss: 0.02\n",
      "Training Results - Epoch: 101  Avg loss: 0.02\n",
      "Validation Results - Epoch: 101  Avg loss: 0.02\n",
      "Training Results - Epoch: 102  Avg loss: 0.02\n",
      "Validation Results - Epoch: 102  Avg loss: 0.02\n",
      "Training Results - Epoch: 103  Avg loss: 0.02\n",
      "Validation Results - Epoch: 103  Avg loss: 0.02\n",
      "Training Results - Epoch: 104  Avg loss: 0.02\n",
      "Validation Results - Epoch: 104  Avg loss: 0.02\n",
      "Training Results - Epoch: 105  Avg loss: 0.02\n",
      "Validation Results - Epoch: 105  Avg loss: 0.02\n",
      "Training Results - Epoch: 106  Avg loss: 0.02\n",
      "Validation Results - Epoch: 106  Avg loss: 0.02\n",
      "Training Results - Epoch: 107  Avg loss: 0.02\n",
      "Validation Results - Epoch: 107  Avg loss: 0.02\n",
      "Training Results - Epoch: 108  Avg loss: 0.02\n",
      "Validation Results - Epoch: 108  Avg loss: 0.02\n",
      "Training Results - Epoch: 109  Avg loss: 0.02\n",
      "Validation Results - Epoch: 109  Avg loss: 0.02\n",
      "Training Results - Epoch: 110  Avg loss: 0.02\n",
      "Validation Results - Epoch: 110  Avg loss: 0.02\n",
      "Training Results - Epoch: 111  Avg loss: 0.02\n",
      "Validation Results - Epoch: 111  Avg loss: 0.02\n",
      "Training Results - Epoch: 112  Avg loss: 0.02\n",
      "Validation Results - Epoch: 112  Avg loss: 0.02\n",
      "Training Results - Epoch: 113  Avg loss: 0.02\n",
      "Validation Results - Epoch: 113  Avg loss: 0.02\n",
      "Training Results - Epoch: 114  Avg loss: 0.02\n",
      "Validation Results - Epoch: 114  Avg loss: 0.02\n",
      "Training Results - Epoch: 115  Avg loss: 0.02\n",
      "Validation Results - Epoch: 115  Avg loss: 0.02\n",
      "Training Results - Epoch: 116  Avg loss: 0.02\n",
      "Validation Results - Epoch: 116  Avg loss: 0.02\n",
      "Training Results - Epoch: 117  Avg loss: 0.02\n",
      "Validation Results - Epoch: 117  Avg loss: 0.02\n",
      "Training Results - Epoch: 118  Avg loss: 0.02\n",
      "Validation Results - Epoch: 118  Avg loss: 0.02\n",
      "Training Results - Epoch: 119  Avg loss: 0.02\n",
      "Validation Results - Epoch: 119  Avg loss: 0.02\n",
      "Training Results - Epoch: 120  Avg loss: 0.02\n",
      "Validation Results - Epoch: 120  Avg loss: 0.02\n",
      "Training Results - Epoch: 121  Avg loss: 0.02\n",
      "Validation Results - Epoch: 121  Avg loss: 0.02\n",
      "Training Results - Epoch: 122  Avg loss: 0.02\n",
      "Validation Results - Epoch: 122  Avg loss: 0.02\n",
      "Training Results - Epoch: 123  Avg loss: 0.02\n",
      "Validation Results - Epoch: 123  Avg loss: 0.02\n",
      "Training Results - Epoch: 124  Avg loss: 0.02\n",
      "Validation Results - Epoch: 124  Avg loss: 0.02\n",
      "Training Results - Epoch: 125  Avg loss: 0.02\n",
      "Validation Results - Epoch: 125  Avg loss: 0.02\n",
      "Training Results - Epoch: 126  Avg loss: 0.02\n",
      "Validation Results - Epoch: 126  Avg loss: 0.02\n",
      "Training Results - Epoch: 127  Avg loss: 0.02\n",
      "Validation Results - Epoch: 127  Avg loss: 0.02\n",
      "Training Results - Epoch: 128  Avg loss: 0.02\n",
      "Validation Results - Epoch: 128  Avg loss: 0.02\n",
      "Training Results - Epoch: 129  Avg loss: 0.02\n",
      "Validation Results - Epoch: 129  Avg loss: 0.02\n",
      "Training Results - Epoch: 130  Avg loss: 0.02\n",
      "Validation Results - Epoch: 130  Avg loss: 0.02\n",
      "Training Results - Epoch: 131  Avg loss: 0.02\n",
      "Validation Results - Epoch: 131  Avg loss: 0.02\n",
      "Training Results - Epoch: 132  Avg loss: 0.02\n",
      "Validation Results - Epoch: 132  Avg loss: 0.02\n",
      "Training Results - Epoch: 133  Avg loss: 0.02\n",
      "Validation Results - Epoch: 133  Avg loss: 0.02\n",
      "Training Results - Epoch: 134  Avg loss: 0.02\n",
      "Validation Results - Epoch: 134  Avg loss: 0.02\n",
      "Training Results - Epoch: 135  Avg loss: 0.02\n",
      "Validation Results - Epoch: 135  Avg loss: 0.02\n",
      "Training Results - Epoch: 136  Avg loss: 0.02\n",
      "Validation Results - Epoch: 136  Avg loss: 0.02\n",
      "Training Results - Epoch: 137  Avg loss: 0.02\n",
      "Validation Results - Epoch: 137  Avg loss: 0.02\n",
      "Training Results - Epoch: 138  Avg loss: 0.02\n",
      "Validation Results - Epoch: 138  Avg loss: 0.02\n",
      "Training Results - Epoch: 139  Avg loss: 0.02\n",
      "Validation Results - Epoch: 139  Avg loss: 0.02\n",
      "Training Results - Epoch: 140  Avg loss: 0.02\n",
      "Validation Results - Epoch: 140  Avg loss: 0.02\n",
      "Training Results - Epoch: 141  Avg loss: 0.02\n",
      "Validation Results - Epoch: 141  Avg loss: 0.02\n",
      "Training Results - Epoch: 142  Avg loss: 0.02\n",
      "Validation Results - Epoch: 142  Avg loss: 0.02\n",
      "Training Results - Epoch: 143  Avg loss: 0.02\n",
      "Validation Results - Epoch: 143  Avg loss: 0.02\n",
      "Training Results - Epoch: 144  Avg loss: 0.02\n",
      "Validation Results - Epoch: 144  Avg loss: 0.02\n",
      "Training Results - Epoch: 145  Avg loss: 0.02\n",
      "Validation Results - Epoch: 145  Avg loss: 0.02\n",
      "Training Results - Epoch: 146  Avg loss: 0.02\n",
      "Validation Results - Epoch: 146  Avg loss: 0.02\n",
      "Training Results - Epoch: 147  Avg loss: 0.02\n",
      "Validation Results - Epoch: 147  Avg loss: 0.02\n",
      "Training Results - Epoch: 148  Avg loss: 0.02\n",
      "Validation Results - Epoch: 148  Avg loss: 0.02\n",
      "Training Results - Epoch: 149  Avg loss: 0.02\n",
      "Validation Results - Epoch: 149  Avg loss: 0.02\n",
      "Training Results - Epoch: 150  Avg loss: 0.02\n",
      "Validation Results - Epoch: 150  Avg loss: 0.02\n",
      "Training Results - Epoch: 151  Avg loss: 0.02\n",
      "Validation Results - Epoch: 151  Avg loss: 0.02\n",
      "Training Results - Epoch: 152  Avg loss: 0.02\n",
      "Validation Results - Epoch: 152  Avg loss: 0.02\n",
      "Training Results - Epoch: 153  Avg loss: 0.02\n",
      "Validation Results - Epoch: 153  Avg loss: 0.02\n",
      "Training Results - Epoch: 154  Avg loss: 0.02\n",
      "Validation Results - Epoch: 154  Avg loss: 0.02\n",
      "Training Results - Epoch: 155  Avg loss: 0.02\n",
      "Validation Results - Epoch: 155  Avg loss: 0.02\n",
      "Training Results - Epoch: 156  Avg loss: 0.02\n",
      "Validation Results - Epoch: 156  Avg loss: 0.02\n",
      "Training Results - Epoch: 157  Avg loss: 0.02\n",
      "Validation Results - Epoch: 157  Avg loss: 0.02\n",
      "Training Results - Epoch: 158  Avg loss: 0.02\n",
      "Validation Results - Epoch: 158  Avg loss: 0.02\n",
      "Training Results - Epoch: 159  Avg loss: 0.02\n",
      "Validation Results - Epoch: 159  Avg loss: 0.02\n",
      "Training Results - Epoch: 160  Avg loss: 0.02\n",
      "Validation Results - Epoch: 160  Avg loss: 0.02\n",
      "Training Results - Epoch: 161  Avg loss: 0.02\n",
      "Validation Results - Epoch: 161  Avg loss: 0.02\n",
      "Training Results - Epoch: 162  Avg loss: 0.02\n",
      "Validation Results - Epoch: 162  Avg loss: 0.02\n",
      "Training Results - Epoch: 163  Avg loss: 0.02\n",
      "Validation Results - Epoch: 163  Avg loss: 0.02\n",
      "Training Results - Epoch: 164  Avg loss: 0.02\n",
      "Validation Results - Epoch: 164  Avg loss: 0.02\n",
      "Training Results - Epoch: 165  Avg loss: 0.02\n",
      "Validation Results - Epoch: 165  Avg loss: 0.02\n",
      "Training Results - Epoch: 166  Avg loss: 0.02\n",
      "Validation Results - Epoch: 166  Avg loss: 0.02\n",
      "Training Results - Epoch: 167  Avg loss: 0.02\n",
      "Validation Results - Epoch: 167  Avg loss: 0.02\n",
      "Training Results - Epoch: 168  Avg loss: 0.02\n",
      "Validation Results - Epoch: 168  Avg loss: 0.02\n",
      "Training Results - Epoch: 169  Avg loss: 0.02\n",
      "Validation Results - Epoch: 169  Avg loss: 0.02\n",
      "Training Results - Epoch: 170  Avg loss: 0.02\n",
      "Validation Results - Epoch: 170  Avg loss: 0.02\n",
      "Training Results - Epoch: 171  Avg loss: 0.02\n",
      "Validation Results - Epoch: 171  Avg loss: 0.02\n",
      "Training Results - Epoch: 172  Avg loss: 0.02\n",
      "Validation Results - Epoch: 172  Avg loss: 0.02\n",
      "Training Results - Epoch: 173  Avg loss: 0.02\n",
      "Validation Results - Epoch: 173  Avg loss: 0.02\n",
      "Training Results - Epoch: 174  Avg loss: 0.02\n",
      "Validation Results - Epoch: 174  Avg loss: 0.02\n",
      "Training Results - Epoch: 175  Avg loss: 0.02\n",
      "Validation Results - Epoch: 175  Avg loss: 0.02\n",
      "Training Results - Epoch: 176  Avg loss: 0.02\n",
      "Validation Results - Epoch: 176  Avg loss: 0.02\n",
      "Training Results - Epoch: 177  Avg loss: 0.02\n",
      "Validation Results - Epoch: 177  Avg loss: 0.02\n",
      "Training Results - Epoch: 178  Avg loss: 0.02\n",
      "Validation Results - Epoch: 178  Avg loss: 0.02\n",
      "Training Results - Epoch: 179  Avg loss: 0.02\n",
      "Validation Results - Epoch: 179  Avg loss: 0.02\n",
      "Training Results - Epoch: 180  Avg loss: 0.02\n",
      "Validation Results - Epoch: 180  Avg loss: 0.02\n",
      "Training Results - Epoch: 181  Avg loss: 0.02\n",
      "Validation Results - Epoch: 181  Avg loss: 0.02\n",
      "Training Results - Epoch: 182  Avg loss: 0.02\n",
      "Validation Results - Epoch: 182  Avg loss: 0.02\n",
      "Training Results - Epoch: 183  Avg loss: 0.02\n",
      "Validation Results - Epoch: 183  Avg loss: 0.02\n",
      "Training Results - Epoch: 184  Avg loss: 0.02\n",
      "Validation Results - Epoch: 184  Avg loss: 0.02\n",
      "Training Results - Epoch: 185  Avg loss: 0.02\n",
      "Validation Results - Epoch: 185  Avg loss: 0.02\n",
      "Training Results - Epoch: 186  Avg loss: 0.02\n",
      "Validation Results - Epoch: 186  Avg loss: 0.02\n",
      "Training Results - Epoch: 187  Avg loss: 0.02\n",
      "Validation Results - Epoch: 187  Avg loss: 0.02\n",
      "Training Results - Epoch: 188  Avg loss: 0.02\n",
      "Validation Results - Epoch: 188  Avg loss: 0.02\n",
      "Training Results - Epoch: 189  Avg loss: 0.02\n",
      "Validation Results - Epoch: 189  Avg loss: 0.02\n",
      "Training Results - Epoch: 190  Avg loss: 0.02\n",
      "Validation Results - Epoch: 190  Avg loss: 0.02\n",
      "Training Results - Epoch: 191  Avg loss: 0.02\n",
      "Validation Results - Epoch: 191  Avg loss: 0.02\n",
      "Training Results - Epoch: 192  Avg loss: 0.02\n",
      "Validation Results - Epoch: 192  Avg loss: 0.02\n",
      "Training Results - Epoch: 193  Avg loss: 0.02\n",
      "Validation Results - Epoch: 193  Avg loss: 0.02\n",
      "Training Results - Epoch: 194  Avg loss: 0.02\n",
      "Validation Results - Epoch: 194  Avg loss: 0.02\n",
      "Training Results - Epoch: 195  Avg loss: 0.02\n",
      "Validation Results - Epoch: 195  Avg loss: 0.02\n",
      "Training Results - Epoch: 196  Avg loss: 0.02\n",
      "Validation Results - Epoch: 196  Avg loss: 0.02\n",
      "Training Results - Epoch: 197  Avg loss: 0.02\n",
      "Validation Results - Epoch: 197  Avg loss: 0.02\n",
      "Training Results - Epoch: 198  Avg loss: 0.02\n",
      "Validation Results - Epoch: 198  Avg loss: 0.02\n",
      "Training Results - Epoch: 199  Avg loss: 0.02\n",
      "Validation Results - Epoch: 199  Avg loss: 0.02\n",
      "Training Results - Epoch: 200  Avg loss: 0.02\n",
      "Validation Results - Epoch: 200  Avg loss: 0.02\n",
      "Training Results - Epoch: 201  Avg loss: 0.02\n",
      "Validation Results - Epoch: 201  Avg loss: 0.02\n",
      "Training Results - Epoch: 202  Avg loss: 0.02\n",
      "Validation Results - Epoch: 202  Avg loss: 0.02\n",
      "Training Results - Epoch: 203  Avg loss: 0.02\n",
      "Validation Results - Epoch: 203  Avg loss: 0.02\n",
      "Training Results - Epoch: 204  Avg loss: 0.02\n",
      "Validation Results - Epoch: 204  Avg loss: 0.02\n",
      "Training Results - Epoch: 205  Avg loss: 0.02\n",
      "Validation Results - Epoch: 205  Avg loss: 0.02\n",
      "Training Results - Epoch: 206  Avg loss: 0.02\n",
      "Validation Results - Epoch: 206  Avg loss: 0.02\n",
      "Training Results - Epoch: 207  Avg loss: 0.02\n",
      "Validation Results - Epoch: 207  Avg loss: 0.02\n",
      "Training Results - Epoch: 208  Avg loss: 0.02\n",
      "Validation Results - Epoch: 208  Avg loss: 0.02\n",
      "Training Results - Epoch: 209  Avg loss: 0.02\n",
      "Validation Results - Epoch: 209  Avg loss: 0.02\n",
      "Training Results - Epoch: 210  Avg loss: 0.02\n",
      "Validation Results - Epoch: 210  Avg loss: 0.02\n",
      "Training Results - Epoch: 211  Avg loss: 0.02\n",
      "Validation Results - Epoch: 211  Avg loss: 0.02\n",
      "Training Results - Epoch: 212  Avg loss: 0.02\n",
      "Validation Results - Epoch: 212  Avg loss: 0.02\n",
      "Training Results - Epoch: 213  Avg loss: 0.02\n",
      "Validation Results - Epoch: 213  Avg loss: 0.02\n",
      "Training Results - Epoch: 214  Avg loss: 0.02\n",
      "Validation Results - Epoch: 214  Avg loss: 0.02\n",
      "Training Results - Epoch: 215  Avg loss: 0.02\n",
      "Validation Results - Epoch: 215  Avg loss: 0.02\n",
      "Training Results - Epoch: 216  Avg loss: 0.02\n",
      "Validation Results - Epoch: 216  Avg loss: 0.02\n",
      "Training Results - Epoch: 217  Avg loss: 0.02\n",
      "Validation Results - Epoch: 217  Avg loss: 0.02\n",
      "Training Results - Epoch: 218  Avg loss: 0.02\n",
      "Validation Results - Epoch: 218  Avg loss: 0.02\n",
      "Training Results - Epoch: 219  Avg loss: 0.02\n",
      "Validation Results - Epoch: 219  Avg loss: 0.02\n",
      "Training Results - Epoch: 220  Avg loss: 0.02\n",
      "Validation Results - Epoch: 220  Avg loss: 0.02\n",
      "Training Results - Epoch: 221  Avg loss: 0.02\n",
      "Validation Results - Epoch: 221  Avg loss: 0.02\n",
      "Training Results - Epoch: 222  Avg loss: 0.02\n",
      "Validation Results - Epoch: 222  Avg loss: 0.02\n",
      "Training Results - Epoch: 223  Avg loss: 0.02\n",
      "Validation Results - Epoch: 223  Avg loss: 0.02\n",
      "Training Results - Epoch: 224  Avg loss: 0.02\n",
      "Validation Results - Epoch: 224  Avg loss: 0.02\n",
      "Training Results - Epoch: 225  Avg loss: 0.02\n",
      "Validation Results - Epoch: 225  Avg loss: 0.02\n",
      "Training Results - Epoch: 226  Avg loss: 0.02\n",
      "Validation Results - Epoch: 226  Avg loss: 0.02\n",
      "Training Results - Epoch: 227  Avg loss: 0.02\n",
      "Validation Results - Epoch: 227  Avg loss: 0.02\n",
      "Training Results - Epoch: 228  Avg loss: 0.02\n",
      "Validation Results - Epoch: 228  Avg loss: 0.02\n",
      "Training Results - Epoch: 229  Avg loss: 0.02\n",
      "Validation Results - Epoch: 229  Avg loss: 0.02\n",
      "Training Results - Epoch: 230  Avg loss: 0.02\n",
      "Validation Results - Epoch: 230  Avg loss: 0.02\n",
      "Training Results - Epoch: 231  Avg loss: 0.02\n",
      "Validation Results - Epoch: 231  Avg loss: 0.02\n",
      "Training Results - Epoch: 232  Avg loss: 0.02\n",
      "Validation Results - Epoch: 232  Avg loss: 0.02\n",
      "Training Results - Epoch: 233  Avg loss: 0.02\n",
      "Validation Results - Epoch: 233  Avg loss: 0.02\n",
      "Training Results - Epoch: 234  Avg loss: 0.02\n",
      "Validation Results - Epoch: 234  Avg loss: 0.02\n",
      "Training Results - Epoch: 235  Avg loss: 0.02\n",
      "Validation Results - Epoch: 235  Avg loss: 0.02\n",
      "Training Results - Epoch: 236  Avg loss: 0.02\n",
      "Validation Results - Epoch: 236  Avg loss: 0.02\n",
      "Training Results - Epoch: 237  Avg loss: 0.02\n",
      "Validation Results - Epoch: 237  Avg loss: 0.02\n",
      "Training Results - Epoch: 238  Avg loss: 0.02\n",
      "Validation Results - Epoch: 238  Avg loss: 0.02\n",
      "Training Results - Epoch: 239  Avg loss: 0.02\n",
      "Validation Results - Epoch: 239  Avg loss: 0.02\n",
      "Training Results - Epoch: 240  Avg loss: 0.02\n",
      "Validation Results - Epoch: 240  Avg loss: 0.02\n",
      "Training Results - Epoch: 241  Avg loss: 0.02\n",
      "Validation Results - Epoch: 241  Avg loss: 0.02\n",
      "Training Results - Epoch: 242  Avg loss: 0.02\n",
      "Validation Results - Epoch: 242  Avg loss: 0.02\n",
      "Training Results - Epoch: 243  Avg loss: 0.02\n",
      "Validation Results - Epoch: 243  Avg loss: 0.02\n",
      "Training Results - Epoch: 244  Avg loss: 0.02\n",
      "Validation Results - Epoch: 244  Avg loss: 0.02\n",
      "Training Results - Epoch: 245  Avg loss: 0.02\n",
      "Validation Results - Epoch: 245  Avg loss: 0.02\n",
      "Training Results - Epoch: 246  Avg loss: 0.02\n",
      "Validation Results - Epoch: 246  Avg loss: 0.02\n",
      "Training Results - Epoch: 247  Avg loss: 0.02\n",
      "Validation Results - Epoch: 247  Avg loss: 0.02\n",
      "Training Results - Epoch: 248  Avg loss: 0.02\n",
      "Validation Results - Epoch: 248  Avg loss: 0.02\n",
      "Training Results - Epoch: 249  Avg loss: 0.02\n",
      "Validation Results - Epoch: 249  Avg loss: 0.02\n",
      "Training Results - Epoch: 250  Avg loss: 0.02\n",
      "Validation Results - Epoch: 250  Avg loss: 0.02\n",
      "Training Results - Epoch: 251  Avg loss: 0.02\n",
      "Validation Results - Epoch: 251  Avg loss: 0.02\n",
      "Training Results - Epoch: 252  Avg loss: 0.02\n",
      "Validation Results - Epoch: 252  Avg loss: 0.02\n",
      "Training Results - Epoch: 253  Avg loss: 0.02\n",
      "Validation Results - Epoch: 253  Avg loss: 0.02\n",
      "Training Results - Epoch: 254  Avg loss: 0.02\n",
      "Validation Results - Epoch: 254  Avg loss: 0.02\n",
      "Training Results - Epoch: 255  Avg loss: 0.02\n",
      "Validation Results - Epoch: 255  Avg loss: 0.02\n",
      "Training Results - Epoch: 256  Avg loss: 0.02\n",
      "Validation Results - Epoch: 256  Avg loss: 0.02\n",
      "Training Results - Epoch: 257  Avg loss: 0.02\n",
      "Validation Results - Epoch: 257  Avg loss: 0.02\n",
      "Training Results - Epoch: 258  Avg loss: 0.02\n",
      "Validation Results - Epoch: 258  Avg loss: 0.02\n",
      "Training Results - Epoch: 259  Avg loss: 0.02\n",
      "Validation Results - Epoch: 259  Avg loss: 0.02\n",
      "Training Results - Epoch: 260  Avg loss: 0.02\n",
      "Validation Results - Epoch: 260  Avg loss: 0.02\n",
      "Training Results - Epoch: 261  Avg loss: 0.02\n",
      "Validation Results - Epoch: 261  Avg loss: 0.02\n",
      "Training Results - Epoch: 262  Avg loss: 0.02\n",
      "Validation Results - Epoch: 262  Avg loss: 0.02\n",
      "Training Results - Epoch: 263  Avg loss: 0.02\n",
      "Validation Results - Epoch: 263  Avg loss: 0.02\n",
      "Training Results - Epoch: 264  Avg loss: 0.02\n",
      "Validation Results - Epoch: 264  Avg loss: 0.02\n",
      "Training Results - Epoch: 265  Avg loss: 0.02\n",
      "Validation Results - Epoch: 265  Avg loss: 0.02\n",
      "Training Results - Epoch: 266  Avg loss: 0.02\n",
      "Validation Results - Epoch: 266  Avg loss: 0.02\n",
      "Training Results - Epoch: 267  Avg loss: 0.02\n",
      "Validation Results - Epoch: 267  Avg loss: 0.02\n",
      "Training Results - Epoch: 268  Avg loss: 0.02\n",
      "Validation Results - Epoch: 268  Avg loss: 0.02\n",
      "Training Results - Epoch: 269  Avg loss: 0.02\n",
      "Validation Results - Epoch: 269  Avg loss: 0.02\n",
      "Training Results - Epoch: 270  Avg loss: 0.02\n",
      "Validation Results - Epoch: 270  Avg loss: 0.02\n",
      "Training Results - Epoch: 271  Avg loss: 0.02\n",
      "Validation Results - Epoch: 271  Avg loss: 0.02\n",
      "Training Results - Epoch: 272  Avg loss: 0.02\n",
      "Validation Results - Epoch: 272  Avg loss: 0.02\n",
      "Training Results - Epoch: 273  Avg loss: 0.02\n",
      "Validation Results - Epoch: 273  Avg loss: 0.02\n",
      "Training Results - Epoch: 274  Avg loss: 0.02\n",
      "Validation Results - Epoch: 274  Avg loss: 0.02\n",
      "Training Results - Epoch: 275  Avg loss: 0.02\n",
      "Validation Results - Epoch: 275  Avg loss: 0.02\n",
      "Training Results - Epoch: 276  Avg loss: 0.02\n",
      "Validation Results - Epoch: 276  Avg loss: 0.02\n",
      "Training Results - Epoch: 277  Avg loss: 0.02\n",
      "Validation Results - Epoch: 277  Avg loss: 0.02\n",
      "Training Results - Epoch: 278  Avg loss: 0.02\n",
      "Validation Results - Epoch: 278  Avg loss: 0.02\n",
      "Training Results - Epoch: 279  Avg loss: 0.02\n",
      "Validation Results - Epoch: 279  Avg loss: 0.02\n",
      "Training Results - Epoch: 280  Avg loss: 0.02\n",
      "Validation Results - Epoch: 280  Avg loss: 0.02\n",
      "Training Results - Epoch: 281  Avg loss: 0.02\n",
      "Validation Results - Epoch: 281  Avg loss: 0.02\n",
      "Training Results - Epoch: 282  Avg loss: 0.02\n",
      "Validation Results - Epoch: 282  Avg loss: 0.02\n",
      "Training Results - Epoch: 283  Avg loss: 0.02\n",
      "Validation Results - Epoch: 283  Avg loss: 0.02\n",
      "2021-06-06 05:56:43,450 ignite.handlers.early_stopping.EarlyStopping INFO: EarlyStopping: Stop training\n",
      "Training Results - Epoch: 284  Avg loss: 0.02\n",
      "Validation Results - Epoch: 284  Avg loss: 0.02\n"
     ]
    },
    {
     "output_type": "execute_result",
     "data": {
      "text/plain": [
       "State:\n",
       "\titeration: 284\n",
       "\tepoch: 284\n",
       "\tepoch_length: 1\n",
       "\tmax_epochs: 1000\n",
       "\toutput: 0.015206791460514069\n",
       "\tbatch: <class 'list'>\n",
       "\tmetrics: <class 'dict'>\n",
       "\tdataloader: <class 'torch.utils.data.dataloader.DataLoader'>\n",
       "\tseed: <class 'NoneType'>\n",
       "\ttimes: <class 'dict'>"
      ]
     },
     "metadata": {},
     "execution_count": 43
    }
   ],
   "source": [
    "trainer.run(train_loader, max_epochs=epochs)"
   ]
  },
  {
   "source": [
    "### Plotting the loss and accuracy"
   ],
   "cell_type": "markdown",
   "metadata": {}
  },
  {
   "cell_type": "code",
   "execution_count": 44,
   "metadata": {},
   "outputs": [
    {
     "output_type": "display_data",
     "data": {
      "text/plain": "<Figure size 432x288 with 1 Axes>",
      "image/svg+xml": "<?xml version=\"1.0\" encoding=\"utf-8\" standalone=\"no\"?>\r\n<!DOCTYPE svg PUBLIC \"-//W3C//DTD SVG 1.1//EN\"\r\n  \"http://www.w3.org/Graphics/SVG/1.1/DTD/svg11.dtd\">\r\n<svg height=\"262.19625pt\" version=\"1.1\" viewBox=\"0 0 398.50625 262.19625\" width=\"398.50625pt\" xmlns=\"http://www.w3.org/2000/svg\" xmlns:xlink=\"http://www.w3.org/1999/xlink\">\r\n <metadata>\r\n  <rdf:RDF xmlns:cc=\"http://creativecommons.org/ns#\" xmlns:dc=\"http://purl.org/dc/elements/1.1/\" xmlns:rdf=\"http://www.w3.org/1999/02/22-rdf-syntax-ns#\">\r\n   <cc:Work>\r\n    <dc:type rdf:resource=\"http://purl.org/dc/dcmitype/StillImage\"/>\r\n    <dc:date>2021-06-06T05:56:43.731894</dc:date>\r\n    <dc:format>image/svg+xml</dc:format>\r\n    <dc:creator>\r\n     <cc:Agent>\r\n      <dc:title>Matplotlib v3.4.2, https://matplotlib.org/</dc:title>\r\n     </cc:Agent>\r\n    </dc:creator>\r\n   </cc:Work>\r\n  </rdf:RDF>\r\n </metadata>\r\n <defs>\r\n  <style type=\"text/css\">*{stroke-linecap:butt;stroke-linejoin:round;}</style>\r\n </defs>\r\n <g id=\"figure_1\">\r\n  <g id=\"patch_1\">\r\n   <path d=\"M 0 262.19625 \r\nL 398.50625 262.19625 \r\nL 398.50625 0 \r\nL 0 0 \r\nz\r\n\" style=\"fill:none;\"/>\r\n  </g>\r\n  <g id=\"axes_1\">\r\n   <g id=\"patch_2\">\r\n    <path d=\"M 56.50625 224.64 \r\nL 391.30625 224.64 \r\nL 391.30625 7.2 \r\nL 56.50625 7.2 \r\nz\r\n\" style=\"fill:#ffffff;\"/>\r\n   </g>\r\n   <g id=\"matplotlib.axis_1\">\r\n    <g id=\"xtick_1\">\r\n     <g id=\"line2d_1\">\r\n      <defs>\r\n       <path d=\"M 0 0 \r\nL 0 3.5 \r\n\" id=\"m916abbb464\" style=\"stroke:#000000;stroke-width:0.8;\"/>\r\n      </defs>\r\n      <g>\r\n       <use style=\"stroke:#000000;stroke-width:0.8;\" x=\"71.724432\" xlink:href=\"#m916abbb464\" y=\"224.64\"/>\r\n      </g>\r\n     </g>\r\n     <g id=\"text_1\">\r\n      <!-- 0 -->\r\n      <g transform=\"translate(68.543182 239.238437)scale(0.1 -0.1)\">\r\n       <defs>\r\n        <path d=\"M 2034 4250 \r\nQ 1547 4250 1301 3770 \r\nQ 1056 3291 1056 2328 \r\nQ 1056 1369 1301 889 \r\nQ 1547 409 2034 409 \r\nQ 2525 409 2770 889 \r\nQ 3016 1369 3016 2328 \r\nQ 3016 3291 2770 3770 \r\nQ 2525 4250 2034 4250 \r\nz\r\nM 2034 4750 \r\nQ 2819 4750 3233 4129 \r\nQ 3647 3509 3647 2328 \r\nQ 3647 1150 3233 529 \r\nQ 2819 -91 2034 -91 \r\nQ 1250 -91 836 529 \r\nQ 422 1150 422 2328 \r\nQ 422 3509 836 4129 \r\nQ 1250 4750 2034 4750 \r\nz\r\n\" id=\"DejaVuSans-30\" transform=\"scale(0.015625)\"/>\r\n       </defs>\r\n       <use xlink:href=\"#DejaVuSans-30\"/>\r\n      </g>\r\n     </g>\r\n    </g>\r\n    <g id=\"xtick_2\">\r\n     <g id=\"line2d_2\">\r\n      <g>\r\n       <use style=\"stroke:#000000;stroke-width:0.8;\" x=\"125.498926\" xlink:href=\"#m916abbb464\" y=\"224.64\"/>\r\n      </g>\r\n     </g>\r\n     <g id=\"text_2\">\r\n      <!-- 50 -->\r\n      <g transform=\"translate(119.136426 239.238437)scale(0.1 -0.1)\">\r\n       <defs>\r\n        <path d=\"M 691 4666 \r\nL 3169 4666 \r\nL 3169 4134 \r\nL 1269 4134 \r\nL 1269 2991 \r\nQ 1406 3038 1543 3061 \r\nQ 1681 3084 1819 3084 \r\nQ 2600 3084 3056 2656 \r\nQ 3513 2228 3513 1497 \r\nQ 3513 744 3044 326 \r\nQ 2575 -91 1722 -91 \r\nQ 1428 -91 1123 -41 \r\nQ 819 9 494 109 \r\nL 494 744 \r\nQ 775 591 1075 516 \r\nQ 1375 441 1709 441 \r\nQ 2250 441 2565 725 \r\nQ 2881 1009 2881 1497 \r\nQ 2881 1984 2565 2268 \r\nQ 2250 2553 1709 2553 \r\nQ 1456 2553 1204 2497 \r\nQ 953 2441 691 2322 \r\nL 691 4666 \r\nz\r\n\" id=\"DejaVuSans-35\" transform=\"scale(0.015625)\"/>\r\n       </defs>\r\n       <use xlink:href=\"#DejaVuSans-35\"/>\r\n       <use x=\"63.623047\" xlink:href=\"#DejaVuSans-30\"/>\r\n      </g>\r\n     </g>\r\n    </g>\r\n    <g id=\"xtick_3\">\r\n     <g id=\"line2d_3\">\r\n      <g>\r\n       <use style=\"stroke:#000000;stroke-width:0.8;\" x=\"179.27342\" xlink:href=\"#m916abbb464\" y=\"224.64\"/>\r\n      </g>\r\n     </g>\r\n     <g id=\"text_3\">\r\n      <!-- 100 -->\r\n      <g transform=\"translate(169.72967 239.238437)scale(0.1 -0.1)\">\r\n       <defs>\r\n        <path d=\"M 794 531 \r\nL 1825 531 \r\nL 1825 4091 \r\nL 703 3866 \r\nL 703 4441 \r\nL 1819 4666 \r\nL 2450 4666 \r\nL 2450 531 \r\nL 3481 531 \r\nL 3481 0 \r\nL 794 0 \r\nL 794 531 \r\nz\r\n\" id=\"DejaVuSans-31\" transform=\"scale(0.015625)\"/>\r\n       </defs>\r\n       <use xlink:href=\"#DejaVuSans-31\"/>\r\n       <use x=\"63.623047\" xlink:href=\"#DejaVuSans-30\"/>\r\n       <use x=\"127.246094\" xlink:href=\"#DejaVuSans-30\"/>\r\n      </g>\r\n     </g>\r\n    </g>\r\n    <g id=\"xtick_4\">\r\n     <g id=\"line2d_4\">\r\n      <g>\r\n       <use style=\"stroke:#000000;stroke-width:0.8;\" x=\"233.047914\" xlink:href=\"#m916abbb464\" y=\"224.64\"/>\r\n      </g>\r\n     </g>\r\n     <g id=\"text_4\">\r\n      <!-- 150 -->\r\n      <g transform=\"translate(223.504164 239.238437)scale(0.1 -0.1)\">\r\n       <use xlink:href=\"#DejaVuSans-31\"/>\r\n       <use x=\"63.623047\" xlink:href=\"#DejaVuSans-35\"/>\r\n       <use x=\"127.246094\" xlink:href=\"#DejaVuSans-30\"/>\r\n      </g>\r\n     </g>\r\n    </g>\r\n    <g id=\"xtick_5\">\r\n     <g id=\"line2d_5\">\r\n      <g>\r\n       <use style=\"stroke:#000000;stroke-width:0.8;\" x=\"286.822408\" xlink:href=\"#m916abbb464\" y=\"224.64\"/>\r\n      </g>\r\n     </g>\r\n     <g id=\"text_5\">\r\n      <!-- 200 -->\r\n      <g transform=\"translate(277.278658 239.238437)scale(0.1 -0.1)\">\r\n       <defs>\r\n        <path d=\"M 1228 531 \r\nL 3431 531 \r\nL 3431 0 \r\nL 469 0 \r\nL 469 531 \r\nQ 828 903 1448 1529 \r\nQ 2069 2156 2228 2338 \r\nQ 2531 2678 2651 2914 \r\nQ 2772 3150 2772 3378 \r\nQ 2772 3750 2511 3984 \r\nQ 2250 4219 1831 4219 \r\nQ 1534 4219 1204 4116 \r\nQ 875 4013 500 3803 \r\nL 500 4441 \r\nQ 881 4594 1212 4672 \r\nQ 1544 4750 1819 4750 \r\nQ 2544 4750 2975 4387 \r\nQ 3406 4025 3406 3419 \r\nQ 3406 3131 3298 2873 \r\nQ 3191 2616 2906 2266 \r\nQ 2828 2175 2409 1742 \r\nQ 1991 1309 1228 531 \r\nz\r\n\" id=\"DejaVuSans-32\" transform=\"scale(0.015625)\"/>\r\n       </defs>\r\n       <use xlink:href=\"#DejaVuSans-32\"/>\r\n       <use x=\"63.623047\" xlink:href=\"#DejaVuSans-30\"/>\r\n       <use x=\"127.246094\" xlink:href=\"#DejaVuSans-30\"/>\r\n      </g>\r\n     </g>\r\n    </g>\r\n    <g id=\"xtick_6\">\r\n     <g id=\"line2d_6\">\r\n      <g>\r\n       <use style=\"stroke:#000000;stroke-width:0.8;\" x=\"340.596902\" xlink:href=\"#m916abbb464\" y=\"224.64\"/>\r\n      </g>\r\n     </g>\r\n     <g id=\"text_6\">\r\n      <!-- 250 -->\r\n      <g transform=\"translate(331.053152 239.238437)scale(0.1 -0.1)\">\r\n       <use xlink:href=\"#DejaVuSans-32\"/>\r\n       <use x=\"63.623047\" xlink:href=\"#DejaVuSans-35\"/>\r\n       <use x=\"127.246094\" xlink:href=\"#DejaVuSans-30\"/>\r\n      </g>\r\n     </g>\r\n    </g>\r\n    <g id=\"text_7\">\r\n     <!-- No. of Epochs -->\r\n     <g transform=\"translate(189.691406 252.916562)scale(0.1 -0.1)\">\r\n      <defs>\r\n       <path d=\"M 628 4666 \r\nL 1478 4666 \r\nL 3547 763 \r\nL 3547 4666 \r\nL 4159 4666 \r\nL 4159 0 \r\nL 3309 0 \r\nL 1241 3903 \r\nL 1241 0 \r\nL 628 0 \r\nL 628 4666 \r\nz\r\n\" id=\"DejaVuSans-4e\" transform=\"scale(0.015625)\"/>\r\n       <path d=\"M 1959 3097 \r\nQ 1497 3097 1228 2736 \r\nQ 959 2375 959 1747 \r\nQ 959 1119 1226 758 \r\nQ 1494 397 1959 397 \r\nQ 2419 397 2687 759 \r\nQ 2956 1122 2956 1747 \r\nQ 2956 2369 2687 2733 \r\nQ 2419 3097 1959 3097 \r\nz\r\nM 1959 3584 \r\nQ 2709 3584 3137 3096 \r\nQ 3566 2609 3566 1747 \r\nQ 3566 888 3137 398 \r\nQ 2709 -91 1959 -91 \r\nQ 1206 -91 779 398 \r\nQ 353 888 353 1747 \r\nQ 353 2609 779 3096 \r\nQ 1206 3584 1959 3584 \r\nz\r\n\" id=\"DejaVuSans-6f\" transform=\"scale(0.015625)\"/>\r\n       <path d=\"M 684 794 \r\nL 1344 794 \r\nL 1344 0 \r\nL 684 0 \r\nL 684 794 \r\nz\r\n\" id=\"DejaVuSans-2e\" transform=\"scale(0.015625)\"/>\r\n       <path id=\"DejaVuSans-20\" transform=\"scale(0.015625)\"/>\r\n       <path d=\"M 2375 4863 \r\nL 2375 4384 \r\nL 1825 4384 \r\nQ 1516 4384 1395 4259 \r\nQ 1275 4134 1275 3809 \r\nL 1275 3500 \r\nL 2222 3500 \r\nL 2222 3053 \r\nL 1275 3053 \r\nL 1275 0 \r\nL 697 0 \r\nL 697 3053 \r\nL 147 3053 \r\nL 147 3500 \r\nL 697 3500 \r\nL 697 3744 \r\nQ 697 4328 969 4595 \r\nQ 1241 4863 1831 4863 \r\nL 2375 4863 \r\nz\r\n\" id=\"DejaVuSans-66\" transform=\"scale(0.015625)\"/>\r\n       <path d=\"M 628 4666 \r\nL 3578 4666 \r\nL 3578 4134 \r\nL 1259 4134 \r\nL 1259 2753 \r\nL 3481 2753 \r\nL 3481 2222 \r\nL 1259 2222 \r\nL 1259 531 \r\nL 3634 531 \r\nL 3634 0 \r\nL 628 0 \r\nL 628 4666 \r\nz\r\n\" id=\"DejaVuSans-45\" transform=\"scale(0.015625)\"/>\r\n       <path d=\"M 1159 525 \r\nL 1159 -1331 \r\nL 581 -1331 \r\nL 581 3500 \r\nL 1159 3500 \r\nL 1159 2969 \r\nQ 1341 3281 1617 3432 \r\nQ 1894 3584 2278 3584 \r\nQ 2916 3584 3314 3078 \r\nQ 3713 2572 3713 1747 \r\nQ 3713 922 3314 415 \r\nQ 2916 -91 2278 -91 \r\nQ 1894 -91 1617 61 \r\nQ 1341 213 1159 525 \r\nz\r\nM 3116 1747 \r\nQ 3116 2381 2855 2742 \r\nQ 2594 3103 2138 3103 \r\nQ 1681 3103 1420 2742 \r\nQ 1159 2381 1159 1747 \r\nQ 1159 1113 1420 752 \r\nQ 1681 391 2138 391 \r\nQ 2594 391 2855 752 \r\nQ 3116 1113 3116 1747 \r\nz\r\n\" id=\"DejaVuSans-70\" transform=\"scale(0.015625)\"/>\r\n       <path d=\"M 3122 3366 \r\nL 3122 2828 \r\nQ 2878 2963 2633 3030 \r\nQ 2388 3097 2138 3097 \r\nQ 1578 3097 1268 2742 \r\nQ 959 2388 959 1747 \r\nQ 959 1106 1268 751 \r\nQ 1578 397 2138 397 \r\nQ 2388 397 2633 464 \r\nQ 2878 531 3122 666 \r\nL 3122 134 \r\nQ 2881 22 2623 -34 \r\nQ 2366 -91 2075 -91 \r\nQ 1284 -91 818 406 \r\nQ 353 903 353 1747 \r\nQ 353 2603 823 3093 \r\nQ 1294 3584 2113 3584 \r\nQ 2378 3584 2631 3529 \r\nQ 2884 3475 3122 3366 \r\nz\r\n\" id=\"DejaVuSans-63\" transform=\"scale(0.015625)\"/>\r\n       <path d=\"M 3513 2113 \r\nL 3513 0 \r\nL 2938 0 \r\nL 2938 2094 \r\nQ 2938 2591 2744 2837 \r\nQ 2550 3084 2163 3084 \r\nQ 1697 3084 1428 2787 \r\nQ 1159 2491 1159 1978 \r\nL 1159 0 \r\nL 581 0 \r\nL 581 4863 \r\nL 1159 4863 \r\nL 1159 2956 \r\nQ 1366 3272 1645 3428 \r\nQ 1925 3584 2291 3584 \r\nQ 2894 3584 3203 3211 \r\nQ 3513 2838 3513 2113 \r\nz\r\n\" id=\"DejaVuSans-68\" transform=\"scale(0.015625)\"/>\r\n       <path d=\"M 2834 3397 \r\nL 2834 2853 \r\nQ 2591 2978 2328 3040 \r\nQ 2066 3103 1784 3103 \r\nQ 1356 3103 1142 2972 \r\nQ 928 2841 928 2578 \r\nQ 928 2378 1081 2264 \r\nQ 1234 2150 1697 2047 \r\nL 1894 2003 \r\nQ 2506 1872 2764 1633 \r\nQ 3022 1394 3022 966 \r\nQ 3022 478 2636 193 \r\nQ 2250 -91 1575 -91 \r\nQ 1294 -91 989 -36 \r\nQ 684 19 347 128 \r\nL 347 722 \r\nQ 666 556 975 473 \r\nQ 1284 391 1588 391 \r\nQ 1994 391 2212 530 \r\nQ 2431 669 2431 922 \r\nQ 2431 1156 2273 1281 \r\nQ 2116 1406 1581 1522 \r\nL 1381 1569 \r\nQ 847 1681 609 1914 \r\nQ 372 2147 372 2553 \r\nQ 372 3047 722 3315 \r\nQ 1072 3584 1716 3584 \r\nQ 2034 3584 2315 3537 \r\nQ 2597 3491 2834 3397 \r\nz\r\n\" id=\"DejaVuSans-73\" transform=\"scale(0.015625)\"/>\r\n      </defs>\r\n      <use xlink:href=\"#DejaVuSans-4e\"/>\r\n      <use x=\"74.804688\" xlink:href=\"#DejaVuSans-6f\"/>\r\n      <use x=\"134.236328\" xlink:href=\"#DejaVuSans-2e\"/>\r\n      <use x=\"166.023438\" xlink:href=\"#DejaVuSans-20\"/>\r\n      <use x=\"197.810547\" xlink:href=\"#DejaVuSans-6f\"/>\r\n      <use x=\"258.992188\" xlink:href=\"#DejaVuSans-66\"/>\r\n      <use x=\"294.197266\" xlink:href=\"#DejaVuSans-20\"/>\r\n      <use x=\"325.984375\" xlink:href=\"#DejaVuSans-45\"/>\r\n      <use x=\"389.167969\" xlink:href=\"#DejaVuSans-70\"/>\r\n      <use x=\"452.644531\" xlink:href=\"#DejaVuSans-6f\"/>\r\n      <use x=\"513.826172\" xlink:href=\"#DejaVuSans-63\"/>\r\n      <use x=\"568.806641\" xlink:href=\"#DejaVuSans-68\"/>\r\n      <use x=\"632.185547\" xlink:href=\"#DejaVuSans-73\"/>\r\n     </g>\r\n    </g>\r\n   </g>\r\n   <g id=\"matplotlib.axis_2\">\r\n    <g id=\"ytick_1\">\r\n     <g id=\"line2d_7\">\r\n      <defs>\r\n       <path d=\"M 0 0 \r\nL -3.5 0 \r\n\" id=\"me89790905c\" style=\"stroke:#000000;stroke-width:0.8;\"/>\r\n      </defs>\r\n      <g>\r\n       <use style=\"stroke:#000000;stroke-width:0.8;\" x=\"56.50625\" xlink:href=\"#me89790905c\" y=\"214.969798\"/>\r\n      </g>\r\n     </g>\r\n     <g id=\"text_8\">\r\n      <!-- 0.015 -->\r\n      <g transform=\"translate(20.878125 218.769016)scale(0.1 -0.1)\">\r\n       <use xlink:href=\"#DejaVuSans-30\"/>\r\n       <use x=\"63.623047\" xlink:href=\"#DejaVuSans-2e\"/>\r\n       <use x=\"95.410156\" xlink:href=\"#DejaVuSans-30\"/>\r\n       <use x=\"159.033203\" xlink:href=\"#DejaVuSans-31\"/>\r\n       <use x=\"222.65625\" xlink:href=\"#DejaVuSans-35\"/>\r\n      </g>\r\n     </g>\r\n    </g>\r\n    <g id=\"ytick_2\">\r\n     <g id=\"line2d_8\">\r\n      <g>\r\n       <use style=\"stroke:#000000;stroke-width:0.8;\" x=\"56.50625\" xlink:href=\"#me89790905c\" y=\"186.646397\"/>\r\n      </g>\r\n     </g>\r\n     <g id=\"text_9\">\r\n      <!-- 0.020 -->\r\n      <g transform=\"translate(20.878125 190.445616)scale(0.1 -0.1)\">\r\n       <use xlink:href=\"#DejaVuSans-30\"/>\r\n       <use x=\"63.623047\" xlink:href=\"#DejaVuSans-2e\"/>\r\n       <use x=\"95.410156\" xlink:href=\"#DejaVuSans-30\"/>\r\n       <use x=\"159.033203\" xlink:href=\"#DejaVuSans-32\"/>\r\n       <use x=\"222.65625\" xlink:href=\"#DejaVuSans-30\"/>\r\n      </g>\r\n     </g>\r\n    </g>\r\n    <g id=\"ytick_3\">\r\n     <g id=\"line2d_9\">\r\n      <g>\r\n       <use style=\"stroke:#000000;stroke-width:0.8;\" x=\"56.50625\" xlink:href=\"#me89790905c\" y=\"158.322997\"/>\r\n      </g>\r\n     </g>\r\n     <g id=\"text_10\">\r\n      <!-- 0.025 -->\r\n      <g transform=\"translate(20.878125 162.122216)scale(0.1 -0.1)\">\r\n       <use xlink:href=\"#DejaVuSans-30\"/>\r\n       <use x=\"63.623047\" xlink:href=\"#DejaVuSans-2e\"/>\r\n       <use x=\"95.410156\" xlink:href=\"#DejaVuSans-30\"/>\r\n       <use x=\"159.033203\" xlink:href=\"#DejaVuSans-32\"/>\r\n       <use x=\"222.65625\" xlink:href=\"#DejaVuSans-35\"/>\r\n      </g>\r\n     </g>\r\n    </g>\r\n    <g id=\"ytick_4\">\r\n     <g id=\"line2d_10\">\r\n      <g>\r\n       <use style=\"stroke:#000000;stroke-width:0.8;\" x=\"56.50625\" xlink:href=\"#me89790905c\" y=\"129.999597\"/>\r\n      </g>\r\n     </g>\r\n     <g id=\"text_11\">\r\n      <!-- 0.030 -->\r\n      <g transform=\"translate(20.878125 133.798816)scale(0.1 -0.1)\">\r\n       <defs>\r\n        <path d=\"M 2597 2516 \r\nQ 3050 2419 3304 2112 \r\nQ 3559 1806 3559 1356 \r\nQ 3559 666 3084 287 \r\nQ 2609 -91 1734 -91 \r\nQ 1441 -91 1130 -33 \r\nQ 819 25 488 141 \r\nL 488 750 \r\nQ 750 597 1062 519 \r\nQ 1375 441 1716 441 \r\nQ 2309 441 2620 675 \r\nQ 2931 909 2931 1356 \r\nQ 2931 1769 2642 2001 \r\nQ 2353 2234 1838 2234 \r\nL 1294 2234 \r\nL 1294 2753 \r\nL 1863 2753 \r\nQ 2328 2753 2575 2939 \r\nQ 2822 3125 2822 3475 \r\nQ 2822 3834 2567 4026 \r\nQ 2313 4219 1838 4219 \r\nQ 1578 4219 1281 4162 \r\nQ 984 4106 628 3988 \r\nL 628 4550 \r\nQ 988 4650 1302 4700 \r\nQ 1616 4750 1894 4750 \r\nQ 2613 4750 3031 4423 \r\nQ 3450 4097 3450 3541 \r\nQ 3450 3153 3228 2886 \r\nQ 3006 2619 2597 2516 \r\nz\r\n\" id=\"DejaVuSans-33\" transform=\"scale(0.015625)\"/>\r\n       </defs>\r\n       <use xlink:href=\"#DejaVuSans-30\"/>\r\n       <use x=\"63.623047\" xlink:href=\"#DejaVuSans-2e\"/>\r\n       <use x=\"95.410156\" xlink:href=\"#DejaVuSans-30\"/>\r\n       <use x=\"159.033203\" xlink:href=\"#DejaVuSans-33\"/>\r\n       <use x=\"222.65625\" xlink:href=\"#DejaVuSans-30\"/>\r\n      </g>\r\n     </g>\r\n    </g>\r\n    <g id=\"ytick_5\">\r\n     <g id=\"line2d_11\">\r\n      <g>\r\n       <use style=\"stroke:#000000;stroke-width:0.8;\" x=\"56.50625\" xlink:href=\"#me89790905c\" y=\"101.676197\"/>\r\n      </g>\r\n     </g>\r\n     <g id=\"text_12\">\r\n      <!-- 0.035 -->\r\n      <g transform=\"translate(20.878125 105.475415)scale(0.1 -0.1)\">\r\n       <use xlink:href=\"#DejaVuSans-30\"/>\r\n       <use x=\"63.623047\" xlink:href=\"#DejaVuSans-2e\"/>\r\n       <use x=\"95.410156\" xlink:href=\"#DejaVuSans-30\"/>\r\n       <use x=\"159.033203\" xlink:href=\"#DejaVuSans-33\"/>\r\n       <use x=\"222.65625\" xlink:href=\"#DejaVuSans-35\"/>\r\n      </g>\r\n     </g>\r\n    </g>\r\n    <g id=\"ytick_6\">\r\n     <g id=\"line2d_12\">\r\n      <g>\r\n       <use style=\"stroke:#000000;stroke-width:0.8;\" x=\"56.50625\" xlink:href=\"#me89790905c\" y=\"73.352796\"/>\r\n      </g>\r\n     </g>\r\n     <g id=\"text_13\">\r\n      <!-- 0.040 -->\r\n      <g transform=\"translate(20.878125 77.152015)scale(0.1 -0.1)\">\r\n       <defs>\r\n        <path d=\"M 2419 4116 \r\nL 825 1625 \r\nL 2419 1625 \r\nL 2419 4116 \r\nz\r\nM 2253 4666 \r\nL 3047 4666 \r\nL 3047 1625 \r\nL 3713 1625 \r\nL 3713 1100 \r\nL 3047 1100 \r\nL 3047 0 \r\nL 2419 0 \r\nL 2419 1100 \r\nL 313 1100 \r\nL 313 1709 \r\nL 2253 4666 \r\nz\r\n\" id=\"DejaVuSans-34\" transform=\"scale(0.015625)\"/>\r\n       </defs>\r\n       <use xlink:href=\"#DejaVuSans-30\"/>\r\n       <use x=\"63.623047\" xlink:href=\"#DejaVuSans-2e\"/>\r\n       <use x=\"95.410156\" xlink:href=\"#DejaVuSans-30\"/>\r\n       <use x=\"159.033203\" xlink:href=\"#DejaVuSans-34\"/>\r\n       <use x=\"222.65625\" xlink:href=\"#DejaVuSans-30\"/>\r\n      </g>\r\n     </g>\r\n    </g>\r\n    <g id=\"ytick_7\">\r\n     <g id=\"line2d_13\">\r\n      <g>\r\n       <use style=\"stroke:#000000;stroke-width:0.8;\" x=\"56.50625\" xlink:href=\"#me89790905c\" y=\"45.029396\"/>\r\n      </g>\r\n     </g>\r\n     <g id=\"text_14\">\r\n      <!-- 0.045 -->\r\n      <g transform=\"translate(20.878125 48.828615)scale(0.1 -0.1)\">\r\n       <use xlink:href=\"#DejaVuSans-30\"/>\r\n       <use x=\"63.623047\" xlink:href=\"#DejaVuSans-2e\"/>\r\n       <use x=\"95.410156\" xlink:href=\"#DejaVuSans-30\"/>\r\n       <use x=\"159.033203\" xlink:href=\"#DejaVuSans-34\"/>\r\n       <use x=\"222.65625\" xlink:href=\"#DejaVuSans-35\"/>\r\n      </g>\r\n     </g>\r\n    </g>\r\n    <g id=\"ytick_8\">\r\n     <g id=\"line2d_14\">\r\n      <g>\r\n       <use style=\"stroke:#000000;stroke-width:0.8;\" x=\"56.50625\" xlink:href=\"#me89790905c\" y=\"16.705996\"/>\r\n      </g>\r\n     </g>\r\n     <g id=\"text_15\">\r\n      <!-- 0.050 -->\r\n      <g transform=\"translate(20.878125 20.505215)scale(0.1 -0.1)\">\r\n       <use xlink:href=\"#DejaVuSans-30\"/>\r\n       <use x=\"63.623047\" xlink:href=\"#DejaVuSans-2e\"/>\r\n       <use x=\"95.410156\" xlink:href=\"#DejaVuSans-30\"/>\r\n       <use x=\"159.033203\" xlink:href=\"#DejaVuSans-35\"/>\r\n       <use x=\"222.65625\" xlink:href=\"#DejaVuSans-30\"/>\r\n      </g>\r\n     </g>\r\n    </g>\r\n    <g id=\"text_16\">\r\n     <!-- Loss -->\r\n     <g transform=\"translate(14.798438 126.887187)rotate(-90)scale(0.1 -0.1)\">\r\n      <defs>\r\n       <path d=\"M 628 4666 \r\nL 1259 4666 \r\nL 1259 531 \r\nL 3531 531 \r\nL 3531 0 \r\nL 628 0 \r\nL 628 4666 \r\nz\r\n\" id=\"DejaVuSans-4c\" transform=\"scale(0.015625)\"/>\r\n      </defs>\r\n      <use xlink:href=\"#DejaVuSans-4c\"/>\r\n      <use x=\"53.962891\" xlink:href=\"#DejaVuSans-6f\"/>\r\n      <use x=\"115.144531\" xlink:href=\"#DejaVuSans-73\"/>\r\n      <use x=\"167.244141\" xlink:href=\"#DejaVuSans-73\"/>\r\n     </g>\r\n    </g>\r\n   </g>\r\n   <g id=\"line2d_15\">\r\n    <path clip-path=\"url(#p27047abedb)\" d=\"M 71.724432 48.139865 \r\nL 72.799922 45.747779 \r\nL 74.950901 81.935005 \r\nL 76.026391 91.476872 \r\nL 78.177371 103.470187 \r\nL 79.252861 107.890696 \r\nL 80.328351 109.775048 \r\nL 81.403841 112.319324 \r\nL 82.479331 115.433052 \r\nL 83.554821 117.552575 \r\nL 84.63031 120.182361 \r\nL 85.7058 123.954583 \r\nL 86.78129 127.01545 \r\nL 87.85678 129.488586 \r\nL 88.93227 132.592639 \r\nL 91.08325 136.569409 \r\nL 92.15874 139.385683 \r\nL 95.385209 146.177705 \r\nL 96.460699 147.498637 \r\nL 99.687169 153.64768 \r\nL 101.838148 156.855947 \r\nL 103.989128 161.081253 \r\nL 105.064618 162.74507 \r\nL 106.140108 164.089636 \r\nL 107.215598 165.896347 \r\nL 108.291088 167.478816 \r\nL 110.442068 170.246351 \r\nL 111.517557 171.783883 \r\nL 115.819517 176.74136 \r\nL 117.970497 178.912825 \r\nL 119.045987 179.76884 \r\nL 120.121476 180.781928 \r\nL 123.347946 183.176786 \r\nL 125.498926 184.430158 \r\nL 126.574416 184.299592 \r\nL 127.649906 182.79036 \r\nL 128.725396 183.41162 \r\nL 129.800885 186.452629 \r\nL 130.876375 184.83601 \r\nL 131.951865 185.902132 \r\nL 133.027355 187.283697 \r\nL 134.102845 186.060878 \r\nL 135.178335 188.211684 \r\nL 136.253825 187.401448 \r\nL 137.329315 188.324928 \r\nL 138.404804 188.907437 \r\nL 139.480294 188.496999 \r\nL 140.555784 189.874167 \r\nL 141.631274 189.13094 \r\nL 142.706764 190.069976 \r\nL 143.782254 190.267472 \r\nL 144.857744 190.117159 \r\nL 145.933234 191.09222 \r\nL 147.008723 190.776101 \r\nL 148.084213 191.35715 \r\nL 149.159703 191.702439 \r\nL 150.235193 191.573728 \r\nL 151.310683 192.249269 \r\nL 152.386173 192.27226 \r\nL 153.461663 192.420469 \r\nL 154.537153 192.955615 \r\nL 155.612643 192.897721 \r\nL 156.688132 193.116489 \r\nL 157.763622 193.598264 \r\nL 158.839112 193.58709 \r\nL 159.914602 193.718213 \r\nL 160.990092 194.171971 \r\nL 162.065582 194.331675 \r\nL 163.141072 194.34131 \r\nL 166.367541 195.172473 \r\nL 168.518521 195.333865 \r\nL 170.669501 195.824772 \r\nL 172.820481 196.360931 \r\nL 176.04695 196.878331 \r\nL 177.12244 196.972485 \r\nL 178.19793 196.95123 \r\nL 179.27342 196.725622 \r\nL 180.34891 196.073582 \r\nL 181.4244 195.552845 \r\nL 182.49989 195.594768 \r\nL 183.575379 197.347942 \r\nL 184.650869 198.278073 \r\nL 185.726359 197.546546 \r\nL 186.801849 197.217409 \r\nL 188.952829 198.904877 \r\nL 191.103809 198.087856 \r\nL 193.254788 199.521308 \r\nL 195.405768 199.077097 \r\nL 196.481258 199.394394 \r\nL 197.556748 200.046034 \r\nL 198.632238 200.228022 \r\nL 199.707728 200.016093 \r\nL 200.783218 200.023152 \r\nL 201.858707 200.367696 \r\nL 202.934197 200.838281 \r\nL 204.009687 201.04162 \r\nL 206.160667 200.955678 \r\nL 207.236157 201.04074 \r\nL 210.462626 201.990486 \r\nL 212.613606 202.254812 \r\nL 214.764586 202.205249 \r\nL 215.840076 202.056719 \r\nL 216.915566 201.613537 \r\nL 219.066546 200.896725 \r\nL 220.142035 201.796586 \r\nL 221.217525 202.945037 \r\nL 222.293015 203.653322 \r\nL 223.368505 203.343414 \r\nL 224.443995 202.604624 \r\nL 225.519485 202.643539 \r\nL 226.594975 203.213061 \r\nL 227.670465 204.140153 \r\nL 228.745954 204.355262 \r\nL 230.896934 203.621458 \r\nL 231.972424 203.64006 \r\nL 233.047914 204.388241 \r\nL 234.123404 204.985953 \r\nL 235.198894 205.102565 \r\nL 237.349874 204.641928 \r\nL 238.425363 204.811612 \r\nL 239.500853 205.116557 \r\nL 240.576343 205.570182 \r\nL 241.651833 205.882626 \r\nL 242.727323 205.989226 \r\nL 244.878303 205.795177 \r\nL 247.029282 205.564104 \r\nL 249.180262 205.820484 \r\nL 251.331242 206.709266 \r\nL 252.406732 206.997863 \r\nL 253.482222 207.13774 \r\nL 255.633201 207.094145 \r\nL 257.784181 206.574241 \r\nL 258.859671 205.867165 \r\nL 259.935161 205.502395 \r\nL 261.010651 204.796709 \r\nL 263.161631 207.429125 \r\nL 264.237121 208.101792 \r\nL 265.31261 207.456953 \r\nL 266.3881 206.398055 \r\nL 267.46359 206.864989 \r\nL 268.53908 207.811798 \r\nL 269.61457 208.544809 \r\nL 270.69006 208.249028 \r\nL 271.76555 207.574923 \r\nL 272.84104 207.785108 \r\nL 274.992019 208.998183 \r\nL 276.067509 208.951368 \r\nL 277.142999 208.574891 \r\nL 278.218489 208.560231 \r\nL 279.293979 208.815692 \r\nL 280.369469 209.285162 \r\nL 281.444959 209.567438 \r\nL 282.520449 209.605568 \r\nL 285.746918 209.350115 \r\nL 286.822408 209.368913 \r\nL 291.124368 210.299405 \r\nL 293.275347 210.506253 \r\nL 295.426327 210.52235 \r\nL 296.501817 210.384522 \r\nL 297.577307 210.086879 \r\nL 299.728287 208.188009 \r\nL 300.803777 205.88539 \r\nL 301.879266 207.2227 \r\nL 302.954756 209.346244 \r\nL 304.030246 211.161623 \r\nL 305.105736 209.92745 \r\nL 306.181226 207.740084 \r\nL 308.332206 211.309761 \r\nL 309.407696 210.946616 \r\nL 310.483185 209.995347 \r\nL 311.558675 210.157015 \r\nL 312.634165 211.623893 \r\nL 313.709655 211.397933 \r\nL 314.785145 210.338893 \r\nL 315.860635 210.911745 \r\nL 316.936125 211.934005 \r\nL 318.011615 211.848275 \r\nL 319.087104 211.189891 \r\nL 320.162594 210.920139 \r\nL 321.238084 211.905517 \r\nL 322.313574 212.362283 \r\nL 323.389064 211.916966 \r\nL 324.464554 211.655726 \r\nL 325.540044 211.84058 \r\nL 326.615534 212.57696 \r\nL 327.691024 212.623248 \r\nL 328.766513 212.260449 \r\nL 329.842003 212.102967 \r\nL 330.917493 212.41896 \r\nL 331.992983 212.876958 \r\nL 333.068473 213.076983 \r\nL 336.294943 212.722483 \r\nL 340.596902 213.524813 \r\nL 342.747882 213.406592 \r\nL 345.974352 213.03393 \r\nL 348.125331 213.232023 \r\nL 350.276311 213.672684 \r\nL 352.427291 214.068769 \r\nL 355.65376 214.393596 \r\nL 362.1067 214.747027 \r\nL 364.257679 214.678023 \r\nL 365.333169 214.352615 \r\nL 366.408659 213.082228 \r\nL 367.484149 210.90869 \r\nL 368.559639 204.560501 \r\nL 369.635129 207.45104 \r\nL 370.710619 212.376488 \r\nL 371.786109 214.494409 \r\nL 373.937088 205.833252 \r\nL 375.012578 213.798389 \r\nL 376.088068 210.069267 \r\nL 376.088068 210.069267 \r\n\" style=\"fill:none;stroke:#1f77b4;stroke-linecap:square;stroke-width:1.5;\"/>\r\n   </g>\r\n   <g id=\"line2d_16\">\r\n    <path clip-path=\"url(#p27047abedb)\" d=\"M 71.724432 17.083636 \r\nL 72.799922 22.276806 \r\nL 74.950901 51.891072 \r\nL 76.026391 59.091452 \r\nL 79.252861 73.596249 \r\nL 80.328351 74.696645 \r\nL 81.403841 76.163516 \r\nL 82.479331 78.597954 \r\nL 83.554821 80.516589 \r\nL 84.63031 83.031836 \r\nL 86.78129 90.166511 \r\nL 88.93227 96.460999 \r\nL 91.08325 100.065612 \r\nL 92.15874 102.928494 \r\nL 93.234229 105.188305 \r\nL 94.309719 106.944715 \r\nL 95.385209 108.211387 \r\nL 96.460699 109.09254 \r\nL 97.536189 111.256765 \r\nL 99.687169 116.219393 \r\nL 101.838148 119.016818 \r\nL 102.913638 121.230451 \r\nL 103.989128 122.744096 \r\nL 105.064618 123.403566 \r\nL 106.140108 124.326114 \r\nL 108.291088 128.637939 \r\nL 110.442068 130.929308 \r\nL 111.517557 132.323068 \r\nL 112.593047 133.04131 \r\nL 113.668537 134.264415 \r\nL 114.744027 136.568896 \r\nL 116.895007 139.402887 \r\nL 117.970497 141.168807 \r\nL 119.045987 141.774243 \r\nL 120.121476 143.842003 \r\nL 122.272456 146.148025 \r\nL 123.347946 147.060017 \r\nL 124.423436 147.620085 \r\nL 125.498926 149.567554 \r\nL 126.574416 148.175021 \r\nL 127.649906 150.950387 \r\nL 128.725396 146.617853 \r\nL 129.800885 152.112503 \r\nL 130.876375 152.962109 \r\nL 131.951865 150.285132 \r\nL 133.027355 152.729947 \r\nL 134.102845 154.639815 \r\nL 135.178335 154.006389 \r\nL 136.253825 152.192906 \r\nL 137.329315 156.373614 \r\nL 138.404804 156.947694 \r\nL 139.480294 154.143021 \r\nL 140.555784 157.20106 \r\nL 141.631274 158.217484 \r\nL 142.706764 156.841889 \r\nL 143.782254 157.201364 \r\nL 144.857744 159.683207 \r\nL 145.933234 159.242968 \r\nL 147.008723 157.736222 \r\nL 148.084213 160.428449 \r\nL 149.159703 160.95015 \r\nL 150.235193 159.352398 \r\nL 151.310683 161.637103 \r\nL 152.386173 162.221144 \r\nL 153.461663 160.461639 \r\nL 154.537153 161.997513 \r\nL 155.612643 162.988209 \r\nL 156.688132 161.675583 \r\nL 157.763622 163.306289 \r\nL 158.839112 164.276411 \r\nL 159.914602 162.841548 \r\nL 160.990092 164.595583 \r\nL 162.065582 164.878842 \r\nL 163.141072 163.431453 \r\nL 164.216562 165.329289 \r\nL 165.292051 164.780645 \r\nL 166.367541 165.084589 \r\nL 167.443031 166.473758 \r\nL 168.518521 165.003657 \r\nL 169.594011 167.284097 \r\nL 170.669501 165.791745 \r\nL 171.744991 167.435585 \r\nL 172.820481 166.967671 \r\nL 174.97146 168.406304 \r\nL 176.04695 168.051837 \r\nL 177.12244 169.592741 \r\nL 178.19793 167.570585 \r\nL 179.27342 170.232403 \r\nL 180.34891 165.500181 \r\nL 181.4244 170.400807 \r\nL 182.49989 164.741658 \r\nL 183.575379 171.136167 \r\nL 184.650869 170.716895 \r\nL 185.726359 168.180321 \r\nL 186.801849 172.053898 \r\nL 187.877339 169.118896 \r\nL 188.952829 171.382386 \r\nL 190.028319 172.61077 \r\nL 191.103809 168.804068 \r\nL 192.179299 173.105673 \r\nL 193.254788 172.410549 \r\nL 194.330278 171.431581 \r\nL 195.405768 174.188208 \r\nL 196.481258 171.487899 \r\nL 197.556748 174.282499 \r\nL 198.632238 174.474415 \r\nL 199.707728 172.706998 \r\nL 200.783218 175.594776 \r\nL 201.858707 173.417328 \r\nL 202.934197 175.689203 \r\nL 204.009687 175.840601 \r\nL 205.085177 174.773903 \r\nL 206.160667 177.04445 \r\nL 207.236157 174.61888 \r\nL 208.311647 177.517001 \r\nL 209.387137 176.085785 \r\nL 210.462626 177.586488 \r\nL 211.538116 177.780632 \r\nL 212.613606 177.332784 \r\nL 213.689096 178.996883 \r\nL 214.764586 176.829868 \r\nL 215.840076 179.733143 \r\nL 216.915566 175.509319 \r\nL 217.991056 180.027758 \r\nL 219.066546 174.354766 \r\nL 220.142035 180.506646 \r\nL 221.217525 177.996902 \r\nL 222.293015 180.354471 \r\nL 223.368505 181.5089 \r\nL 224.443995 177.40047 \r\nL 225.519485 181.856074 \r\nL 226.594975 178.215142 \r\nL 227.670465 181.634919 \r\nL 228.745954 181.806621 \r\nL 229.821444 179.620619 \r\nL 230.896934 183.067598 \r\nL 231.972424 179.110477 \r\nL 233.047914 183.264848 \r\nL 234.123404 181.958942 \r\nL 235.198894 182.15573 \r\nL 236.274384 183.837161 \r\nL 237.349874 180.983057 \r\nL 238.425363 184.598542 \r\nL 239.500853 181.884965 \r\nL 240.576343 184.531903 \r\nL 241.651833 183.731964 \r\nL 242.727323 183.864893 \r\nL 243.802813 185.153625 \r\nL 244.878303 183.06035 \r\nL 245.953793 185.844979 \r\nL 247.029282 182.456017 \r\nL 248.104772 186.050816 \r\nL 249.180262 182.796551 \r\nL 250.255752 186.304835 \r\nL 251.331242 184.700352 \r\nL 252.406732 186.340782 \r\nL 253.482222 186.31636 \r\nL 254.557712 185.67761 \r\nL 255.633201 187.119271 \r\nL 256.708691 184.619037 \r\nL 257.784181 187.582075 \r\nL 258.859671 182.906341 \r\nL 259.935161 187.699068 \r\nL 261.010651 181.298741 \r\nL 262.086141 187.867022 \r\nL 263.161631 185.536026 \r\nL 264.237121 187.50435 \r\nL 265.31261 188.829885 \r\nL 266.3881 183.84549 \r\nL 267.46359 188.845923 \r\nL 268.53908 186.034418 \r\nL 269.61457 188.275849 \r\nL 270.69006 189.157678 \r\nL 271.76555 185.697036 \r\nL 272.84104 189.835549 \r\nL 273.916529 187.321495 \r\nL 274.992019 189.488736 \r\nL 276.067509 189.85484 \r\nL 277.142999 187.537462 \r\nL 278.218489 190.450079 \r\nL 279.293979 188.013502 \r\nL 280.369469 190.553937 \r\nL 281.444959 189.870855 \r\nL 282.520449 189.675068 \r\nL 283.595938 190.883892 \r\nL 284.671428 188.854274 \r\nL 285.746918 191.372256 \r\nL 286.822408 188.890064 \r\nL 287.897898 191.584227 \r\nL 288.973388 189.789495 \r\nL 290.048878 191.626927 \r\nL 291.124368 190.871939 \r\nL 292.199857 191.502214 \r\nL 293.275347 191.69988 \r\nL 294.350837 191.223941 \r\nL 295.426327 192.252622 \r\nL 296.501817 190.56141 \r\nL 297.577307 192.724487 \r\nL 298.652797 188.494844 \r\nL 299.728287 192.254299 \r\nL 300.803777 183.882529 \r\nL 301.879266 191.455687 \r\nL 302.954756 188.478006 \r\nL 304.030246 192.536477 \r\nL 305.105736 193.35152 \r\nL 306.181226 186.379274 \r\nL 307.256716 193.060845 \r\nL 308.332206 191.90744 \r\nL 309.407696 190.994683 \r\nL 310.483185 193.395245 \r\nL 311.558675 189.85385 \r\nL 312.634165 193.89869 \r\nL 313.709655 194.313077 \r\nL 314.785145 190.217647 \r\nL 315.860635 194.083583 \r\nL 316.936125 193.107957 \r\nL 318.011615 192.823764 \r\nL 319.087104 194.645508 \r\nL 320.162594 191.128727 \r\nL 321.238084 194.570169 \r\nL 322.313574 194.301564 \r\nL 323.389064 192.715832 \r\nL 324.464554 194.938952 \r\nL 325.540044 192.642609 \r\nL 326.615534 195.025624 \r\nL 327.691024 195.03115 \r\nL 328.766513 193.166875 \r\nL 329.842003 195.220635 \r\nL 330.917493 193.347862 \r\nL 331.992983 195.334071 \r\nL 333.068473 195.203133 \r\nL 334.143963 194.399716 \r\nL 335.219453 195.830932 \r\nL 336.294943 193.831477 \r\nL 337.370432 195.971931 \r\nL 338.445922 194.672305 \r\nL 339.521412 195.939101 \r\nL 340.596902 195.876694 \r\nL 341.672392 195.420316 \r\nL 342.747882 196.409841 \r\nL 343.823372 194.645024 \r\nL 344.898862 196.500745 \r\nL 345.974352 194.139395 \r\nL 347.049841 196.588847 \r\nL 348.125331 194.48452 \r\nL 349.200821 196.906455 \r\nL 350.276311 195.244112 \r\nL 351.351801 196.931103 \r\nL 352.427291 195.901184 \r\nL 353.502781 196.902392 \r\nL 354.578271 196.450223 \r\nL 355.65376 196.937113 \r\nL 356.72925 196.811645 \r\nL 358.88023 197.073508 \r\nL 359.95572 197.056885 \r\nL 361.03121 197.288867 \r\nL 362.1067 197.026666 \r\nL 363.18219 197.545069 \r\nL 364.257679 196.56322 \r\nL 365.333169 197.715826 \r\nL 366.408659 194.047511 \r\nL 367.484149 195.977682 \r\nL 368.559639 183.88882 \r\nL 369.635129 192.945417 \r\nL 370.710619 192.856594 \r\nL 371.786109 196.360016 \r\nL 372.861599 196.225342 \r\nL 373.937088 185.386001 \r\nL 375.012578 196.425338 \r\nL 376.088068 194.984342 \r\nL 376.088068 194.984342 \r\n\" style=\"fill:none;stroke:#ff7f0e;stroke-linecap:square;stroke-width:1.5;\"/>\r\n   </g>\r\n   <g id=\"patch_3\">\r\n    <path d=\"M 56.50625 224.64 \r\nL 56.50625 7.2 \r\n\" style=\"fill:none;stroke:#000000;stroke-linecap:square;stroke-linejoin:miter;stroke-width:0.8;\"/>\r\n   </g>\r\n   <g id=\"patch_4\">\r\n    <path d=\"M 391.30625 224.64 \r\nL 391.30625 7.2 \r\n\" style=\"fill:none;stroke:#000000;stroke-linecap:square;stroke-linejoin:miter;stroke-width:0.8;\"/>\r\n   </g>\r\n   <g id=\"patch_5\">\r\n    <path d=\"M 56.50625 224.64 \r\nL 391.30625 224.64 \r\n\" style=\"fill:none;stroke:#000000;stroke-linecap:square;stroke-linejoin:miter;stroke-width:0.8;\"/>\r\n   </g>\r\n   <g id=\"patch_6\">\r\n    <path d=\"M 56.50625 7.2 \r\nL 391.30625 7.2 \r\n\" style=\"fill:none;stroke:#000000;stroke-linecap:square;stroke-linejoin:miter;stroke-width:0.8;\"/>\r\n   </g>\r\n   <g id=\"legend_1\">\r\n    <g id=\"line2d_17\">\r\n     <path d=\"M 279.8125 20.298437 \r\nL 299.8125 20.298437 \r\n\" style=\"fill:none;stroke:#1f77b4;stroke-linecap:square;stroke-width:1.5;\"/>\r\n    </g>\r\n    <g id=\"line2d_18\"/>\r\n    <g id=\"text_17\">\r\n     <!-- Training Loss -->\r\n     <g transform=\"translate(307.8125 23.798437)scale(0.1 -0.1)\">\r\n      <defs>\r\n       <path d=\"M -19 4666 \r\nL 3928 4666 \r\nL 3928 4134 \r\nL 2272 4134 \r\nL 2272 0 \r\nL 1638 0 \r\nL 1638 4134 \r\nL -19 4134 \r\nL -19 4666 \r\nz\r\n\" id=\"DejaVuSans-54\" transform=\"scale(0.015625)\"/>\r\n       <path d=\"M 2631 2963 \r\nQ 2534 3019 2420 3045 \r\nQ 2306 3072 2169 3072 \r\nQ 1681 3072 1420 2755 \r\nQ 1159 2438 1159 1844 \r\nL 1159 0 \r\nL 581 0 \r\nL 581 3500 \r\nL 1159 3500 \r\nL 1159 2956 \r\nQ 1341 3275 1631 3429 \r\nQ 1922 3584 2338 3584 \r\nQ 2397 3584 2469 3576 \r\nQ 2541 3569 2628 3553 \r\nL 2631 2963 \r\nz\r\n\" id=\"DejaVuSans-72\" transform=\"scale(0.015625)\"/>\r\n       <path d=\"M 2194 1759 \r\nQ 1497 1759 1228 1600 \r\nQ 959 1441 959 1056 \r\nQ 959 750 1161 570 \r\nQ 1363 391 1709 391 \r\nQ 2188 391 2477 730 \r\nQ 2766 1069 2766 1631 \r\nL 2766 1759 \r\nL 2194 1759 \r\nz\r\nM 3341 1997 \r\nL 3341 0 \r\nL 2766 0 \r\nL 2766 531 \r\nQ 2569 213 2275 61 \r\nQ 1981 -91 1556 -91 \r\nQ 1019 -91 701 211 \r\nQ 384 513 384 1019 \r\nQ 384 1609 779 1909 \r\nQ 1175 2209 1959 2209 \r\nL 2766 2209 \r\nL 2766 2266 \r\nQ 2766 2663 2505 2880 \r\nQ 2244 3097 1772 3097 \r\nQ 1472 3097 1187 3025 \r\nQ 903 2953 641 2809 \r\nL 641 3341 \r\nQ 956 3463 1253 3523 \r\nQ 1550 3584 1831 3584 \r\nQ 2591 3584 2966 3190 \r\nQ 3341 2797 3341 1997 \r\nz\r\n\" id=\"DejaVuSans-61\" transform=\"scale(0.015625)\"/>\r\n       <path d=\"M 603 3500 \r\nL 1178 3500 \r\nL 1178 0 \r\nL 603 0 \r\nL 603 3500 \r\nz\r\nM 603 4863 \r\nL 1178 4863 \r\nL 1178 4134 \r\nL 603 4134 \r\nL 603 4863 \r\nz\r\n\" id=\"DejaVuSans-69\" transform=\"scale(0.015625)\"/>\r\n       <path d=\"M 3513 2113 \r\nL 3513 0 \r\nL 2938 0 \r\nL 2938 2094 \r\nQ 2938 2591 2744 2837 \r\nQ 2550 3084 2163 3084 \r\nQ 1697 3084 1428 2787 \r\nQ 1159 2491 1159 1978 \r\nL 1159 0 \r\nL 581 0 \r\nL 581 3500 \r\nL 1159 3500 \r\nL 1159 2956 \r\nQ 1366 3272 1645 3428 \r\nQ 1925 3584 2291 3584 \r\nQ 2894 3584 3203 3211 \r\nQ 3513 2838 3513 2113 \r\nz\r\n\" id=\"DejaVuSans-6e\" transform=\"scale(0.015625)\"/>\r\n       <path d=\"M 2906 1791 \r\nQ 2906 2416 2648 2759 \r\nQ 2391 3103 1925 3103 \r\nQ 1463 3103 1205 2759 \r\nQ 947 2416 947 1791 \r\nQ 947 1169 1205 825 \r\nQ 1463 481 1925 481 \r\nQ 2391 481 2648 825 \r\nQ 2906 1169 2906 1791 \r\nz\r\nM 3481 434 \r\nQ 3481 -459 3084 -895 \r\nQ 2688 -1331 1869 -1331 \r\nQ 1566 -1331 1297 -1286 \r\nQ 1028 -1241 775 -1147 \r\nL 775 -588 \r\nQ 1028 -725 1275 -790 \r\nQ 1522 -856 1778 -856 \r\nQ 2344 -856 2625 -561 \r\nQ 2906 -266 2906 331 \r\nL 2906 616 \r\nQ 2728 306 2450 153 \r\nQ 2172 0 1784 0 \r\nQ 1141 0 747 490 \r\nQ 353 981 353 1791 \r\nQ 353 2603 747 3093 \r\nQ 1141 3584 1784 3584 \r\nQ 2172 3584 2450 3431 \r\nQ 2728 3278 2906 2969 \r\nL 2906 3500 \r\nL 3481 3500 \r\nL 3481 434 \r\nz\r\n\" id=\"DejaVuSans-67\" transform=\"scale(0.015625)\"/>\r\n      </defs>\r\n      <use xlink:href=\"#DejaVuSans-54\"/>\r\n      <use x=\"46.333984\" xlink:href=\"#DejaVuSans-72\"/>\r\n      <use x=\"87.447266\" xlink:href=\"#DejaVuSans-61\"/>\r\n      <use x=\"148.726562\" xlink:href=\"#DejaVuSans-69\"/>\r\n      <use x=\"176.509766\" xlink:href=\"#DejaVuSans-6e\"/>\r\n      <use x=\"239.888672\" xlink:href=\"#DejaVuSans-69\"/>\r\n      <use x=\"267.671875\" xlink:href=\"#DejaVuSans-6e\"/>\r\n      <use x=\"331.050781\" xlink:href=\"#DejaVuSans-67\"/>\r\n      <use x=\"394.527344\" xlink:href=\"#DejaVuSans-20\"/>\r\n      <use x=\"426.314453\" xlink:href=\"#DejaVuSans-4c\"/>\r\n      <use x=\"480.277344\" xlink:href=\"#DejaVuSans-6f\"/>\r\n      <use x=\"541.458984\" xlink:href=\"#DejaVuSans-73\"/>\r\n      <use x=\"593.558594\" xlink:href=\"#DejaVuSans-73\"/>\r\n     </g>\r\n    </g>\r\n    <g id=\"line2d_19\">\r\n     <path d=\"M 279.8125 34.976562 \r\nL 299.8125 34.976562 \r\n\" style=\"fill:none;stroke:#ff7f0e;stroke-linecap:square;stroke-width:1.5;\"/>\r\n    </g>\r\n    <g id=\"line2d_20\"/>\r\n    <g id=\"text_18\">\r\n     <!-- Validation Loss -->\r\n     <g transform=\"translate(307.8125 38.476562)scale(0.1 -0.1)\">\r\n      <defs>\r\n       <path d=\"M 1831 0 \r\nL 50 4666 \r\nL 709 4666 \r\nL 2188 738 \r\nL 3669 4666 \r\nL 4325 4666 \r\nL 2547 0 \r\nL 1831 0 \r\nz\r\n\" id=\"DejaVuSans-56\" transform=\"scale(0.015625)\"/>\r\n       <path d=\"M 603 4863 \r\nL 1178 4863 \r\nL 1178 0 \r\nL 603 0 \r\nL 603 4863 \r\nz\r\n\" id=\"DejaVuSans-6c\" transform=\"scale(0.015625)\"/>\r\n       <path d=\"M 2906 2969 \r\nL 2906 4863 \r\nL 3481 4863 \r\nL 3481 0 \r\nL 2906 0 \r\nL 2906 525 \r\nQ 2725 213 2448 61 \r\nQ 2172 -91 1784 -91 \r\nQ 1150 -91 751 415 \r\nQ 353 922 353 1747 \r\nQ 353 2572 751 3078 \r\nQ 1150 3584 1784 3584 \r\nQ 2172 3584 2448 3432 \r\nQ 2725 3281 2906 2969 \r\nz\r\nM 947 1747 \r\nQ 947 1113 1208 752 \r\nQ 1469 391 1925 391 \r\nQ 2381 391 2643 752 \r\nQ 2906 1113 2906 1747 \r\nQ 2906 2381 2643 2742 \r\nQ 2381 3103 1925 3103 \r\nQ 1469 3103 1208 2742 \r\nQ 947 2381 947 1747 \r\nz\r\n\" id=\"DejaVuSans-64\" transform=\"scale(0.015625)\"/>\r\n       <path d=\"M 1172 4494 \r\nL 1172 3500 \r\nL 2356 3500 \r\nL 2356 3053 \r\nL 1172 3053 \r\nL 1172 1153 \r\nQ 1172 725 1289 603 \r\nQ 1406 481 1766 481 \r\nL 2356 481 \r\nL 2356 0 \r\nL 1766 0 \r\nQ 1100 0 847 248 \r\nQ 594 497 594 1153 \r\nL 594 3053 \r\nL 172 3053 \r\nL 172 3500 \r\nL 594 3500 \r\nL 594 4494 \r\nL 1172 4494 \r\nz\r\n\" id=\"DejaVuSans-74\" transform=\"scale(0.015625)\"/>\r\n      </defs>\r\n      <use xlink:href=\"#DejaVuSans-56\"/>\r\n      <use x=\"60.658203\" xlink:href=\"#DejaVuSans-61\"/>\r\n      <use x=\"121.9375\" xlink:href=\"#DejaVuSans-6c\"/>\r\n      <use x=\"149.720703\" xlink:href=\"#DejaVuSans-69\"/>\r\n      <use x=\"177.503906\" xlink:href=\"#DejaVuSans-64\"/>\r\n      <use x=\"240.980469\" xlink:href=\"#DejaVuSans-61\"/>\r\n      <use x=\"302.259766\" xlink:href=\"#DejaVuSans-74\"/>\r\n      <use x=\"341.46875\" xlink:href=\"#DejaVuSans-69\"/>\r\n      <use x=\"369.251953\" xlink:href=\"#DejaVuSans-6f\"/>\r\n      <use x=\"430.433594\" xlink:href=\"#DejaVuSans-6e\"/>\r\n      <use x=\"493.8125\" xlink:href=\"#DejaVuSans-20\"/>\r\n      <use x=\"525.599609\" xlink:href=\"#DejaVuSans-4c\"/>\r\n      <use x=\"579.5625\" xlink:href=\"#DejaVuSans-6f\"/>\r\n      <use x=\"640.744141\" xlink:href=\"#DejaVuSans-73\"/>\r\n      <use x=\"692.84375\" xlink:href=\"#DejaVuSans-73\"/>\r\n     </g>\r\n    </g>\r\n   </g>\r\n  </g>\r\n </g>\r\n <defs>\r\n  <clipPath id=\"p27047abedb\">\r\n   <rect height=\"217.44\" width=\"334.8\" x=\"56.50625\" y=\"7.2\"/>\r\n  </clipPath>\r\n </defs>\r\n</svg>\r\n",
      "image/png": "[encoded data removed]"
     },
     "metadata": {
      "needs_background": "light"
     }
    }
   ],
   "source": [
    "plt.plot(training_history['loss'],label=\"Training Loss\")\n",
    "plt.plot(validation_history['loss'],label=\"Validation Loss\")\n",
    "plt.xlabel('No. of Epochs')\n",
    "plt.ylabel('Loss')\n",
    "plt.legend(frameon=False)\n",
    "plt.show()"
   ]
  },
  {
   "cell_type": "code",
   "execution_count": null,
   "metadata": {},
   "outputs": [],
   "source": []
  }
 ]
}