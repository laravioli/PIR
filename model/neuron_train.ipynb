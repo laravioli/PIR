{
 "metadata": {
  "language_info": {
   "codemirror_mode": {
    "name": "ipython",
    "version": 3
   },
   "file_extension": ".py",
   "mimetype": "text/x-python",
   "name": "python",
   "nbconvert_exporter": "python",
   "pygments_lexer": "ipython3",
   "version": "3.9.5"
  },
  "orig_nbformat": 2,
  "kernelspec": {
   "name": "myenv",
   "display_name": "Python 3.9.5  ('.venv': venv)"
  }
 },
 "nbformat": 4,
 "nbformat_minor": 2,
 "cells": [
  {
   "cell_type": "code",
   "execution_count": 19,
   "metadata": {},
   "outputs": [],
   "source": [
    "import numpy as np\n",
    "import pandas as pd\n",
    "import torch\n",
    "import seaborn as sns\n",
    "import matplotlib.pyplot as plt\n",
    "\n",
    "from pathlib import Path\n",
    "from sklearn.preprocessing import MinMaxScaler\n",
    "from model_util import *\n",
    "from neuron_model import *"
   ]
  },
  {
   "source": [
    "### Import data"
   ],
   "cell_type": "markdown",
   "metadata": {}
  },
  {
   "source": [
    "df_Ch001 = pd.read_pickle(Path(\"../process/Ch001.pkl\"))\n",
    "df_Ch009 = pd.read_pickle(Path(\"../process/Ch009.pkl\"))\n",
    "df_Ch020 = pd.read_pickle(Path(\"../process/Ch020.pkl\"))\n",
    "df_Ch022 = pd.read_pickle(Path(\"../process/Ch022.pkl\"))"
   ],
   "cell_type": "code",
   "metadata": {},
   "execution_count": 20,
   "outputs": []
  },
  {
   "source": [
    "### train parameters"
   ],
   "cell_type": "markdown",
   "metadata": {}
  },
  {
   "cell_type": "code",
   "execution_count": 21,
   "metadata": {},
   "outputs": [],
   "source": [
    "#data scale config\n",
    "log_noise=1\n",
    "#network config\n",
    "network= \"cnn_v2\"\n",
    "model= CNN_v2()\n",
    "\n",
    "window= 40 #for cnn_v2 only (temporal window)\n",
    "#4720 possède 20 diviseurs qui sont : 1; 2; 4; 5; 8; 10; 16; 20; 40; 59; 80; 118; 236; 295; 472; 590; 944; 1180; 2360; 4720\n",
    "\n",
    "#trainer config\n",
    "batch_size= None\n",
    "lr=0.01\n",
    "epochs= 1000\n",
    "patience= 10\n",
    "\n",
    "#saveconfig\n",
    "savename=\"CNN\"\n",
    "version=\"v2-w40\""
   ]
  },
  {
   "source": [
    "### data scaling, formating, split, transform to tensor"
   ],
   "cell_type": "markdown",
   "metadata": {}
  },
  {
   "cell_type": "code",
   "execution_count": 22,
   "metadata": {},
   "outputs": [],
   "source": [
    "df_input=[df_Ch001, df_Ch020, df_Ch009]\n",
    "# log-transforming and scaling data\n",
    "data_input = [data_log_scaler(df) for df in df_input]\n",
    "data_target , scaler = data_log_scaler(df_Ch022, output= True)\n",
    "# formatting data\n",
    "data_input, data_target = data_formatter(data_input, data_target, network, window)"
   ]
  },
  {
   "cell_type": "code",
   "execution_count": 23,
   "metadata": {},
   "outputs": [
    {
     "output_type": "stream",
     "name": "stdout",
     "text": [
      "(118, 3, 40, 34) (118, 40, 34)\n"
     ]
    }
   ],
   "source": [
    "#define split to separate train and test data\n",
    "split = int(len(data_input)*0.15)\n",
    "print(data_input.shape, data_target.shape)"
   ]
  },
  {
   "cell_type": "code",
   "execution_count": 24,
   "metadata": {},
   "outputs": [
    {
     "output_type": "stream",
     "name": "stdout",
     "text": [
      "(85, 3, 40, 34) (85, 40, 34) (16, 3, 40, 34) (16, 40, 34)\n"
     ]
    }
   ],
   "source": [
    "#split data into train and val\n",
    "from sklearn.model_selection import train_test_split\n",
    "\n",
    "X_train, X_val, y_train, y_val = train_test_split(data_input[split:], data_target[split:], test_size=0.15, random_state=20)\n",
    "\n",
    "train_size=y_train.shape[0]\n",
    "val_size=y_val.shape[0]\n",
    "\n",
    "print(X_train.shape, y_train.shape, X_val.shape, y_val.shape)"
   ]
  },
  {
   "cell_type": "code",
   "execution_count": 25,
   "metadata": {},
   "outputs": [],
   "source": [
    "# transform all data to pytorch tensor\n",
    "X_train = torch.tensor(X_train, dtype=torch.float)\n",
    "y_train = torch.tensor(y_train, dtype=torch.float)\n",
    "X_val = torch.tensor(X_val, dtype=torch.float)\n",
    "y_val = torch.tensor(y_val, dtype=torch.float)"
   ]
  },
  {
   "cell_type": "code",
   "execution_count": 26,
   "metadata": {},
   "outputs": [],
   "source": [
    "from torch import nn, optim\n",
    "import torch.nn.functional as F\n",
    "from torch.utils.data import TensorDataset, DataLoader"
   ]
  },
  {
   "cell_type": "code",
   "execution_count": 27,
   "metadata": {},
   "outputs": [],
   "source": [
    "trainset = TensorDataset(X_train, y_train)\n",
    "train_loader = DataLoader(trainset, batch_size=train_size)\n",
    "validationset= TensorDataset(X_val, y_val)\n",
    "val_loader = DataLoader(validationset, batch_size=val_size)"
   ]
  },
  {
   "source": [
    "### setting model, optimizer and loss"
   ],
   "cell_type": "markdown",
   "metadata": {}
  },
  {
   "cell_type": "code",
   "execution_count": 28,
   "metadata": {},
   "outputs": [],
   "source": [
    "#defining optimizer and loss, moving model to gpu if available\n",
    "device = torch.device(\"cuda:0\" if torch.cuda.is_available() else \"cpu\")\n",
    "model.to(device)\n",
    "optimizer = optim.Adam(model.parameters(), lr=lr)\n",
    "criterion = nn.MSELoss()"
   ]
  },
  {
   "source": [
    "### Training and Evaluating using Ignite"
   ],
   "cell_type": "markdown",
   "metadata": {}
  },
  {
   "cell_type": "code",
   "execution_count": 29,
   "metadata": {},
   "outputs": [],
   "source": [
    "from ignite.engine import Events, create_supervised_trainer, create_supervised_evaluator\n",
    "from ignite.metrics import Loss, RunningAverage\n",
    "from ignite.handlers import ModelCheckpoint, EarlyStopping"
   ]
  },
  {
   "cell_type": "code",
   "execution_count": 30,
   "metadata": {},
   "outputs": [],
   "source": [
    "# defining the number of epochs\n",
    "epochs = epochs\n",
    "# creating trainer,evaluator\n",
    "trainer = create_supervised_trainer(model, optimizer, criterion, device=device)\n",
    "metrics = {\n",
    "    'MSE':Loss(criterion)\n",
    "}\n",
    "train_evaluator = create_supervised_evaluator(model, metrics=metrics, device=device)\n",
    "val_evaluator = create_supervised_evaluator(model, metrics=metrics, device=device)\n",
    "training_history = {'loss':[]}\n",
    "validation_history = {'loss':[]}\n",
    "last_epoch = []"
   ]
  },
  {
   "cell_type": "code",
   "execution_count": 31,
   "metadata": {},
   "outputs": [],
   "source": [
    "RunningAverage(output_transform=lambda x: x).attach(trainer, 'loss')"
   ]
  },
  {
   "cell_type": "code",
   "execution_count": 32,
   "metadata": {},
   "outputs": [
    {
     "output_type": "execute_result",
     "data": {
      "text/plain": [
       "<ignite.engine.events.RemovableEventHandle at 0x1626d7a18b0>"
      ]
     },
     "metadata": {},
     "execution_count": 32
    }
   ],
   "source": [
    "def score_function(engine):\n",
    "    val_loss = engine.state.metrics['MSE']\n",
    "    return -val_loss\n",
    "\n",
    "handler = EarlyStopping(patience=patience, score_function=score_function, trainer=trainer)\n",
    "val_evaluator.add_event_handler(Events.COMPLETED, handler)"
   ]
  },
  {
   "cell_type": "code",
   "execution_count": 33,
   "metadata": {},
   "outputs": [
    {
     "output_type": "execute_result",
     "data": {
      "text/plain": [
       "<ignite.engine.events.RemovableEventHandle at 0x1626dd77f70>"
      ]
     },
     "metadata": {},
     "execution_count": 33
    }
   ],
   "source": [
    "@trainer.on(Events.EPOCH_COMPLETED)\n",
    "def log_training_results(trainer):\n",
    "    train_evaluator.run(train_loader)\n",
    "    metrics = train_evaluator.state.metrics\n",
    "    loss = metrics['MSE']\n",
    "    last_epoch.append(0)\n",
    "    training_history['loss'].append(loss)\n",
    "    print(\"Training Results - Epoch: {}  Avg loss: {:.2f}\"\n",
    "          .format(trainer.state.epoch, loss))\n",
    "\n",
    "def log_validation_results(trainer):\n",
    "    val_evaluator.run(val_loader)\n",
    "    metrics = val_evaluator.state.metrics\n",
    "    loss = metrics['MSE']\n",
    "    validation_history['loss'].append(loss)\n",
    "    print(\"Validation Results - Epoch: {}  Avg loss: {:.2f}\"\n",
    "          .format(trainer.state.epoch, loss))\n",
    "    \n",
    "trainer.add_event_handler(Events.EPOCH_COMPLETED, log_validation_results)  "
   ]
  },
  {
   "source": [
    "### model save"
   ],
   "cell_type": "markdown",
   "metadata": {}
  },
  {
   "cell_type": "code",
   "execution_count": 34,
   "metadata": {},
   "outputs": [
    {
     "output_type": "execute_result",
     "data": {
      "text/plain": [
       "<ignite.engine.events.RemovableEventHandle at 0x1626d7a95e0>"
      ]
     },
     "metadata": {},
     "execution_count": 34
    }
   ],
   "source": [
    "checkpointer = ModelCheckpoint(Path('./saved_models'), savename, n_saved=1, create_dir=True, save_as_state_dict=True, require_empty=False)\n",
    "\n",
    "trainer.add_event_handler(Events.EPOCH_COMPLETED, checkpointer, {version : model})"
   ]
  },
  {
   "source": [
    "### Run Engine"
   ],
   "cell_type": "markdown",
   "metadata": {}
  },
  {
   "cell_type": "code",
   "execution_count": 35,
   "metadata": {
    "tags": [
     "outputPrepend"
    ]
   },
   "outputs": [
    {
     "output_type": "stream",
     "name": "stdout",
     "text": [
      "vg loss: 0.03\n",
      "Validation Results - Epoch: 200  Avg loss: 0.02\n",
      "Training Results - Epoch: 201  Avg loss: 0.03\n",
      "Validation Results - Epoch: 201  Avg loss: 0.02\n",
      "Training Results - Epoch: 202  Avg loss: 0.03\n",
      "Validation Results - Epoch: 202  Avg loss: 0.02\n",
      "Training Results - Epoch: 203  Avg loss: 0.03\n",
      "Validation Results - Epoch: 203  Avg loss: 0.02\n",
      "Training Results - Epoch: 204  Avg loss: 0.03\n",
      "Validation Results - Epoch: 204  Avg loss: 0.02\n",
      "Training Results - Epoch: 205  Avg loss: 0.03\n",
      "Validation Results - Epoch: 205  Avg loss: 0.02\n",
      "Training Results - Epoch: 206  Avg loss: 0.03\n",
      "Validation Results - Epoch: 206  Avg loss: 0.02\n",
      "Training Results - Epoch: 207  Avg loss: 0.03\n",
      "Validation Results - Epoch: 207  Avg loss: 0.02\n",
      "Training Results - Epoch: 208  Avg loss: 0.03\n",
      "Validation Results - Epoch: 208  Avg loss: 0.02\n",
      "Training Results - Epoch: 209  Avg loss: 0.03\n",
      "Validation Results - Epoch: 209  Avg loss: 0.02\n",
      "Training Results - Epoch: 210  Avg loss: 0.03\n",
      "Validation Results - Epoch: 210  Avg loss: 0.02\n",
      "Training Results - Epoch: 211  Avg loss: 0.03\n",
      "Validation Results - Epoch: 211  Avg loss: 0.02\n",
      "Training Results - Epoch: 212  Avg loss: 0.03\n",
      "Validation Results - Epoch: 212  Avg loss: 0.02\n",
      "Training Results - Epoch: 213  Avg loss: 0.03\n",
      "Validation Results - Epoch: 213  Avg loss: 0.02\n",
      "Training Results - Epoch: 214  Avg loss: 0.03\n",
      "Validation Results - Epoch: 214  Avg loss: 0.02\n",
      "Training Results - Epoch: 215  Avg loss: 0.03\n",
      "Validation Results - Epoch: 215  Avg loss: 0.02\n",
      "Training Results - Epoch: 216  Avg loss: 0.03\n",
      "Validation Results - Epoch: 216  Avg loss: 0.02\n",
      "Training Results - Epoch: 217  Avg loss: 0.03\n",
      "Validation Results - Epoch: 217  Avg loss: 0.02\n",
      "Training Results - Epoch: 218  Avg loss: 0.03\n",
      "Validation Results - Epoch: 218  Avg loss: 0.02\n",
      "Training Results - Epoch: 219  Avg loss: 0.03\n",
      "Validation Results - Epoch: 219  Avg loss: 0.02\n",
      "Training Results - Epoch: 220  Avg loss: 0.03\n",
      "Validation Results - Epoch: 220  Avg loss: 0.02\n",
      "Training Results - Epoch: 221  Avg loss: 0.03\n",
      "Validation Results - Epoch: 221  Avg loss: 0.02\n",
      "Training Results - Epoch: 222  Avg loss: 0.03\n",
      "Validation Results - Epoch: 222  Avg loss: 0.02\n",
      "Training Results - Epoch: 223  Avg loss: 0.03\n",
      "Validation Results - Epoch: 223  Avg loss: 0.02\n",
      "Training Results - Epoch: 224  Avg loss: 0.03\n",
      "Validation Results - Epoch: 224  Avg loss: 0.02\n",
      "Training Results - Epoch: 225  Avg loss: 0.03\n",
      "Validation Results - Epoch: 225  Avg loss: 0.02\n",
      "Training Results - Epoch: 226  Avg loss: 0.03\n",
      "Validation Results - Epoch: 226  Avg loss: 0.02\n",
      "Training Results - Epoch: 227  Avg loss: 0.03\n",
      "Validation Results - Epoch: 227  Avg loss: 0.02\n",
      "Training Results - Epoch: 228  Avg loss: 0.03\n",
      "Validation Results - Epoch: 228  Avg loss: 0.02\n",
      "Training Results - Epoch: 229  Avg loss: 0.03\n",
      "Validation Results - Epoch: 229  Avg loss: 0.02\n",
      "Training Results - Epoch: 230  Avg loss: 0.03\n",
      "Validation Results - Epoch: 230  Avg loss: 0.02\n",
      "Training Results - Epoch: 231  Avg loss: 0.03\n",
      "Validation Results - Epoch: 231  Avg loss: 0.02\n",
      "Training Results - Epoch: 232  Avg loss: 0.03\n",
      "Validation Results - Epoch: 232  Avg loss: 0.02\n",
      "Training Results - Epoch: 233  Avg loss: 0.03\n",
      "Validation Results - Epoch: 233  Avg loss: 0.02\n",
      "Training Results - Epoch: 234  Avg loss: 0.03\n",
      "Validation Results - Epoch: 234  Avg loss: 0.02\n",
      "Training Results - Epoch: 235  Avg loss: 0.03\n",
      "Validation Results - Epoch: 235  Avg loss: 0.02\n",
      "Training Results - Epoch: 236  Avg loss: 0.03\n",
      "Validation Results - Epoch: 236  Avg loss: 0.02\n",
      "Training Results - Epoch: 237  Avg loss: 0.03\n",
      "Validation Results - Epoch: 237  Avg loss: 0.02\n",
      "Training Results - Epoch: 238  Avg loss: 0.03\n",
      "Validation Results - Epoch: 238  Avg loss: 0.02\n",
      "Training Results - Epoch: 239  Avg loss: 0.03\n",
      "Validation Results - Epoch: 239  Avg loss: 0.02\n",
      "Training Results - Epoch: 240  Avg loss: 0.03\n",
      "Validation Results - Epoch: 240  Avg loss: 0.02\n",
      "Training Results - Epoch: 241  Avg loss: 0.03\n",
      "Validation Results - Epoch: 241  Avg loss: 0.02\n",
      "Training Results - Epoch: 242  Avg loss: 0.03\n",
      "Validation Results - Epoch: 242  Avg loss: 0.02\n",
      "Training Results - Epoch: 243  Avg loss: 0.03\n",
      "Validation Results - Epoch: 243  Avg loss: 0.02\n",
      "Training Results - Epoch: 244  Avg loss: 0.03\n",
      "Validation Results - Epoch: 244  Avg loss: 0.02\n",
      "Training Results - Epoch: 245  Avg loss: 0.03\n",
      "Validation Results - Epoch: 245  Avg loss: 0.02\n",
      "Training Results - Epoch: 246  Avg loss: 0.03\n",
      "Validation Results - Epoch: 246  Avg loss: 0.02\n",
      "Training Results - Epoch: 247  Avg loss: 0.03\n",
      "Validation Results - Epoch: 247  Avg loss: 0.02\n",
      "Training Results - Epoch: 248  Avg loss: 0.03\n",
      "Validation Results - Epoch: 248  Avg loss: 0.02\n",
      "Training Results - Epoch: 249  Avg loss: 0.03\n",
      "Validation Results - Epoch: 249  Avg loss: 0.02\n",
      "Training Results - Epoch: 250  Avg loss: 0.03\n",
      "Validation Results - Epoch: 250  Avg loss: 0.02\n",
      "Training Results - Epoch: 251  Avg loss: 0.03\n",
      "Validation Results - Epoch: 251  Avg loss: 0.02\n",
      "Training Results - Epoch: 252  Avg loss: 0.03\n",
      "Validation Results - Epoch: 252  Avg loss: 0.02\n",
      "Training Results - Epoch: 253  Avg loss: 0.03\n",
      "Validation Results - Epoch: 253  Avg loss: 0.02\n",
      "Training Results - Epoch: 254  Avg loss: 0.03\n",
      "Validation Results - Epoch: 254  Avg loss: 0.02\n",
      "Training Results - Epoch: 255  Avg loss: 0.03\n",
      "Validation Results - Epoch: 255  Avg loss: 0.02\n",
      "Training Results - Epoch: 256  Avg loss: 0.03\n",
      "Validation Results - Epoch: 256  Avg loss: 0.02\n",
      "Training Results - Epoch: 257  Avg loss: 0.03\n",
      "Validation Results - Epoch: 257  Avg loss: 0.02\n",
      "Training Results - Epoch: 258  Avg loss: 0.03\n",
      "Validation Results - Epoch: 258  Avg loss: 0.02\n",
      "Training Results - Epoch: 259  Avg loss: 0.03\n",
      "Validation Results - Epoch: 259  Avg loss: 0.02\n",
      "Training Results - Epoch: 260  Avg loss: 0.03\n",
      "Validation Results - Epoch: 260  Avg loss: 0.02\n",
      "Training Results - Epoch: 261  Avg loss: 0.03\n",
      "Validation Results - Epoch: 261  Avg loss: 0.02\n",
      "Training Results - Epoch: 262  Avg loss: 0.03\n",
      "Validation Results - Epoch: 262  Avg loss: 0.02\n",
      "Training Results - Epoch: 263  Avg loss: 0.03\n",
      "Validation Results - Epoch: 263  Avg loss: 0.02\n",
      "Training Results - Epoch: 264  Avg loss: 0.03\n",
      "Validation Results - Epoch: 264  Avg loss: 0.02\n",
      "Training Results - Epoch: 265  Avg loss: 0.03\n",
      "Validation Results - Epoch: 265  Avg loss: 0.02\n",
      "Training Results - Epoch: 266  Avg loss: 0.03\n",
      "Validation Results - Epoch: 266  Avg loss: 0.02\n",
      "Training Results - Epoch: 267  Avg loss: 0.03\n",
      "Validation Results - Epoch: 267  Avg loss: 0.02\n",
      "Training Results - Epoch: 268  Avg loss: 0.03\n",
      "Validation Results - Epoch: 268  Avg loss: 0.02\n",
      "Training Results - Epoch: 269  Avg loss: 0.03\n",
      "Validation Results - Epoch: 269  Avg loss: 0.02\n",
      "Training Results - Epoch: 270  Avg loss: 0.03\n",
      "Validation Results - Epoch: 270  Avg loss: 0.02\n",
      "Training Results - Epoch: 271  Avg loss: 0.03\n",
      "Validation Results - Epoch: 271  Avg loss: 0.02\n",
      "Training Results - Epoch: 272  Avg loss: 0.03\n",
      "Validation Results - Epoch: 272  Avg loss: 0.02\n",
      "Training Results - Epoch: 273  Avg loss: 0.03\n",
      "Validation Results - Epoch: 273  Avg loss: 0.02\n",
      "Training Results - Epoch: 274  Avg loss: 0.03\n",
      "Validation Results - Epoch: 274  Avg loss: 0.02\n",
      "Training Results - Epoch: 275  Avg loss: 0.03\n",
      "Validation Results - Epoch: 275  Avg loss: 0.02\n",
      "Training Results - Epoch: 276  Avg loss: 0.03\n",
      "Validation Results - Epoch: 276  Avg loss: 0.02\n",
      "Training Results - Epoch: 277  Avg loss: 0.03\n",
      "Validation Results - Epoch: 277  Avg loss: 0.02\n",
      "Training Results - Epoch: 278  Avg loss: 0.03\n",
      "Validation Results - Epoch: 278  Avg loss: 0.02\n",
      "Training Results - Epoch: 279  Avg loss: 0.03\n",
      "Validation Results - Epoch: 279  Avg loss: 0.02\n",
      "Training Results - Epoch: 280  Avg loss: 0.03\n",
      "Validation Results - Epoch: 280  Avg loss: 0.02\n",
      "Training Results - Epoch: 281  Avg loss: 0.03\n",
      "Validation Results - Epoch: 281  Avg loss: 0.02\n",
      "Training Results - Epoch: 282  Avg loss: 0.03\n",
      "Validation Results - Epoch: 282  Avg loss: 0.02\n",
      "Training Results - Epoch: 283  Avg loss: 0.03\n",
      "Validation Results - Epoch: 283  Avg loss: 0.02\n",
      "Training Results - Epoch: 284  Avg loss: 0.03\n",
      "Validation Results - Epoch: 284  Avg loss: 0.02\n",
      "Training Results - Epoch: 285  Avg loss: 0.03\n",
      "Validation Results - Epoch: 285  Avg loss: 0.02\n",
      "Training Results - Epoch: 286  Avg loss: 0.03\n",
      "Validation Results - Epoch: 286  Avg loss: 0.02\n",
      "Training Results - Epoch: 287  Avg loss: 0.03\n",
      "Validation Results - Epoch: 287  Avg loss: 0.02\n",
      "Training Results - Epoch: 288  Avg loss: 0.03\n",
      "Validation Results - Epoch: 288  Avg loss: 0.02\n",
      "Training Results - Epoch: 289  Avg loss: 0.03\n",
      "Validation Results - Epoch: 289  Avg loss: 0.02\n",
      "Training Results - Epoch: 290  Avg loss: 0.03\n",
      "Validation Results - Epoch: 290  Avg loss: 0.02\n",
      "Training Results - Epoch: 291  Avg loss: 0.03\n",
      "Validation Results - Epoch: 291  Avg loss: 0.02\n",
      "Training Results - Epoch: 292  Avg loss: 0.03\n",
      "Validation Results - Epoch: 292  Avg loss: 0.02\n",
      "Training Results - Epoch: 293  Avg loss: 0.03\n",
      "Validation Results - Epoch: 293  Avg loss: 0.02\n",
      "Training Results - Epoch: 294  Avg loss: 0.03\n",
      "Validation Results - Epoch: 294  Avg loss: 0.02\n",
      "Training Results - Epoch: 295  Avg loss: 0.03\n",
      "Validation Results - Epoch: 295  Avg loss: 0.02\n",
      "Training Results - Epoch: 296  Avg loss: 0.03\n",
      "Validation Results - Epoch: 296  Avg loss: 0.02\n",
      "Training Results - Epoch: 297  Avg loss: 0.03\n",
      "Validation Results - Epoch: 297  Avg loss: 0.02\n",
      "Training Results - Epoch: 298  Avg loss: 0.03\n",
      "Validation Results - Epoch: 298  Avg loss: 0.02\n",
      "Training Results - Epoch: 299  Avg loss: 0.03\n",
      "Validation Results - Epoch: 299  Avg loss: 0.02\n",
      "Training Results - Epoch: 300  Avg loss: 0.03\n",
      "Validation Results - Epoch: 300  Avg loss: 0.02\n",
      "Training Results - Epoch: 301  Avg loss: 0.03\n",
      "Validation Results - Epoch: 301  Avg loss: 0.02\n",
      "Training Results - Epoch: 302  Avg loss: 0.02\n",
      "Validation Results - Epoch: 302  Avg loss: 0.02\n",
      "Training Results - Epoch: 303  Avg loss: 0.02\n",
      "Validation Results - Epoch: 303  Avg loss: 0.02\n",
      "Training Results - Epoch: 304  Avg loss: 0.02\n",
      "Validation Results - Epoch: 304  Avg loss: 0.02\n",
      "Training Results - Epoch: 305  Avg loss: 0.02\n",
      "Validation Results - Epoch: 305  Avg loss: 0.02\n",
      "Training Results - Epoch: 306  Avg loss: 0.02\n",
      "Validation Results - Epoch: 306  Avg loss: 0.02\n",
      "Training Results - Epoch: 307  Avg loss: 0.02\n",
      "Validation Results - Epoch: 307  Avg loss: 0.02\n",
      "Training Results - Epoch: 308  Avg loss: 0.02\n",
      "Validation Results - Epoch: 308  Avg loss: 0.02\n",
      "Training Results - Epoch: 309  Avg loss: 0.02\n",
      "Validation Results - Epoch: 309  Avg loss: 0.02\n",
      "Training Results - Epoch: 310  Avg loss: 0.02\n",
      "Validation Results - Epoch: 310  Avg loss: 0.02\n",
      "Training Results - Epoch: 311  Avg loss: 0.02\n",
      "Validation Results - Epoch: 311  Avg loss: 0.02\n",
      "Training Results - Epoch: 312  Avg loss: 0.02\n",
      "Validation Results - Epoch: 312  Avg loss: 0.02\n",
      "Training Results - Epoch: 313  Avg loss: 0.02\n",
      "Validation Results - Epoch: 313  Avg loss: 0.02\n",
      "Training Results - Epoch: 314  Avg loss: 0.02\n",
      "Validation Results - Epoch: 314  Avg loss: 0.02\n",
      "Training Results - Epoch: 315  Avg loss: 0.02\n",
      "Validation Results - Epoch: 315  Avg loss: 0.02\n",
      "Training Results - Epoch: 316  Avg loss: 0.02\n",
      "Validation Results - Epoch: 316  Avg loss: 0.02\n",
      "Training Results - Epoch: 317  Avg loss: 0.02\n",
      "Validation Results - Epoch: 317  Avg loss: 0.02\n",
      "Training Results - Epoch: 318  Avg loss: 0.02\n",
      "Validation Results - Epoch: 318  Avg loss: 0.02\n",
      "Training Results - Epoch: 319  Avg loss: 0.02\n",
      "Validation Results - Epoch: 319  Avg loss: 0.02\n",
      "Training Results - Epoch: 320  Avg loss: 0.02\n",
      "Validation Results - Epoch: 320  Avg loss: 0.02\n",
      "Training Results - Epoch: 321  Avg loss: 0.02\n",
      "Validation Results - Epoch: 321  Avg loss: 0.02\n",
      "Training Results - Epoch: 322  Avg loss: 0.02\n",
      "Validation Results - Epoch: 322  Avg loss: 0.02\n",
      "Training Results - Epoch: 323  Avg loss: 0.02\n",
      "Validation Results - Epoch: 323  Avg loss: 0.02\n",
      "Training Results - Epoch: 324  Avg loss: 0.02\n",
      "Validation Results - Epoch: 324  Avg loss: 0.02\n",
      "Training Results - Epoch: 325  Avg loss: 0.02\n",
      "Validation Results - Epoch: 325  Avg loss: 0.02\n",
      "Training Results - Epoch: 326  Avg loss: 0.02\n",
      "Validation Results - Epoch: 326  Avg loss: 0.02\n",
      "Training Results - Epoch: 327  Avg loss: 0.02\n",
      "Validation Results - Epoch: 327  Avg loss: 0.02\n",
      "Training Results - Epoch: 328  Avg loss: 0.02\n",
      "Validation Results - Epoch: 328  Avg loss: 0.02\n",
      "Training Results - Epoch: 329  Avg loss: 0.02\n",
      "Validation Results - Epoch: 329  Avg loss: 0.02\n",
      "Training Results - Epoch: 330  Avg loss: 0.02\n",
      "Validation Results - Epoch: 330  Avg loss: 0.02\n",
      "Training Results - Epoch: 331  Avg loss: 0.02\n",
      "Validation Results - Epoch: 331  Avg loss: 0.02\n",
      "Training Results - Epoch: 332  Avg loss: 0.02\n",
      "Validation Results - Epoch: 332  Avg loss: 0.02\n",
      "Training Results - Epoch: 333  Avg loss: 0.02\n",
      "Validation Results - Epoch: 333  Avg loss: 0.02\n",
      "Training Results - Epoch: 334  Avg loss: 0.02\n",
      "Validation Results - Epoch: 334  Avg loss: 0.02\n",
      "Training Results - Epoch: 335  Avg loss: 0.02\n",
      "Validation Results - Epoch: 335  Avg loss: 0.02\n",
      "Training Results - Epoch: 336  Avg loss: 0.02\n",
      "Validation Results - Epoch: 336  Avg loss: 0.02\n",
      "Training Results - Epoch: 337  Avg loss: 0.02\n",
      "Validation Results - Epoch: 337  Avg loss: 0.02\n",
      "Training Results - Epoch: 338  Avg loss: 0.02\n",
      "Validation Results - Epoch: 338  Avg loss: 0.02\n",
      "Training Results - Epoch: 339  Avg loss: 0.02\n",
      "Validation Results - Epoch: 339  Avg loss: 0.02\n",
      "Training Results - Epoch: 340  Avg loss: 0.02\n",
      "Validation Results - Epoch: 340  Avg loss: 0.02\n",
      "Training Results - Epoch: 341  Avg loss: 0.02\n",
      "Validation Results - Epoch: 341  Avg loss: 0.02\n",
      "Training Results - Epoch: 342  Avg loss: 0.02\n",
      "Validation Results - Epoch: 342  Avg loss: 0.02\n",
      "Training Results - Epoch: 343  Avg loss: 0.02\n",
      "Validation Results - Epoch: 343  Avg loss: 0.02\n",
      "Training Results - Epoch: 344  Avg loss: 0.02\n",
      "Validation Results - Epoch: 344  Avg loss: 0.02\n",
      "Training Results - Epoch: 345  Avg loss: 0.02\n",
      "Validation Results - Epoch: 345  Avg loss: 0.02\n",
      "Training Results - Epoch: 346  Avg loss: 0.02\n",
      "Validation Results - Epoch: 346  Avg loss: 0.02\n",
      "Training Results - Epoch: 347  Avg loss: 0.02\n",
      "Validation Results - Epoch: 347  Avg loss: 0.02\n",
      "Training Results - Epoch: 348  Avg loss: 0.02\n",
      "Validation Results - Epoch: 348  Avg loss: 0.02\n",
      "Training Results - Epoch: 349  Avg loss: 0.02\n",
      "Validation Results - Epoch: 349  Avg loss: 0.02\n",
      "Training Results - Epoch: 350  Avg loss: 0.02\n",
      "Validation Results - Epoch: 350  Avg loss: 0.02\n",
      "Training Results - Epoch: 351  Avg loss: 0.02\n",
      "Validation Results - Epoch: 351  Avg loss: 0.02\n",
      "Training Results - Epoch: 352  Avg loss: 0.02\n",
      "Validation Results - Epoch: 352  Avg loss: 0.02\n",
      "Training Results - Epoch: 353  Avg loss: 0.02\n",
      "Validation Results - Epoch: 353  Avg loss: 0.02\n",
      "Training Results - Epoch: 354  Avg loss: 0.02\n",
      "Validation Results - Epoch: 354  Avg loss: 0.02\n",
      "Training Results - Epoch: 355  Avg loss: 0.02\n",
      "Validation Results - Epoch: 355  Avg loss: 0.02\n",
      "Training Results - Epoch: 356  Avg loss: 0.02\n",
      "Validation Results - Epoch: 356  Avg loss: 0.02\n",
      "Training Results - Epoch: 357  Avg loss: 0.02\n",
      "Validation Results - Epoch: 357  Avg loss: 0.02\n",
      "Training Results - Epoch: 358  Avg loss: 0.02\n",
      "Validation Results - Epoch: 358  Avg loss: 0.02\n",
      "Training Results - Epoch: 359  Avg loss: 0.02\n",
      "Validation Results - Epoch: 359  Avg loss: 0.02\n",
      "Training Results - Epoch: 360  Avg loss: 0.02\n",
      "Validation Results - Epoch: 360  Avg loss: 0.02\n",
      "Training Results - Epoch: 361  Avg loss: 0.02\n",
      "Validation Results - Epoch: 361  Avg loss: 0.02\n",
      "Training Results - Epoch: 362  Avg loss: 0.02\n",
      "Validation Results - Epoch: 362  Avg loss: 0.02\n",
      "Training Results - Epoch: 363  Avg loss: 0.02\n",
      "Validation Results - Epoch: 363  Avg loss: 0.02\n",
      "Training Results - Epoch: 364  Avg loss: 0.02\n",
      "Validation Results - Epoch: 364  Avg loss: 0.02\n",
      "Training Results - Epoch: 365  Avg loss: 0.02\n",
      "Validation Results - Epoch: 365  Avg loss: 0.02\n",
      "Training Results - Epoch: 366  Avg loss: 0.02\n",
      "Validation Results - Epoch: 366  Avg loss: 0.02\n",
      "Training Results - Epoch: 367  Avg loss: 0.02\n",
      "Validation Results - Epoch: 367  Avg loss: 0.02\n",
      "Training Results - Epoch: 368  Avg loss: 0.02\n",
      "Validation Results - Epoch: 368  Avg loss: 0.02\n",
      "Training Results - Epoch: 369  Avg loss: 0.02\n",
      "Validation Results - Epoch: 369  Avg loss: 0.02\n",
      "Training Results - Epoch: 370  Avg loss: 0.02\n",
      "Validation Results - Epoch: 370  Avg loss: 0.02\n",
      "Training Results - Epoch: 371  Avg loss: 0.02\n",
      "Validation Results - Epoch: 371  Avg loss: 0.02\n",
      "Training Results - Epoch: 372  Avg loss: 0.02\n",
      "Validation Results - Epoch: 372  Avg loss: 0.02\n",
      "Training Results - Epoch: 373  Avg loss: 0.02\n",
      "Validation Results - Epoch: 373  Avg loss: 0.02\n",
      "Training Results - Epoch: 374  Avg loss: 0.02\n",
      "Validation Results - Epoch: 374  Avg loss: 0.02\n",
      "Training Results - Epoch: 375  Avg loss: 0.02\n",
      "Validation Results - Epoch: 375  Avg loss: 0.02\n",
      "Training Results - Epoch: 376  Avg loss: 0.02\n",
      "Validation Results - Epoch: 376  Avg loss: 0.02\n",
      "Training Results - Epoch: 377  Avg loss: 0.02\n",
      "Validation Results - Epoch: 377  Avg loss: 0.02\n",
      "Training Results - Epoch: 378  Avg loss: 0.02\n",
      "Validation Results - Epoch: 378  Avg loss: 0.02\n",
      "Training Results - Epoch: 379  Avg loss: 0.02\n",
      "Validation Results - Epoch: 379  Avg loss: 0.02\n",
      "Training Results - Epoch: 380  Avg loss: 0.02\n",
      "Validation Results - Epoch: 380  Avg loss: 0.02\n",
      "Training Results - Epoch: 381  Avg loss: 0.02\n",
      "Validation Results - Epoch: 381  Avg loss: 0.02\n",
      "Training Results - Epoch: 382  Avg loss: 0.02\n",
      "Validation Results - Epoch: 382  Avg loss: 0.02\n",
      "Training Results - Epoch: 383  Avg loss: 0.02\n",
      "Validation Results - Epoch: 383  Avg loss: 0.02\n",
      "Training Results - Epoch: 384  Avg loss: 0.02\n",
      "Validation Results - Epoch: 384  Avg loss: 0.02\n",
      "Training Results - Epoch: 385  Avg loss: 0.02\n",
      "Validation Results - Epoch: 385  Avg loss: 0.02\n",
      "Training Results - Epoch: 386  Avg loss: 0.02\n",
      "Validation Results - Epoch: 386  Avg loss: 0.02\n",
      "Training Results - Epoch: 387  Avg loss: 0.02\n",
      "Validation Results - Epoch: 387  Avg loss: 0.02\n",
      "Training Results - Epoch: 388  Avg loss: 0.02\n",
      "Validation Results - Epoch: 388  Avg loss: 0.02\n",
      "Training Results - Epoch: 389  Avg loss: 0.02\n",
      "Validation Results - Epoch: 389  Avg loss: 0.02\n",
      "Training Results - Epoch: 390  Avg loss: 0.02\n",
      "Validation Results - Epoch: 390  Avg loss: 0.02\n",
      "Training Results - Epoch: 391  Avg loss: 0.02\n",
      "Validation Results - Epoch: 391  Avg loss: 0.02\n",
      "Training Results - Epoch: 392  Avg loss: 0.02\n",
      "Validation Results - Epoch: 392  Avg loss: 0.02\n",
      "Training Results - Epoch: 393  Avg loss: 0.02\n",
      "Validation Results - Epoch: 393  Avg loss: 0.02\n",
      "Training Results - Epoch: 394  Avg loss: 0.02\n",
      "Validation Results - Epoch: 394  Avg loss: 0.02\n",
      "Training Results - Epoch: 395  Avg loss: 0.02\n",
      "Validation Results - Epoch: 395  Avg loss: 0.02\n",
      "Training Results - Epoch: 396  Avg loss: 0.02\n",
      "Validation Results - Epoch: 396  Avg loss: 0.02\n",
      "Training Results - Epoch: 397  Avg loss: 0.02\n",
      "Validation Results - Epoch: 397  Avg loss: 0.02\n",
      "Training Results - Epoch: 398  Avg loss: 0.02\n",
      "Validation Results - Epoch: 398  Avg loss: 0.02\n",
      "Training Results - Epoch: 399  Avg loss: 0.02\n",
      "Validation Results - Epoch: 399  Avg loss: 0.02\n",
      "Training Results - Epoch: 400  Avg loss: 0.02\n",
      "Validation Results - Epoch: 400  Avg loss: 0.02\n",
      "Training Results - Epoch: 401  Avg loss: 0.02\n",
      "Validation Results - Epoch: 401  Avg loss: 0.02\n",
      "Training Results - Epoch: 402  Avg loss: 0.02\n",
      "Validation Results - Epoch: 402  Avg loss: 0.02\n",
      "Training Results - Epoch: 403  Avg loss: 0.02\n",
      "Validation Results - Epoch: 403  Avg loss: 0.02\n",
      "Training Results - Epoch: 404  Avg loss: 0.02\n",
      "Validation Results - Epoch: 404  Avg loss: 0.02\n",
      "Training Results - Epoch: 405  Avg loss: 0.02\n",
      "Validation Results - Epoch: 405  Avg loss: 0.02\n",
      "Training Results - Epoch: 406  Avg loss: 0.02\n",
      "Validation Results - Epoch: 406  Avg loss: 0.02\n",
      "Training Results - Epoch: 407  Avg loss: 0.02\n",
      "Validation Results - Epoch: 407  Avg loss: 0.02\n",
      "Training Results - Epoch: 408  Avg loss: 0.02\n",
      "Validation Results - Epoch: 408  Avg loss: 0.02\n",
      "Training Results - Epoch: 409  Avg loss: 0.02\n",
      "Validation Results - Epoch: 409  Avg loss: 0.02\n",
      "Training Results - Epoch: 410  Avg loss: 0.02\n",
      "Validation Results - Epoch: 410  Avg loss: 0.02\n",
      "Training Results - Epoch: 411  Avg loss: 0.02\n",
      "2021-06-07 02:11:09,659 ignite.handlers.early_stopping.EarlyStopping INFO: EarlyStopping: Stop training\n",
      "Validation Results - Epoch: 411  Avg loss: 0.02\n"
     ]
    },
    {
     "output_type": "execute_result",
     "data": {
      "text/plain": [
       "State:\n",
       "\titeration: 411\n",
       "\tepoch: 411\n",
       "\tepoch_length: 1\n",
       "\tmax_epochs: 1000\n",
       "\toutput: 0.022631054744124413\n",
       "\tbatch: <class 'list'>\n",
       "\tmetrics: <class 'dict'>\n",
       "\tdataloader: <class 'torch.utils.data.dataloader.DataLoader'>\n",
       "\tseed: <class 'NoneType'>\n",
       "\ttimes: <class 'dict'>"
      ]
     },
     "metadata": {},
     "execution_count": 35
    }
   ],
   "source": [
    "trainer.run(train_loader, max_epochs=epochs)"
   ]
  },
  {
   "source": [
    "### Plotting the loss and accuracy"
   ],
   "cell_type": "markdown",
   "metadata": {}
  },
  {
   "cell_type": "code",
   "execution_count": 36,
   "metadata": {},
   "outputs": [
    {
     "output_type": "display_data",
     "data": {
      "text/plain": "<Figure size 432x288 with 1 Axes>",
      "image/svg+xml": "<?xml version=\"1.0\" encoding=\"utf-8\" standalone=\"no\"?>\r\n<!DOCTYPE svg PUBLIC \"-//W3C//DTD SVG 1.1//EN\"\r\n  \"http://www.w3.org/Graphics/SVG/1.1/DTD/svg11.dtd\">\r\n<svg height=\"262.19625pt\" version=\"1.1\" viewBox=\"0 0 388.965625 262.19625\" width=\"388.965625pt\" xmlns=\"http://www.w3.org/2000/svg\" xmlns:xlink=\"http://www.w3.org/1999/xlink\">\r\n <metadata>\r\n  <rdf:RDF xmlns:cc=\"http://creativecommons.org/ns#\" xmlns:dc=\"http://purl.org/dc/elements/1.1/\" xmlns:rdf=\"http://www.w3.org/1999/02/22-rdf-syntax-ns#\">\r\n   <cc:Work>\r\n    <dc:type rdf:resource=\"http://purl.org/dc/dcmitype/StillImage\"/>\r\n    <dc:date>2021-06-07T02:11:09.977016</dc:date>\r\n    <dc:format>image/svg+xml</dc:format>\r\n    <dc:creator>\r\n     <cc:Agent>\r\n      <dc:title>Matplotlib v3.4.2, https://matplotlib.org/</dc:title>\r\n     </cc:Agent>\r\n    </dc:creator>\r\n   </cc:Work>\r\n  </rdf:RDF>\r\n </metadata>\r\n <defs>\r\n  <style type=\"text/css\">*{stroke-linecap:butt;stroke-linejoin:round;}</style>\r\n </defs>\r\n <g id=\"figure_1\">\r\n  <g id=\"patch_1\">\r\n   <path d=\"M -0 262.19625 \r\nL 388.965625 262.19625 \r\nL 388.965625 0 \r\nL -0 0 \r\nz\r\n\" style=\"fill:none;\"/>\r\n  </g>\r\n  <g id=\"axes_1\">\r\n   <g id=\"patch_2\">\r\n    <path d=\"M 46.965625 224.64 \r\nL 381.765625 224.64 \r\nL 381.765625 7.2 \r\nL 46.965625 7.2 \r\nz\r\n\" style=\"fill:#ffffff;\"/>\r\n   </g>\r\n   <g id=\"matplotlib.axis_1\">\r\n    <g id=\"xtick_1\">\r\n     <g id=\"line2d_1\">\r\n      <defs>\r\n       <path d=\"M 0 0 \r\nL 0 3.5 \r\n\" id=\"m9915335094\" style=\"stroke:#000000;stroke-width:0.8;\"/>\r\n      </defs>\r\n      <g>\r\n       <use style=\"stroke:#000000;stroke-width:0.8;\" x=\"62.183807\" xlink:href=\"#m9915335094\" y=\"224.64\"/>\r\n      </g>\r\n     </g>\r\n     <g id=\"text_1\">\r\n      <!-- 0 -->\r\n      <g transform=\"translate(59.002557 239.238438)scale(0.1 -0.1)\">\r\n       <defs>\r\n        <path d=\"M 2034 4250 \r\nQ 1547 4250 1301 3770 \r\nQ 1056 3291 1056 2328 \r\nQ 1056 1369 1301 889 \r\nQ 1547 409 2034 409 \r\nQ 2525 409 2770 889 \r\nQ 3016 1369 3016 2328 \r\nQ 3016 3291 2770 3770 \r\nQ 2525 4250 2034 4250 \r\nz\r\nM 2034 4750 \r\nQ 2819 4750 3233 4129 \r\nQ 3647 3509 3647 2328 \r\nQ 3647 1150 3233 529 \r\nQ 2819 -91 2034 -91 \r\nQ 1250 -91 836 529 \r\nQ 422 1150 422 2328 \r\nQ 422 3509 836 4129 \r\nQ 1250 4750 2034 4750 \r\nz\r\n\" id=\"DejaVuSans-30\" transform=\"scale(0.015625)\"/>\r\n       </defs>\r\n       <use xlink:href=\"#DejaVuSans-30\"/>\r\n      </g>\r\n     </g>\r\n    </g>\r\n    <g id=\"xtick_2\">\r\n     <g id=\"line2d_2\">\r\n      <g>\r\n       <use style=\"stroke:#000000;stroke-width:0.8;\" x=\"136.41884\" xlink:href=\"#m9915335094\" y=\"224.64\"/>\r\n      </g>\r\n     </g>\r\n     <g id=\"text_2\">\r\n      <!-- 100 -->\r\n      <g transform=\"translate(126.87509 239.238438)scale(0.1 -0.1)\">\r\n       <defs>\r\n        <path d=\"M 794 531 \r\nL 1825 531 \r\nL 1825 4091 \r\nL 703 3866 \r\nL 703 4441 \r\nL 1819 4666 \r\nL 2450 4666 \r\nL 2450 531 \r\nL 3481 531 \r\nL 3481 0 \r\nL 794 0 \r\nL 794 531 \r\nz\r\n\" id=\"DejaVuSans-31\" transform=\"scale(0.015625)\"/>\r\n       </defs>\r\n       <use xlink:href=\"#DejaVuSans-31\"/>\r\n       <use x=\"63.623047\" xlink:href=\"#DejaVuSans-30\"/>\r\n       <use x=\"127.246094\" xlink:href=\"#DejaVuSans-30\"/>\r\n      </g>\r\n     </g>\r\n    </g>\r\n    <g id=\"xtick_3\">\r\n     <g id=\"line2d_3\">\r\n      <g>\r\n       <use style=\"stroke:#000000;stroke-width:0.8;\" x=\"210.653873\" xlink:href=\"#m9915335094\" y=\"224.64\"/>\r\n      </g>\r\n     </g>\r\n     <g id=\"text_3\">\r\n      <!-- 200 -->\r\n      <g transform=\"translate(201.110123 239.238438)scale(0.1 -0.1)\">\r\n       <defs>\r\n        <path d=\"M 1228 531 \r\nL 3431 531 \r\nL 3431 0 \r\nL 469 0 \r\nL 469 531 \r\nQ 828 903 1448 1529 \r\nQ 2069 2156 2228 2338 \r\nQ 2531 2678 2651 2914 \r\nQ 2772 3150 2772 3378 \r\nQ 2772 3750 2511 3984 \r\nQ 2250 4219 1831 4219 \r\nQ 1534 4219 1204 4116 \r\nQ 875 4013 500 3803 \r\nL 500 4441 \r\nQ 881 4594 1212 4672 \r\nQ 1544 4750 1819 4750 \r\nQ 2544 4750 2975 4387 \r\nQ 3406 4025 3406 3419 \r\nQ 3406 3131 3298 2873 \r\nQ 3191 2616 2906 2266 \r\nQ 2828 2175 2409 1742 \r\nQ 1991 1309 1228 531 \r\nz\r\n\" id=\"DejaVuSans-32\" transform=\"scale(0.015625)\"/>\r\n       </defs>\r\n       <use xlink:href=\"#DejaVuSans-32\"/>\r\n       <use x=\"63.623047\" xlink:href=\"#DejaVuSans-30\"/>\r\n       <use x=\"127.246094\" xlink:href=\"#DejaVuSans-30\"/>\r\n      </g>\r\n     </g>\r\n    </g>\r\n    <g id=\"xtick_4\">\r\n     <g id=\"line2d_4\">\r\n      <g>\r\n       <use style=\"stroke:#000000;stroke-width:0.8;\" x=\"284.888907\" xlink:href=\"#m9915335094\" y=\"224.64\"/>\r\n      </g>\r\n     </g>\r\n     <g id=\"text_4\">\r\n      <!-- 300 -->\r\n      <g transform=\"translate(275.345157 239.238438)scale(0.1 -0.1)\">\r\n       <defs>\r\n        <path d=\"M 2597 2516 \r\nQ 3050 2419 3304 2112 \r\nQ 3559 1806 3559 1356 \r\nQ 3559 666 3084 287 \r\nQ 2609 -91 1734 -91 \r\nQ 1441 -91 1130 -33 \r\nQ 819 25 488 141 \r\nL 488 750 \r\nQ 750 597 1062 519 \r\nQ 1375 441 1716 441 \r\nQ 2309 441 2620 675 \r\nQ 2931 909 2931 1356 \r\nQ 2931 1769 2642 2001 \r\nQ 2353 2234 1838 2234 \r\nL 1294 2234 \r\nL 1294 2753 \r\nL 1863 2753 \r\nQ 2328 2753 2575 2939 \r\nQ 2822 3125 2822 3475 \r\nQ 2822 3834 2567 4026 \r\nQ 2313 4219 1838 4219 \r\nQ 1578 4219 1281 4162 \r\nQ 984 4106 628 3988 \r\nL 628 4550 \r\nQ 988 4650 1302 4700 \r\nQ 1616 4750 1894 4750 \r\nQ 2613 4750 3031 4423 \r\nQ 3450 4097 3450 3541 \r\nQ 3450 3153 3228 2886 \r\nQ 3006 2619 2597 2516 \r\nz\r\n\" id=\"DejaVuSans-33\" transform=\"scale(0.015625)\"/>\r\n       </defs>\r\n       <use xlink:href=\"#DejaVuSans-33\"/>\r\n       <use x=\"63.623047\" xlink:href=\"#DejaVuSans-30\"/>\r\n       <use x=\"127.246094\" xlink:href=\"#DejaVuSans-30\"/>\r\n      </g>\r\n     </g>\r\n    </g>\r\n    <g id=\"xtick_5\">\r\n     <g id=\"line2d_5\">\r\n      <g>\r\n       <use style=\"stroke:#000000;stroke-width:0.8;\" x=\"359.12394\" xlink:href=\"#m9915335094\" y=\"224.64\"/>\r\n      </g>\r\n     </g>\r\n     <g id=\"text_5\">\r\n      <!-- 400 -->\r\n      <g transform=\"translate(349.58019 239.238438)scale(0.1 -0.1)\">\r\n       <defs>\r\n        <path d=\"M 2419 4116 \r\nL 825 1625 \r\nL 2419 1625 \r\nL 2419 4116 \r\nz\r\nM 2253 4666 \r\nL 3047 4666 \r\nL 3047 1625 \r\nL 3713 1625 \r\nL 3713 1100 \r\nL 3047 1100 \r\nL 3047 0 \r\nL 2419 0 \r\nL 2419 1100 \r\nL 313 1100 \r\nL 313 1709 \r\nL 2253 4666 \r\nz\r\n\" id=\"DejaVuSans-34\" transform=\"scale(0.015625)\"/>\r\n       </defs>\r\n       <use xlink:href=\"#DejaVuSans-34\"/>\r\n       <use x=\"63.623047\" xlink:href=\"#DejaVuSans-30\"/>\r\n       <use x=\"127.246094\" xlink:href=\"#DejaVuSans-30\"/>\r\n      </g>\r\n     </g>\r\n    </g>\r\n    <g id=\"text_6\">\r\n     <!-- No. of Epochs -->\r\n     <g transform=\"translate(180.150781 252.916563)scale(0.1 -0.1)\">\r\n      <defs>\r\n       <path d=\"M 628 4666 \r\nL 1478 4666 \r\nL 3547 763 \r\nL 3547 4666 \r\nL 4159 4666 \r\nL 4159 0 \r\nL 3309 0 \r\nL 1241 3903 \r\nL 1241 0 \r\nL 628 0 \r\nL 628 4666 \r\nz\r\n\" id=\"DejaVuSans-4e\" transform=\"scale(0.015625)\"/>\r\n       <path d=\"M 1959 3097 \r\nQ 1497 3097 1228 2736 \r\nQ 959 2375 959 1747 \r\nQ 959 1119 1226 758 \r\nQ 1494 397 1959 397 \r\nQ 2419 397 2687 759 \r\nQ 2956 1122 2956 1747 \r\nQ 2956 2369 2687 2733 \r\nQ 2419 3097 1959 3097 \r\nz\r\nM 1959 3584 \r\nQ 2709 3584 3137 3096 \r\nQ 3566 2609 3566 1747 \r\nQ 3566 888 3137 398 \r\nQ 2709 -91 1959 -91 \r\nQ 1206 -91 779 398 \r\nQ 353 888 353 1747 \r\nQ 353 2609 779 3096 \r\nQ 1206 3584 1959 3584 \r\nz\r\n\" id=\"DejaVuSans-6f\" transform=\"scale(0.015625)\"/>\r\n       <path d=\"M 684 794 \r\nL 1344 794 \r\nL 1344 0 \r\nL 684 0 \r\nL 684 794 \r\nz\r\n\" id=\"DejaVuSans-2e\" transform=\"scale(0.015625)\"/>\r\n       <path id=\"DejaVuSans-20\" transform=\"scale(0.015625)\"/>\r\n       <path d=\"M 2375 4863 \r\nL 2375 4384 \r\nL 1825 4384 \r\nQ 1516 4384 1395 4259 \r\nQ 1275 4134 1275 3809 \r\nL 1275 3500 \r\nL 2222 3500 \r\nL 2222 3053 \r\nL 1275 3053 \r\nL 1275 0 \r\nL 697 0 \r\nL 697 3053 \r\nL 147 3053 \r\nL 147 3500 \r\nL 697 3500 \r\nL 697 3744 \r\nQ 697 4328 969 4595 \r\nQ 1241 4863 1831 4863 \r\nL 2375 4863 \r\nz\r\n\" id=\"DejaVuSans-66\" transform=\"scale(0.015625)\"/>\r\n       <path d=\"M 628 4666 \r\nL 3578 4666 \r\nL 3578 4134 \r\nL 1259 4134 \r\nL 1259 2753 \r\nL 3481 2753 \r\nL 3481 2222 \r\nL 1259 2222 \r\nL 1259 531 \r\nL 3634 531 \r\nL 3634 0 \r\nL 628 0 \r\nL 628 4666 \r\nz\r\n\" id=\"DejaVuSans-45\" transform=\"scale(0.015625)\"/>\r\n       <path d=\"M 1159 525 \r\nL 1159 -1331 \r\nL 581 -1331 \r\nL 581 3500 \r\nL 1159 3500 \r\nL 1159 2969 \r\nQ 1341 3281 1617 3432 \r\nQ 1894 3584 2278 3584 \r\nQ 2916 3584 3314 3078 \r\nQ 3713 2572 3713 1747 \r\nQ 3713 922 3314 415 \r\nQ 2916 -91 2278 -91 \r\nQ 1894 -91 1617 61 \r\nQ 1341 213 1159 525 \r\nz\r\nM 3116 1747 \r\nQ 3116 2381 2855 2742 \r\nQ 2594 3103 2138 3103 \r\nQ 1681 3103 1420 2742 \r\nQ 1159 2381 1159 1747 \r\nQ 1159 1113 1420 752 \r\nQ 1681 391 2138 391 \r\nQ 2594 391 2855 752 \r\nQ 3116 1113 3116 1747 \r\nz\r\n\" id=\"DejaVuSans-70\" transform=\"scale(0.015625)\"/>\r\n       <path d=\"M 3122 3366 \r\nL 3122 2828 \r\nQ 2878 2963 2633 3030 \r\nQ 2388 3097 2138 3097 \r\nQ 1578 3097 1268 2742 \r\nQ 959 2388 959 1747 \r\nQ 959 1106 1268 751 \r\nQ 1578 397 2138 397 \r\nQ 2388 397 2633 464 \r\nQ 2878 531 3122 666 \r\nL 3122 134 \r\nQ 2881 22 2623 -34 \r\nQ 2366 -91 2075 -91 \r\nQ 1284 -91 818 406 \r\nQ 353 903 353 1747 \r\nQ 353 2603 823 3093 \r\nQ 1294 3584 2113 3584 \r\nQ 2378 3584 2631 3529 \r\nQ 2884 3475 3122 3366 \r\nz\r\n\" id=\"DejaVuSans-63\" transform=\"scale(0.015625)\"/>\r\n       <path d=\"M 3513 2113 \r\nL 3513 0 \r\nL 2938 0 \r\nL 2938 2094 \r\nQ 2938 2591 2744 2837 \r\nQ 2550 3084 2163 3084 \r\nQ 1697 3084 1428 2787 \r\nQ 1159 2491 1159 1978 \r\nL 1159 0 \r\nL 581 0 \r\nL 581 4863 \r\nL 1159 4863 \r\nL 1159 2956 \r\nQ 1366 3272 1645 3428 \r\nQ 1925 3584 2291 3584 \r\nQ 2894 3584 3203 3211 \r\nQ 3513 2838 3513 2113 \r\nz\r\n\" id=\"DejaVuSans-68\" transform=\"scale(0.015625)\"/>\r\n       <path d=\"M 2834 3397 \r\nL 2834 2853 \r\nQ 2591 2978 2328 3040 \r\nQ 2066 3103 1784 3103 \r\nQ 1356 3103 1142 2972 \r\nQ 928 2841 928 2578 \r\nQ 928 2378 1081 2264 \r\nQ 1234 2150 1697 2047 \r\nL 1894 2003 \r\nQ 2506 1872 2764 1633 \r\nQ 3022 1394 3022 966 \r\nQ 3022 478 2636 193 \r\nQ 2250 -91 1575 -91 \r\nQ 1294 -91 989 -36 \r\nQ 684 19 347 128 \r\nL 347 722 \r\nQ 666 556 975 473 \r\nQ 1284 391 1588 391 \r\nQ 1994 391 2212 530 \r\nQ 2431 669 2431 922 \r\nQ 2431 1156 2273 1281 \r\nQ 2116 1406 1581 1522 \r\nL 1381 1569 \r\nQ 847 1681 609 1914 \r\nQ 372 2147 372 2553 \r\nQ 372 3047 722 3315 \r\nQ 1072 3584 1716 3584 \r\nQ 2034 3584 2315 3537 \r\nQ 2597 3491 2834 3397 \r\nz\r\n\" id=\"DejaVuSans-73\" transform=\"scale(0.015625)\"/>\r\n      </defs>\r\n      <use xlink:href=\"#DejaVuSans-4e\"/>\r\n      <use x=\"74.804688\" xlink:href=\"#DejaVuSans-6f\"/>\r\n      <use x=\"134.236328\" xlink:href=\"#DejaVuSans-2e\"/>\r\n      <use x=\"166.023438\" xlink:href=\"#DejaVuSans-20\"/>\r\n      <use x=\"197.810547\" xlink:href=\"#DejaVuSans-6f\"/>\r\n      <use x=\"258.992188\" xlink:href=\"#DejaVuSans-66\"/>\r\n      <use x=\"294.197266\" xlink:href=\"#DejaVuSans-20\"/>\r\n      <use x=\"325.984375\" xlink:href=\"#DejaVuSans-45\"/>\r\n      <use x=\"389.167969\" xlink:href=\"#DejaVuSans-70\"/>\r\n      <use x=\"452.644531\" xlink:href=\"#DejaVuSans-6f\"/>\r\n      <use x=\"513.826172\" xlink:href=\"#DejaVuSans-63\"/>\r\n      <use x=\"568.806641\" xlink:href=\"#DejaVuSans-68\"/>\r\n      <use x=\"632.185547\" xlink:href=\"#DejaVuSans-73\"/>\r\n     </g>\r\n    </g>\r\n   </g>\r\n   <g id=\"matplotlib.axis_2\">\r\n    <g id=\"ytick_1\">\r\n     <g id=\"line2d_6\">\r\n      <defs>\r\n       <path d=\"M 0 0 \r\nL -3.5 0 \r\n\" id=\"mcad24e79e2\" style=\"stroke:#000000;stroke-width:0.8;\"/>\r\n      </defs>\r\n      <g>\r\n       <use style=\"stroke:#000000;stroke-width:0.8;\" x=\"46.965625\" xlink:href=\"#mcad24e79e2\" y=\"214.761453\"/>\r\n      </g>\r\n     </g>\r\n     <g id=\"text_7\">\r\n      <!-- 0 -->\r\n      <g transform=\"translate(33.603125 218.560671)scale(0.1 -0.1)\">\r\n       <use xlink:href=\"#DejaVuSans-30\"/>\r\n      </g>\r\n     </g>\r\n    </g>\r\n    <g id=\"ytick_2\">\r\n     <g id=\"line2d_7\">\r\n      <g>\r\n       <use style=\"stroke:#000000;stroke-width:0.8;\" x=\"46.965625\" xlink:href=\"#mcad24e79e2\" y=\"188.66102\"/>\r\n      </g>\r\n     </g>\r\n     <g id=\"text_8\">\r\n      <!-- 100 -->\r\n      <g transform=\"translate(20.878125 192.460239)scale(0.1 -0.1)\">\r\n       <use xlink:href=\"#DejaVuSans-31\"/>\r\n       <use x=\"63.623047\" xlink:href=\"#DejaVuSans-30\"/>\r\n       <use x=\"127.246094\" xlink:href=\"#DejaVuSans-30\"/>\r\n      </g>\r\n     </g>\r\n    </g>\r\n    <g id=\"ytick_3\">\r\n     <g id=\"line2d_8\">\r\n      <g>\r\n       <use style=\"stroke:#000000;stroke-width:0.8;\" x=\"46.965625\" xlink:href=\"#mcad24e79e2\" y=\"162.560587\"/>\r\n      </g>\r\n     </g>\r\n     <g id=\"text_9\">\r\n      <!-- 200 -->\r\n      <g transform=\"translate(20.878125 166.359806)scale(0.1 -0.1)\">\r\n       <use xlink:href=\"#DejaVuSans-32\"/>\r\n       <use x=\"63.623047\" xlink:href=\"#DejaVuSans-30\"/>\r\n       <use x=\"127.246094\" xlink:href=\"#DejaVuSans-30\"/>\r\n      </g>\r\n     </g>\r\n    </g>\r\n    <g id=\"ytick_4\">\r\n     <g id=\"line2d_9\">\r\n      <g>\r\n       <use style=\"stroke:#000000;stroke-width:0.8;\" x=\"46.965625\" xlink:href=\"#mcad24e79e2\" y=\"136.460155\"/>\r\n      </g>\r\n     </g>\r\n     <g id=\"text_10\">\r\n      <!-- 300 -->\r\n      <g transform=\"translate(20.878125 140.259373)scale(0.1 -0.1)\">\r\n       <use xlink:href=\"#DejaVuSans-33\"/>\r\n       <use x=\"63.623047\" xlink:href=\"#DejaVuSans-30\"/>\r\n       <use x=\"127.246094\" xlink:href=\"#DejaVuSans-30\"/>\r\n      </g>\r\n     </g>\r\n    </g>\r\n    <g id=\"ytick_5\">\r\n     <g id=\"line2d_10\">\r\n      <g>\r\n       <use style=\"stroke:#000000;stroke-width:0.8;\" x=\"46.965625\" xlink:href=\"#mcad24e79e2\" y=\"110.359722\"/>\r\n      </g>\r\n     </g>\r\n     <g id=\"text_11\">\r\n      <!-- 400 -->\r\n      <g transform=\"translate(20.878125 114.158941)scale(0.1 -0.1)\">\r\n       <use xlink:href=\"#DejaVuSans-34\"/>\r\n       <use x=\"63.623047\" xlink:href=\"#DejaVuSans-30\"/>\r\n       <use x=\"127.246094\" xlink:href=\"#DejaVuSans-30\"/>\r\n      </g>\r\n     </g>\r\n    </g>\r\n    <g id=\"ytick_6\">\r\n     <g id=\"line2d_11\">\r\n      <g>\r\n       <use style=\"stroke:#000000;stroke-width:0.8;\" x=\"46.965625\" xlink:href=\"#mcad24e79e2\" y=\"84.259289\"/>\r\n      </g>\r\n     </g>\r\n     <g id=\"text_12\">\r\n      <!-- 500 -->\r\n      <g transform=\"translate(20.878125 88.058508)scale(0.1 -0.1)\">\r\n       <defs>\r\n        <path d=\"M 691 4666 \r\nL 3169 4666 \r\nL 3169 4134 \r\nL 1269 4134 \r\nL 1269 2991 \r\nQ 1406 3038 1543 3061 \r\nQ 1681 3084 1819 3084 \r\nQ 2600 3084 3056 2656 \r\nQ 3513 2228 3513 1497 \r\nQ 3513 744 3044 326 \r\nQ 2575 -91 1722 -91 \r\nQ 1428 -91 1123 -41 \r\nQ 819 9 494 109 \r\nL 494 744 \r\nQ 775 591 1075 516 \r\nQ 1375 441 1709 441 \r\nQ 2250 441 2565 725 \r\nQ 2881 1009 2881 1497 \r\nQ 2881 1984 2565 2268 \r\nQ 2250 2553 1709 2553 \r\nQ 1456 2553 1204 2497 \r\nQ 953 2441 691 2322 \r\nL 691 4666 \r\nz\r\n\" id=\"DejaVuSans-35\" transform=\"scale(0.015625)\"/>\r\n       </defs>\r\n       <use xlink:href=\"#DejaVuSans-35\"/>\r\n       <use x=\"63.623047\" xlink:href=\"#DejaVuSans-30\"/>\r\n       <use x=\"127.246094\" xlink:href=\"#DejaVuSans-30\"/>\r\n      </g>\r\n     </g>\r\n    </g>\r\n    <g id=\"ytick_7\">\r\n     <g id=\"line2d_12\">\r\n      <g>\r\n       <use style=\"stroke:#000000;stroke-width:0.8;\" x=\"46.965625\" xlink:href=\"#mcad24e79e2\" y=\"58.158856\"/>\r\n      </g>\r\n     </g>\r\n     <g id=\"text_13\">\r\n      <!-- 600 -->\r\n      <g transform=\"translate(20.878125 61.958075)scale(0.1 -0.1)\">\r\n       <defs>\r\n        <path d=\"M 2113 2584 \r\nQ 1688 2584 1439 2293 \r\nQ 1191 2003 1191 1497 \r\nQ 1191 994 1439 701 \r\nQ 1688 409 2113 409 \r\nQ 2538 409 2786 701 \r\nQ 3034 994 3034 1497 \r\nQ 3034 2003 2786 2293 \r\nQ 2538 2584 2113 2584 \r\nz\r\nM 3366 4563 \r\nL 3366 3988 \r\nQ 3128 4100 2886 4159 \r\nQ 2644 4219 2406 4219 \r\nQ 1781 4219 1451 3797 \r\nQ 1122 3375 1075 2522 \r\nQ 1259 2794 1537 2939 \r\nQ 1816 3084 2150 3084 \r\nQ 2853 3084 3261 2657 \r\nQ 3669 2231 3669 1497 \r\nQ 3669 778 3244 343 \r\nQ 2819 -91 2113 -91 \r\nQ 1303 -91 875 529 \r\nQ 447 1150 447 2328 \r\nQ 447 3434 972 4092 \r\nQ 1497 4750 2381 4750 \r\nQ 2619 4750 2861 4703 \r\nQ 3103 4656 3366 4563 \r\nz\r\n\" id=\"DejaVuSans-36\" transform=\"scale(0.015625)\"/>\r\n       </defs>\r\n       <use xlink:href=\"#DejaVuSans-36\"/>\r\n       <use x=\"63.623047\" xlink:href=\"#DejaVuSans-30\"/>\r\n       <use x=\"127.246094\" xlink:href=\"#DejaVuSans-30\"/>\r\n      </g>\r\n     </g>\r\n    </g>\r\n    <g id=\"ytick_8\">\r\n     <g id=\"line2d_13\">\r\n      <g>\r\n       <use style=\"stroke:#000000;stroke-width:0.8;\" x=\"46.965625\" xlink:href=\"#mcad24e79e2\" y=\"32.058424\"/>\r\n      </g>\r\n     </g>\r\n     <g id=\"text_14\">\r\n      <!-- 700 -->\r\n      <g transform=\"translate(20.878125 35.857643)scale(0.1 -0.1)\">\r\n       <defs>\r\n        <path d=\"M 525 4666 \r\nL 3525 4666 \r\nL 3525 4397 \r\nL 1831 0 \r\nL 1172 0 \r\nL 2766 4134 \r\nL 525 4134 \r\nL 525 4666 \r\nz\r\n\" id=\"DejaVuSans-37\" transform=\"scale(0.015625)\"/>\r\n       </defs>\r\n       <use xlink:href=\"#DejaVuSans-37\"/>\r\n       <use x=\"63.623047\" xlink:href=\"#DejaVuSans-30\"/>\r\n       <use x=\"127.246094\" xlink:href=\"#DejaVuSans-30\"/>\r\n      </g>\r\n     </g>\r\n    </g>\r\n    <g id=\"text_15\">\r\n     <!-- Loss -->\r\n     <g transform=\"translate(14.798438 126.887188)rotate(-90)scale(0.1 -0.1)\">\r\n      <defs>\r\n       <path d=\"M 628 4666 \r\nL 1259 4666 \r\nL 1259 531 \r\nL 3531 531 \r\nL 3531 0 \r\nL 628 0 \r\nL 628 4666 \r\nz\r\n\" id=\"DejaVuSans-4c\" transform=\"scale(0.015625)\"/>\r\n      </defs>\r\n      <use xlink:href=\"#DejaVuSans-4c\"/>\r\n      <use x=\"53.962891\" xlink:href=\"#DejaVuSans-6f\"/>\r\n      <use x=\"115.144531\" xlink:href=\"#DejaVuSans-73\"/>\r\n      <use x=\"167.244141\" xlink:href=\"#DejaVuSans-73\"/>\r\n     </g>\r\n    </g>\r\n   </g>\r\n   <g id=\"line2d_14\">\r\n    <path clip-path=\"url(#p6ad6a27819)\" d=\"M 62.183807 17.083636 \r\nL 62.926157 214.619026 \r\nL 63.668507 214.743569 \r\nL 81.484915 214.751333 \r\nL 366.547443 214.755549 \r\nL 366.547443 214.755549 \r\n\" style=\"fill:none;stroke:#1f77b4;stroke-linecap:square;stroke-width:1.5;\"/>\r\n   </g>\r\n   <g id=\"line2d_15\">\r\n    <path clip-path=\"url(#p6ad6a27819)\" d=\"M 62.183807 62.871001 \r\nL 62.926157 214.652227 \r\nL 64.410858 214.750757 \r\nL 78.515514 214.752722 \r\nL 366.547443 214.75636 \r\nL 366.547443 214.75636 \r\n\" style=\"fill:none;stroke:#ff7f0e;stroke-linecap:square;stroke-width:1.5;\"/>\r\n   </g>\r\n   <g id=\"patch_3\">\r\n    <path d=\"M 46.965625 224.64 \r\nL 46.965625 7.2 \r\n\" style=\"fill:none;stroke:#000000;stroke-linecap:square;stroke-linejoin:miter;stroke-width:0.8;\"/>\r\n   </g>\r\n   <g id=\"patch_4\">\r\n    <path d=\"M 381.765625 224.64 \r\nL 381.765625 7.2 \r\n\" style=\"fill:none;stroke:#000000;stroke-linecap:square;stroke-linejoin:miter;stroke-width:0.8;\"/>\r\n   </g>\r\n   <g id=\"patch_5\">\r\n    <path d=\"M 46.965625 224.64 \r\nL 381.765625 224.64 \r\n\" style=\"fill:none;stroke:#000000;stroke-linecap:square;stroke-linejoin:miter;stroke-width:0.8;\"/>\r\n   </g>\r\n   <g id=\"patch_6\">\r\n    <path d=\"M 46.965625 7.2 \r\nL 381.765625 7.2 \r\n\" style=\"fill:none;stroke:#000000;stroke-linecap:square;stroke-linejoin:miter;stroke-width:0.8;\"/>\r\n   </g>\r\n   <g id=\"legend_1\">\r\n    <g id=\"line2d_16\">\r\n     <path d=\"M 270.271875 20.298438 \r\nL 290.271875 20.298438 \r\n\" style=\"fill:none;stroke:#1f77b4;stroke-linecap:square;stroke-width:1.5;\"/>\r\n    </g>\r\n    <g id=\"line2d_17\"/>\r\n    <g id=\"text_16\">\r\n     <!-- Training Loss -->\r\n     <g transform=\"translate(298.271875 23.798438)scale(0.1 -0.1)\">\r\n      <defs>\r\n       <path d=\"M -19 4666 \r\nL 3928 4666 \r\nL 3928 4134 \r\nL 2272 4134 \r\nL 2272 0 \r\nL 1638 0 \r\nL 1638 4134 \r\nL -19 4134 \r\nL -19 4666 \r\nz\r\n\" id=\"DejaVuSans-54\" transform=\"scale(0.015625)\"/>\r\n       <path d=\"M 2631 2963 \r\nQ 2534 3019 2420 3045 \r\nQ 2306 3072 2169 3072 \r\nQ 1681 3072 1420 2755 \r\nQ 1159 2438 1159 1844 \r\nL 1159 0 \r\nL 581 0 \r\nL 581 3500 \r\nL 1159 3500 \r\nL 1159 2956 \r\nQ 1341 3275 1631 3429 \r\nQ 1922 3584 2338 3584 \r\nQ 2397 3584 2469 3576 \r\nQ 2541 3569 2628 3553 \r\nL 2631 2963 \r\nz\r\n\" id=\"DejaVuSans-72\" transform=\"scale(0.015625)\"/>\r\n       <path d=\"M 2194 1759 \r\nQ 1497 1759 1228 1600 \r\nQ 959 1441 959 1056 \r\nQ 959 750 1161 570 \r\nQ 1363 391 1709 391 \r\nQ 2188 391 2477 730 \r\nQ 2766 1069 2766 1631 \r\nL 2766 1759 \r\nL 2194 1759 \r\nz\r\nM 3341 1997 \r\nL 3341 0 \r\nL 2766 0 \r\nL 2766 531 \r\nQ 2569 213 2275 61 \r\nQ 1981 -91 1556 -91 \r\nQ 1019 -91 701 211 \r\nQ 384 513 384 1019 \r\nQ 384 1609 779 1909 \r\nQ 1175 2209 1959 2209 \r\nL 2766 2209 \r\nL 2766 2266 \r\nQ 2766 2663 2505 2880 \r\nQ 2244 3097 1772 3097 \r\nQ 1472 3097 1187 3025 \r\nQ 903 2953 641 2809 \r\nL 641 3341 \r\nQ 956 3463 1253 3523 \r\nQ 1550 3584 1831 3584 \r\nQ 2591 3584 2966 3190 \r\nQ 3341 2797 3341 1997 \r\nz\r\n\" id=\"DejaVuSans-61\" transform=\"scale(0.015625)\"/>\r\n       <path d=\"M 603 3500 \r\nL 1178 3500 \r\nL 1178 0 \r\nL 603 0 \r\nL 603 3500 \r\nz\r\nM 603 4863 \r\nL 1178 4863 \r\nL 1178 4134 \r\nL 603 4134 \r\nL 603 4863 \r\nz\r\n\" id=\"DejaVuSans-69\" transform=\"scale(0.015625)\"/>\r\n       <path d=\"M 3513 2113 \r\nL 3513 0 \r\nL 2938 0 \r\nL 2938 2094 \r\nQ 2938 2591 2744 2837 \r\nQ 2550 3084 2163 3084 \r\nQ 1697 3084 1428 2787 \r\nQ 1159 2491 1159 1978 \r\nL 1159 0 \r\nL 581 0 \r\nL 581 3500 \r\nL 1159 3500 \r\nL 1159 2956 \r\nQ 1366 3272 1645 3428 \r\nQ 1925 3584 2291 3584 \r\nQ 2894 3584 3203 3211 \r\nQ 3513 2838 3513 2113 \r\nz\r\n\" id=\"DejaVuSans-6e\" transform=\"scale(0.015625)\"/>\r\n       <path d=\"M 2906 1791 \r\nQ 2906 2416 2648 2759 \r\nQ 2391 3103 1925 3103 \r\nQ 1463 3103 1205 2759 \r\nQ 947 2416 947 1791 \r\nQ 947 1169 1205 825 \r\nQ 1463 481 1925 481 \r\nQ 2391 481 2648 825 \r\nQ 2906 1169 2906 1791 \r\nz\r\nM 3481 434 \r\nQ 3481 -459 3084 -895 \r\nQ 2688 -1331 1869 -1331 \r\nQ 1566 -1331 1297 -1286 \r\nQ 1028 -1241 775 -1147 \r\nL 775 -588 \r\nQ 1028 -725 1275 -790 \r\nQ 1522 -856 1778 -856 \r\nQ 2344 -856 2625 -561 \r\nQ 2906 -266 2906 331 \r\nL 2906 616 \r\nQ 2728 306 2450 153 \r\nQ 2172 0 1784 0 \r\nQ 1141 0 747 490 \r\nQ 353 981 353 1791 \r\nQ 353 2603 747 3093 \r\nQ 1141 3584 1784 3584 \r\nQ 2172 3584 2450 3431 \r\nQ 2728 3278 2906 2969 \r\nL 2906 3500 \r\nL 3481 3500 \r\nL 3481 434 \r\nz\r\n\" id=\"DejaVuSans-67\" transform=\"scale(0.015625)\"/>\r\n      </defs>\r\n      <use xlink:href=\"#DejaVuSans-54\"/>\r\n      <use x=\"46.333984\" xlink:href=\"#DejaVuSans-72\"/>\r\n      <use x=\"87.447266\" xlink:href=\"#DejaVuSans-61\"/>\r\n      <use x=\"148.726562\" xlink:href=\"#DejaVuSans-69\"/>\r\n      <use x=\"176.509766\" xlink:href=\"#DejaVuSans-6e\"/>\r\n      <use x=\"239.888672\" xlink:href=\"#DejaVuSans-69\"/>\r\n      <use x=\"267.671875\" xlink:href=\"#DejaVuSans-6e\"/>\r\n      <use x=\"331.050781\" xlink:href=\"#DejaVuSans-67\"/>\r\n      <use x=\"394.527344\" xlink:href=\"#DejaVuSans-20\"/>\r\n      <use x=\"426.314453\" xlink:href=\"#DejaVuSans-4c\"/>\r\n      <use x=\"480.277344\" xlink:href=\"#DejaVuSans-6f\"/>\r\n      <use x=\"541.458984\" xlink:href=\"#DejaVuSans-73\"/>\r\n      <use x=\"593.558594\" xlink:href=\"#DejaVuSans-73\"/>\r\n     </g>\r\n    </g>\r\n    <g id=\"line2d_18\">\r\n     <path d=\"M 270.271875 34.976562 \r\nL 290.271875 34.976562 \r\n\" style=\"fill:none;stroke:#ff7f0e;stroke-linecap:square;stroke-width:1.5;\"/>\r\n    </g>\r\n    <g id=\"line2d_19\"/>\r\n    <g id=\"text_17\">\r\n     <!-- Validation Loss -->\r\n     <g transform=\"translate(298.271875 38.476562)scale(0.1 -0.1)\">\r\n      <defs>\r\n       <path d=\"M 1831 0 \r\nL 50 4666 \r\nL 709 4666 \r\nL 2188 738 \r\nL 3669 4666 \r\nL 4325 4666 \r\nL 2547 0 \r\nL 1831 0 \r\nz\r\n\" id=\"DejaVuSans-56\" transform=\"scale(0.015625)\"/>\r\n       <path d=\"M 603 4863 \r\nL 1178 4863 \r\nL 1178 0 \r\nL 603 0 \r\nL 603 4863 \r\nz\r\n\" id=\"DejaVuSans-6c\" transform=\"scale(0.015625)\"/>\r\n       <path d=\"M 2906 2969 \r\nL 2906 4863 \r\nL 3481 4863 \r\nL 3481 0 \r\nL 2906 0 \r\nL 2906 525 \r\nQ 2725 213 2448 61 \r\nQ 2172 -91 1784 -91 \r\nQ 1150 -91 751 415 \r\nQ 353 922 353 1747 \r\nQ 353 2572 751 3078 \r\nQ 1150 3584 1784 3584 \r\nQ 2172 3584 2448 3432 \r\nQ 2725 3281 2906 2969 \r\nz\r\nM 947 1747 \r\nQ 947 1113 1208 752 \r\nQ 1469 391 1925 391 \r\nQ 2381 391 2643 752 \r\nQ 2906 1113 2906 1747 \r\nQ 2906 2381 2643 2742 \r\nQ 2381 3103 1925 3103 \r\nQ 1469 3103 1208 2742 \r\nQ 947 2381 947 1747 \r\nz\r\n\" id=\"DejaVuSans-64\" transform=\"scale(0.015625)\"/>\r\n       <path d=\"M 1172 4494 \r\nL 1172 3500 \r\nL 2356 3500 \r\nL 2356 3053 \r\nL 1172 3053 \r\nL 1172 1153 \r\nQ 1172 725 1289 603 \r\nQ 1406 481 1766 481 \r\nL 2356 481 \r\nL 2356 0 \r\nL 1766 0 \r\nQ 1100 0 847 248 \r\nQ 594 497 594 1153 \r\nL 594 3053 \r\nL 172 3053 \r\nL 172 3500 \r\nL 594 3500 \r\nL 594 4494 \r\nL 1172 4494 \r\nz\r\n\" id=\"DejaVuSans-74\" transform=\"scale(0.015625)\"/>\r\n      </defs>\r\n      <use xlink:href=\"#DejaVuSans-56\"/>\r\n      <use x=\"60.658203\" xlink:href=\"#DejaVuSans-61\"/>\r\n      <use x=\"121.9375\" xlink:href=\"#DejaVuSans-6c\"/>\r\n      <use x=\"149.720703\" xlink:href=\"#DejaVuSans-69\"/>\r\n      <use x=\"177.503906\" xlink:href=\"#DejaVuSans-64\"/>\r\n      <use x=\"240.980469\" xlink:href=\"#DejaVuSans-61\"/>\r\n      <use x=\"302.259766\" xlink:href=\"#DejaVuSans-74\"/>\r\n      <use x=\"341.46875\" xlink:href=\"#DejaVuSans-69\"/>\r\n      <use x=\"369.251953\" xlink:href=\"#DejaVuSans-6f\"/>\r\n      <use x=\"430.433594\" xlink:href=\"#DejaVuSans-6e\"/>\r\n      <use x=\"493.8125\" xlink:href=\"#DejaVuSans-20\"/>\r\n      <use x=\"525.599609\" xlink:href=\"#DejaVuSans-4c\"/>\r\n      <use x=\"579.5625\" xlink:href=\"#DejaVuSans-6f\"/>\r\n      <use x=\"640.744141\" xlink:href=\"#DejaVuSans-73\"/>\r\n      <use x=\"692.84375\" xlink:href=\"#DejaVuSans-73\"/>\r\n     </g>\r\n    </g>\r\n   </g>\r\n  </g>\r\n </g>\r\n <defs>\r\n  <clipPath id=\"p6ad6a27819\">\r\n   <rect height=\"217.44\" width=\"334.8\" x=\"46.965625\" y=\"7.2\"/>\r\n  </clipPath>\r\n </defs>\r\n</svg>\r\n",
      "image/png": "[encoded data removed]"
     },
     "metadata": {
      "needs_background": "light"
     }
    }
   ],
   "source": [
    "plt.plot(training_history['loss'],label=\"Training Loss\")\n",
    "plt.plot(validation_history['loss'],label=\"Validation Loss\")\n",
    "plt.xlabel('No. of Epochs')\n",
    "plt.ylabel('Loss')\n",
    "plt.legend(frameon=False)\n",
    "plt.show()"
   ]
  },
  {
   "cell_type": "code",
   "execution_count": null,
   "metadata": {},
   "outputs": [],
   "source": []
  }
 ]
}