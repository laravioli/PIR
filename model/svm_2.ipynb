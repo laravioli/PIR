{
 "metadata": {
  "language_info": {
   "codemirror_mode": {
    "name": "ipython",
    "version": 3
   },
   "file_extension": ".py",
   "mimetype": "text/x-python",
   "name": "python",
   "nbconvert_exporter": "python",
   "pygments_lexer": "ipython3",
   "version": "3.9.5"
  },
  "orig_nbformat": 2,
  "kernelspec": {
   "name": "myenv",
   "display_name": "Python 3.9.5  ('.venv': venv)"
  }
 },
 "nbformat": 4,
 "nbformat_minor": 2,
 "cells": [
  {
   "cell_type": "code",
   "execution_count": 1,
   "metadata": {},
   "outputs": [],
   "source": [
    "import time\n",
    "import numpy as np\n",
    "import matplotlib.pyplot as plt\n",
    "import pandas as pd\n",
    "\n",
    "from pathlib import Path\n",
    "\n",
    "from sklearn.svm import SVR\n",
    "from sklearn.model_selection import train_test_split, GridSearchCV, learning_curve\n",
    "from sklearn.metrics import mean_squared_error, mean_absolute_error, r2_score"
   ]
  },
  {
   "cell_type": "code",
   "execution_count": 2,
   "metadata": {},
   "outputs": [],
   "source": [
    "df_Ch001 = pd.DataFrame(pd.read_pickle(Path(\"C:/Users/Victor/Desktop/PIR/process/Ch001.pkl\")))\n",
    "df_Ch009 = pd.DataFrame(pd.read_pickle(Path(\"C:/Users/Victor/Desktop/PIR/process/Ch009.pkl\")))\n",
    "df_Ch020 = pd.DataFrame(pd.read_pickle(Path(\"C:/Users/Victor/Desktop/PIR/process/Ch020.pkl\")))\n",
    "df_Ch022 = pd.DataFrame(pd.read_pickle(Path(\"C:/Users/Victor/Desktop/PIR/process/Ch022.pkl\")))"
   ]
  },
  {
   "cell_type": "code",
   "execution_count": 3,
   "metadata": {},
   "outputs": [],
   "source": [
    "from model_util import data_scale\n",
    "from sklearn.preprocessing import MinMaxScaler, StandardScaler\n",
    "\n",
    "df_input=[df_Ch001, df_Ch009, df_Ch020]\n",
    "df_input_scaled=[]\n",
    "\n",
    "LOG_SCALE= False\n",
    "scaler=MinMaxScaler()\n",
    "\n",
    "for df in df_input:\n",
    "    df_input_scaled.append(data_scale(df, scaler, LOG_SCALE))\n",
    "\n",
    "df_output_scaled, output_scaler = data_scale(df_Ch022, scaler, LOG_SCALE, output= True)"
   ]
  },
  {
   "cell_type": "code",
   "execution_count": 4,
   "metadata": {},
   "outputs": [],
   "source": [
    "MSE=[]\n",
    "MEA=[]\n",
    "R2=[]\n",
    "\n",
    "zero_data = np.zeros(shape=(len(df_Ch022.index),len(df_Ch022.columns)))\n",
    "df_pred = pd.DataFrame(zero_data, index= df_Ch022.index, columns=df_Ch022.columns)"
   ]
  },
  {
   "cell_type": "code",
   "execution_count": 5,
   "metadata": {},
   "outputs": [],
   "source": [
    "size=len(df_Ch022.index)\n",
    "\n",
    "for p in range(len(df_Ch022.columns)):\n",
    "\n",
    "    #format, split data\n",
    "    data=np.dstack(df_input_scaled)[:,p,:]\n",
    "    target=df_output_scaled.iloc[:,p].copy().values\n",
    "\n",
    "    split=int(size*0.15)\n",
    "\n",
    "    X_test=data[:split]\n",
    "    y_test=target[:split]\n",
    "\n",
    "    X_train=data[split:]\n",
    "    y_train=target[split:]\n",
    "\n",
    "    #gridsearch\n",
    "    svr_grid = GridSearchCV(SVR(kernel='rbf', gamma=0.1),\n",
    "                   param_grid={\"C\": [1e0, 1e1, 1e2, 1e3],\n",
    "                               \"gamma\": np.logspace(-2, 2, 5)})\n",
    "\n",
    "    svr_grid.fit(X_train, y_train)\n",
    "    C = svr_grid.best_params_['C']\n",
    "    gamma= svr_grid.best_params_['gamma']\n",
    "\n",
    "    #learning curve\n",
    "    svr_lc = SVR(kernel='rbf', C=C, gamma=gamma)\n",
    "    train_sizes, train_scores_svr, test_scores_svr = \\\n",
    "    learning_curve(svr_lc, X_train, y_train, train_sizes=np.linspace(0.1, 1, 10),\n",
    "                   scoring=\"neg_mean_squared_error\", cv=10)\n",
    "\n",
    "    split = train_sizes[np.argmin(-test_scores_svr.mean(1))]\n",
    "    if split >int(size*0.5):\n",
    "        X_test=data[:size-split]\n",
    "        y_test=target[:size-split]\n",
    "\n",
    "        X_train=data[size-split:]\n",
    "        y_train=target[size-split:]\n",
    "\n",
    "    #calcul predict test, error\n",
    "    svr=SVR(kernel='rbf', C=C, gamma=gamma)\n",
    "    svr.fit(X_train, y_train)\n",
    "    y_pred_test = svr.predict(X_test)\n",
    "\n",
    "    min=output_scaler.data_min_[p]\n",
    "    max=output_scaler.data_max_[p]\n",
    "    y_test=(max-min)*y_test+min\n",
    "    y_pred_test=(max-min)*y_pred_test+min\n",
    "\n",
    "    MSE.append(mean_squared_error(y_test,y_pred_test))\n",
    "    MEA.append(mean_absolute_error(y_test,y_pred_test))\n",
    "    R2.append(r2_score(y_test,y_pred_test))\n",
    "\n",
    "    #using model\n",
    "    y_pred=svr.predict(data)\n",
    "    min=output_scaler.data_min_[p]\n",
    "    max=output_scaler.data_max_[p]\n",
    "    y_pred=(max-min)*y_pred+min\n",
    "\n",
    "    df_pred[df_pred.columns[p]] = y_pred"
   ]
  },
  {
   "cell_type": "code",
   "execution_count": 13,
   "metadata": {},
   "outputs": [],
   "source": [
    "df_pred.to_pickle(Path(\"C:/Users/Victor/Desktop/PIR/model/saved_models/SVM_predictions.pkl\"))\n",
    "df_metrics=pd.DataFrame({\"MSE\": MSE, \"MEA\": MEA, \"R2\": R2})\n",
    "df_metrics.to_pickle(Path(\"C:/Users/Victor/Desktop/PIR/model/saved_models/SVM_metrics.pkl\"))"
   ]
  },
  {
   "cell_type": "code",
   "execution_count": 12,
   "metadata": {},
   "outputs": [
    {
     "output_type": "execute_result",
     "data": {
      "text/plain": [
       "             MSE           MEA            R2\n",
       "0   1.250180e+02     10.952686 -1.551081e+02\n",
       "1   4.087399e+02     20.183472 -3.963106e+02\n",
       "2   4.000360e+09  59015.891803 -1.519043e+09\n",
       "3   6.254434e+02     24.877560 -9.922316e+01\n",
       "4   3.533907e+01      4.768083 -8.314923e-01\n",
       "5   1.559611e+01      2.648192  1.044149e-03\n",
       "6   1.899737e+01      3.523843 -8.854020e-02\n",
       "7   2.904815e+01      4.656917 -4.316106e-01\n",
       "8   5.021693e+04    222.424257 -3.144730e+03\n",
       "9   8.254278e+01      6.305944 -9.259101e+00\n",
       "10  1.952204e+02     13.038349 -4.391132e+01\n",
       "11  1.187973e+03     33.179069 -4.832268e+02\n",
       "12  5.683791e+02     15.845594 -4.547357e+02\n",
       "13  1.906590e+03     32.088884 -1.987041e+03\n",
       "14  1.066436e+04     86.521966 -1.219962e+04\n",
       "15  1.086664e+04     80.206502 -3.558311e+03\n",
       "16  4.048051e+04    182.633839 -8.586490e+03\n",
       "17  3.038889e+04    162.377870 -3.819316e+03\n",
       "18  2.624604e+04    145.961939 -1.090843e+02\n",
       "19  3.757204e+04    179.649011 -1.066667e+03\n",
       "20  3.149699e+04    152.134385 -6.472340e+02\n",
       "21  4.812788e+04    192.069913 -6.228396e+02\n",
       "22  1.493028e+04     99.142609 -1.024348e+02\n",
       "23  1.109129e+04     81.605766 -5.584947e+01\n",
       "24  9.492457e+03     74.484041 -2.923655e+01\n",
       "25  4.175079e+04    194.525522 -1.156616e+02\n",
       "26  4.507087e+04    200.946534 -9.809659e+01\n",
       "27  4.370851e+04    174.968625 -6.860803e+01\n",
       "28  2.332319e+04    128.225344 -2.759115e+01\n",
       "29  4.836099e+04    199.975966 -4.557829e+01\n",
       "30  1.053301e+04     90.781903 -8.679926e+00\n",
       "31  4.436775e+04    208.003605 -3.044965e+01\n",
       "32  1.750527e+03     23.094762 -2.483164e-01\n",
       "33  1.411590e+05    375.040666 -1.079502e+02\n",
       "34  3.241611e+04    171.089242 -2.368298e+01"
      ],
      "text/html": "<div>\n<style scoped>\n    .dataframe tbody tr th:only-of-type {\n        vertical-align: middle;\n    }\n\n    .dataframe tbody tr th {\n        vertical-align: top;\n    }\n\n    .dataframe thead th {\n        text-align: right;\n    }\n</style>\n<table border=\"1\" class=\"dataframe\">\n  <thead>\n    <tr style=\"text-align: right;\">\n      <th></th>\n      <th>MSE</th>\n      <th>MEA</th>\n      <th>R2</th>\n    </tr>\n  </thead>\n  <tbody>\n    <tr>\n      <th>0</th>\n      <td>1.250180e+02</td>\n      <td>10.952686</td>\n      <td>-1.551081e+02</td>\n    </tr>\n    <tr>\n      <th>1</th>\n      <td>4.087399e+02</td>\n      <td>20.183472</td>\n      <td>-3.963106e+02</td>\n    </tr>\n    <tr>\n      <th>2</th>\n      <td>4.000360e+09</td>\n      <td>59015.891803</td>\n      <td>-1.519043e+09</td>\n    </tr>\n    <tr>\n      <th>3</th>\n      <td>6.254434e+02</td>\n      <td>24.877560</td>\n      <td>-9.922316e+01</td>\n    </tr>\n    <tr>\n      <th>4</th>\n      <td>3.533907e+01</td>\n      <td>4.768083</td>\n      <td>-8.314923e-01</td>\n    </tr>\n    <tr>\n      <th>5</th>\n      <td>1.559611e+01</td>\n      <td>2.648192</td>\n      <td>1.044149e-03</td>\n    </tr>\n    <tr>\n      <th>6</th>\n      <td>1.899737e+01</td>\n      <td>3.523843</td>\n      <td>-8.854020e-02</td>\n    </tr>\n    <tr>\n      <th>7</th>\n      <td>2.904815e+01</td>\n      <td>4.656917</td>\n      <td>-4.316106e-01</td>\n    </tr>\n    <tr>\n      <th>8</th>\n      <td>5.021693e+04</td>\n      <td>222.424257</td>\n      <td>-3.144730e+03</td>\n    </tr>\n    <tr>\n      <th>9</th>\n      <td>8.254278e+01</td>\n      <td>6.305944</td>\n      <td>-9.259101e+00</td>\n    </tr>\n    <tr>\n      <th>10</th>\n      <td>1.952204e+02</td>\n      <td>13.038349</td>\n      <td>-4.391132e+01</td>\n    </tr>\n    <tr>\n      <th>11</th>\n      <td>1.187973e+03</td>\n      <td>33.179069</td>\n      <td>-4.832268e+02</td>\n    </tr>\n    <tr>\n      <th>12</th>\n      <td>5.683791e+02</td>\n      <td>15.845594</td>\n      <td>-4.547357e+02</td>\n    </tr>\n    <tr>\n      <th>13</th>\n      <td>1.906590e+03</td>\n      <td>32.088884</td>\n      <td>-1.987041e+03</td>\n    </tr>\n    <tr>\n      <th>14</th>\n      <td>1.066436e+04</td>\n      <td>86.521966</td>\n      <td>-1.219962e+04</td>\n    </tr>\n    <tr>\n      <th>15</th>\n      <td>1.086664e+04</td>\n      <td>80.206502</td>\n      <td>-3.558311e+03</td>\n    </tr>\n    <tr>\n      <th>16</th>\n      <td>4.048051e+04</td>\n      <td>182.633839</td>\n      <td>-8.586490e+03</td>\n    </tr>\n    <tr>\n      <th>17</th>\n      <td>3.038889e+04</td>\n      <td>162.377870</td>\n      <td>-3.819316e+03</td>\n    </tr>\n    <tr>\n      <th>18</th>\n      <td>2.624604e+04</td>\n      <td>145.961939</td>\n      <td>-1.090843e+02</td>\n    </tr>\n    <tr>\n      <th>19</th>\n      <td>3.757204e+04</td>\n      <td>179.649011</td>\n      <td>-1.066667e+03</td>\n    </tr>\n    <tr>\n      <th>20</th>\n      <td>3.149699e+04</td>\n      <td>152.134385</td>\n      <td>-6.472340e+02</td>\n    </tr>\n    <tr>\n      <th>21</th>\n      <td>4.812788e+04</td>\n      <td>192.069913</td>\n      <td>-6.228396e+02</td>\n    </tr>\n    <tr>\n      <th>22</th>\n      <td>1.493028e+04</td>\n      <td>99.142609</td>\n      <td>-1.024348e+02</td>\n    </tr>\n    <tr>\n      <th>23</th>\n      <td>1.109129e+04</td>\n      <td>81.605766</td>\n      <td>-5.584947e+01</td>\n    </tr>\n    <tr>\n      <th>24</th>\n      <td>9.492457e+03</td>\n      <td>74.484041</td>\n      <td>-2.923655e+01</td>\n    </tr>\n    <tr>\n      <th>25</th>\n      <td>4.175079e+04</td>\n      <td>194.525522</td>\n      <td>-1.156616e+02</td>\n    </tr>\n    <tr>\n      <th>26</th>\n      <td>4.507087e+04</td>\n      <td>200.946534</td>\n      <td>-9.809659e+01</td>\n    </tr>\n    <tr>\n      <th>27</th>\n      <td>4.370851e+04</td>\n      <td>174.968625</td>\n      <td>-6.860803e+01</td>\n    </tr>\n    <tr>\n      <th>28</th>\n      <td>2.332319e+04</td>\n      <td>128.225344</td>\n      <td>-2.759115e+01</td>\n    </tr>\n    <tr>\n      <th>29</th>\n      <td>4.836099e+04</td>\n      <td>199.975966</td>\n      <td>-4.557829e+01</td>\n    </tr>\n    <tr>\n      <th>30</th>\n      <td>1.053301e+04</td>\n      <td>90.781903</td>\n      <td>-8.679926e+00</td>\n    </tr>\n    <tr>\n      <th>31</th>\n      <td>4.436775e+04</td>\n      <td>208.003605</td>\n      <td>-3.044965e+01</td>\n    </tr>\n    <tr>\n      <th>32</th>\n      <td>1.750527e+03</td>\n      <td>23.094762</td>\n      <td>-2.483164e-01</td>\n    </tr>\n    <tr>\n      <th>33</th>\n      <td>1.411590e+05</td>\n      <td>375.040666</td>\n      <td>-1.079502e+02</td>\n    </tr>\n    <tr>\n      <th>34</th>\n      <td>3.241611e+04</td>\n      <td>171.089242</td>\n      <td>-2.368298e+01</td>\n    </tr>\n  </tbody>\n</table>\n</div>"
     },
     "metadata": {},
     "execution_count": 12
    }
   ],
   "source": [
    "df_metrics"
   ]
  }
 ]
}