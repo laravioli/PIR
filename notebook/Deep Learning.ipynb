{
 "cells": [
  {
   "cell_type": "markdown",
   "metadata": {
    "slideshow": {
     "slide_type": "slide"
    }
   },
   "source": [
    "# Deep Learning\n",
    "\n",
    "<a rel=\"license\" href=\"http://creativecommons.org/licenses/by-nc-sa/4.0/\"><img alt=\"Creative Commons License\" align=\"left\" src=\"https://i.creativecommons.org/l/by-nc-sa/4.0/80x15.png\" /></a>&nbsp;| Emmanuel Rachelson and Dennis G. Wilson | <a href=\"https://supaerodatascience.github.io/deep-learning/\">https://supaerodatascience.github.io/deep-learning/</a>"
   ]
  },
  {
   "cell_type": "markdown",
   "metadata": {
    "slideshow": {
     "slide_type": "slide"
    }
   },
   "source": [
    "This class supposes a basic knowledge of Artificial Neural Networks, Backpropagation and Stochastic Gradient Descent (as introduced in the previous class). If you want an in-depth refresher on linear algebra specific to deep learning, [these notebooks](https://github.com/hadrienj/deepLearningBook-Notes) are well-done.\n",
    "\n",
    "0. [Preparation](#sec0)\n",
    "1. [Dataset: Fashion-MNIST](#sec1)\n",
    "2. [ANNs in Layers](#sec2)\n",
    "3. [Backpropagation and training](#sec3)\n",
    "4. [Activation Functions](#sec4)\n",
    "5. [Convolutional Neural Networks](#sec5)\n",
    "6. [Overfitting](#sec6)\n",
    "7. [Improving Optimization](#sec7)\n"
   ]
  },
  {
   "cell_type": "markdown",
   "metadata": {
    "slideshow": {
     "slide_type": "slide"
    }
   },
   "source": [
    "# <a id=\"sec0\">0. Preparation</a>"
   ]
  },
  {
   "cell_type": "markdown",
   "metadata": {
    "slideshow": {
     "slide_type": "fragment"
    }
   },
   "source": [
    "In this notebook, we'll be using `torch`, `torchvision`, and `ignite`. Please refer to the [PyTorch](https://pytorch.org/get-started/locally/) website for installation instructions. We'll also be using the packages `sklearn`, `numpy`, and `matplotlib`. To make the notebook into slides, I'm using [`rise`](https://github.com/damianavila/RISE) which you can also install. Note that this notebook is fairly compute intensive and might be better [run in Google Colab.](https://colab.research.google.com/github/SupaeroDataScience/deep-learning/blob/main/deep/Deep%20Learning.ipynb)"
   ]
  },
  {
   "cell_type": "markdown",
   "metadata": {
    "slideshow": {
     "slide_type": "fragment"
    }
   },
   "source": [
    "<div class=\"alert alert-success\">\n",
    "Exercise 1:\n",
    "Install the necessary packages and verify that everything is working by importing everything.\n",
    "</div>"
   ]
  },
  {
   "cell_type": "code",
   "execution_count": 2,
   "metadata": {
    "slideshow": {
     "slide_type": "fragment"
    }
   },
   "outputs": [],
   "source": [
    "# !pip install torch torchvision pytorch-ignite"
   ]
  },
  {
   "cell_type": "code",
   "execution_count": 3,
   "metadata": {
    "slideshow": {
     "slide_type": "fragment"
    }
   },
   "outputs": [],
   "source": [
    "import torch\n",
    "import torchvision\n",
    "import numpy as np\n",
    "%matplotlib inline\n",
    "import matplotlib.pyplot as plt"
   ]
  },
  {
   "cell_type": "markdown",
   "metadata": {
    "slideshow": {
     "slide_type": "slide"
    }
   },
   "source": [
    "# <a id=\"sec1\">1. Dataset: Fashion-MNIST</a>"
   ]
  },
  {
   "cell_type": "markdown",
   "metadata": {
    "slideshow": {
     "slide_type": "fragment"
    }
   },
   "source": [
    "[Fashion-MNIST](https://github.com/zalandoresearch/fashion-mnist) is a dataset of Zalando's article images—consisting of a training set of 60,000 examples and a test set of 10,000 examples. Each example is a 28x28 grayscale image, associated with a label from 10 classes. Fashion-MNIST is a direct drop-in replacement for the original MNIST dataset for benchmarking machine learning algorithms. It shares the same image size and structure of training and testing splits but is more complex.\n",
    "\n",
    "<img src=\"img/fashion-mnist-small.png\">"
   ]
  },
  {
   "cell_type": "code",
   "execution_count": 4,
   "metadata": {
    "slideshow": {
     "slide_type": "fragment"
    }
   },
   "outputs": [],
   "source": [
    "labels_text = [\"T-shirt/top\", \"Trouser\", \"Pullover\", \"Dress\", \"Coat\", \"Sandal\", \"Shirt\", \"Sneaker\", \"Bag\", \"Ankle boot\"]"
   ]
  },
  {
   "cell_type": "markdown",
   "metadata": {
    "slideshow": {
     "slide_type": "slide"
    }
   },
   "source": [
    "PyTorch comes with this dataset by default, but we need to download it. We'll then make dataloaders which lazily iterate through the datasets. We'll use a training set and a validation set and greatly reduce their sizes to make this notebook run in a reasonable time."
   ]
  },
  {
   "cell_type": "code",
   "execution_count": 5,
   "metadata": {
    "slideshow": {
     "slide_type": "fragment"
    }
   },
   "outputs": [
    {
     "output_type": "stream",
     "name": "stdout",
     "text": [
      "Downloading http://fashion-mnist.s3-website.eu-central-1.amazonaws.com/train-images-idx3-ubyte.gz\n",
      "Downloading http://fashion-mnist.s3-website.eu-central-1.amazonaws.com/train-images-idx3-ubyte.gz to ../data\\FashionMNIST\\raw\\train-images-idx3-ubyte.gz\n",
      "100.0%\n",
      "Extracting ../data\\FashionMNIST\\raw\\train-images-idx3-ubyte.gz to ../data\\FashionMNIST\\raw\n",
      "\n",
      "Downloading http://fashion-mnist.s3-website.eu-central-1.amazonaws.com/train-labels-idx1-ubyte.gz\n",
      "45.1%Downloading http://fashion-mnist.s3-website.eu-central-1.amazonaws.com/train-labels-idx1-ubyte.gz to ../data\\FashionMNIST\\raw\\train-labels-idx1-ubyte.gz\n",
      "100.6%\n",
      "Extracting ../data\\FashionMNIST\\raw\\train-labels-idx1-ubyte.gz to ../data\\FashionMNIST\\raw\n",
      "\n",
      "Downloading http://fashion-mnist.s3-website.eu-central-1.amazonaws.com/t10k-images-idx3-ubyte.gz\n",
      "Downloading http://fashion-mnist.s3-website.eu-central-1.amazonaws.com/t10k-images-idx3-ubyte.gz to ../data\\FashionMNIST\\raw\\t10k-images-idx3-ubyte.gz\n",
      "100.0%\n",
      "Extracting ../data\\FashionMNIST\\raw\\t10k-images-idx3-ubyte.gz to ../data\\FashionMNIST\\raw\n",
      "\n",
      "Downloading http://fashion-mnist.s3-website.eu-central-1.amazonaws.com/t10k-labels-idx1-ubyte.gz\n",
      "119.3%Downloading http://fashion-mnist.s3-website.eu-central-1.amazonaws.com/t10k-labels-idx1-ubyte.gz to ../data\\FashionMNIST\\raw\\t10k-labels-idx1-ubyte.gz\n",
      "Extracting ../data\\FashionMNIST\\raw\\t10k-labels-idx1-ubyte.gz to ../data\\FashionMNIST\\raw\n",
      "\n",
      "Processing...\n",
      "\n",
      "c:\\Users\\Victor\\Desktop\\PIR\\.venv\\lib\\site-packages\\torchvision\\datasets\\mnist.py:502: UserWarning: The given NumPy array is not writeable, and PyTorch does not support non-writeable tensors. This means you can write to the underlying (supposedly non-writeable) NumPy array using the tensor. You may want to copy the array to protect its data or make it writeable before converting it to a tensor. This type of warning will be suppressed for the rest of this program. (Triggered internally at  ..\\torch\\csrc\\utils\\tensor_numpy.cpp:143.)\n",
      "  return torch.from_numpy(parsed.astype(m[2], copy=False)).view(*s)\n",
      "Done!\n"
     ]
    }
   ],
   "source": [
    "import torchvision.transforms as transforms\n",
    "transform = transforms.Compose([transforms.ToTensor(),\n",
    "                                transforms.Normalize((0.5,), (0.5,))])\n",
    "\n",
    "full_trainset = torchvision.datasets.FashionMNIST(root='../data', train=True, download=True, transform=transform)\n",
    "trainset, full_validset = torch.utils.data.random_split(full_trainset, (10000, 50000))\n",
    "validset, _ = torch.utils.data.random_split(full_validset, (1000, 49000))\n",
    "print(validset.shape)\n",
    "\n",
    "trainloader = torch.utils.data.DataLoader(trainset, batch_size=4, shuffle=True, num_workers=2)\n",
    "validloader = torch.utils.data.DataLoader(validset, batch_size=4, shuffle=False, num_workers=2)"
   ]
  },
  {
   "cell_type": "markdown",
   "metadata": {},
   "source": [
    "The test data should also be downloaded. We'll use it at the very end of this notebook to test our model."
   ]
  },
  {
   "cell_type": "code",
   "execution_count": 6,
   "metadata": {},
   "outputs": [],
   "source": [
    "testset = torchvision.datasets.FashionMNIST(root='../data', train=False, download=True, transform=transform)"
   ]
  },
  {
   "cell_type": "markdown",
   "metadata": {
    "slideshow": {
     "slide_type": "slide"
    }
   },
   "source": [
    "<div class=\"alert alert-success\">\n",
    "Exercise 2:\n",
    "Download the Fashion-MNIST dataset and run the following code.\n",
    "    \n",
    "+ Why are there 4 images in our list?\n",
    "+ Why does the list of images change every time we run the code?\n",
    "\n",
    "</div>"
   ]
  },
  {
   "cell_type": "code",
   "execution_count": 7,
   "metadata": {
    "slideshow": {
     "slide_type": "fragment"
    }
   },
   "outputs": [
    {
     "output_type": "display_data",
     "data": {
      "text/plain": "<Figure size 288x288 with 4 Axes>",
      "image/svg+xml": "<?xml version=\"1.0\" encoding=\"utf-8\" standalone=\"no\"?>\r\n<!DOCTYPE svg PUBLIC \"-//W3C//DTD SVG 1.1//EN\"\r\n  \"http://www.w3.org/Graphics/SVG/1.1/DTD/svg11.dtd\">\r\n<svg height=\"246.958125pt\" version=\"1.1\" viewBox=\"0 0 234.981818 246.958125\" width=\"234.981818pt\" xmlns=\"http://www.w3.org/2000/svg\" xmlns:xlink=\"http://www.w3.org/1999/xlink\">\r\n <metadata>\r\n  <rdf:RDF xmlns:cc=\"http://creativecommons.org/ns#\" xmlns:dc=\"http://purl.org/dc/elements/1.1/\" xmlns:rdf=\"http://www.w3.org/1999/02/22-rdf-syntax-ns#\">\r\n   <cc:Work>\r\n    <dc:type rdf:resource=\"http://purl.org/dc/dcmitype/StillImage\"/>\r\n    <dc:date>2021-05-25T17:46:03.805392</dc:date>\r\n    <dc:format>image/svg+xml</dc:format>\r\n    <dc:creator>\r\n     <cc:Agent>\r\n      <dc:title>Matplotlib v3.4.2, https://matplotlib.org/</dc:title>\r\n     </cc:Agent>\r\n    </dc:creator>\r\n   </cc:Work>\r\n  </rdf:RDF>\r\n </metadata>\r\n <defs>\r\n  <style type=\"text/css\">*{stroke-linecap:butt;stroke-linejoin:round;}</style>\r\n </defs>\r\n <g id=\"figure_1\">\r\n  <g id=\"patch_1\">\r\n   <path d=\"M 0 246.958125 \r\nL 234.981818 246.958125 \r\nL 234.981818 0 \r\nL 0 0 \r\nz\r\n\" style=\"fill:none;\"/>\r\n  </g>\r\n  <g id=\"axes_1\">\r\n   <g clip-path=\"url(#p64a1a1334f)\">\r\n    <image height=\"99\" id=\"imagef07d7fa4c5\" transform=\"scale(1 -1)translate(0 -99)\" width=\"99\" x=\"7.2\" xlink:href=\"data:image/png;base64,\r\niVBORw0KGgoAAAANSUhEUgAAAGMAAABjCAYAAACPO76VAAAEmklEQVR4nO2duUplQRCG+7rvu2LgAoLoo/gcZqYa+yqiLyAmGhuooIELLoGgiahcRNz35U7WU/UznvE498z5g/+LqqmLtvxWVZ/qPn0LpVKpFEiZmZmJ9vz8vPNNTU1Fu7a21vlmZ2fdeHp6Otr9/f3OZ//8QqHw47mWg4pcf7twSAwiJAYRVXlPIImlpaVoLy4uOl9lZWW0i8Wi862vr7uxrRO2foSgmiG+QGIQQZ2m3t7eol1TU+N8g4OD0W5sbHS+jY0NN25qaspgduVHkUGExCBCYhBBXTOurq6i/f7+7nyjo6PRxhqB3NzcfOmrqOD5f+SZiZAYTFCnqaenp2jj03FV1e+pd3V1Jf6cy8vL8k4sIxQZREgMIiQGEdQ14/b2Ntq2SxuCX+qiD5erFxcXGcyu/CgyiJAYRFClqY+PDzd+fX2NNnZtrc8uc0MIobq62o21tBWpkRhESAwiqGqG3dkLwR8WwLN2aZa2donMjCKDCIlBBFWawg0km7YwTSVtCmHaur+/L8PsskeRQYTEIEJiEEFVM9K8KlJfXx/tu7s758Oa8fz8HG1sueBn80SRQYTEIIIqTX1+fn7bZ9MNHlbAVGTT1MvLi/M1NDSknmdWKDKIkBhESAwiqGrGw8ODG9s6gUtQ+1msGbjTZ9ssj4+PzqeaIf6IxCCCKk1hdzXpQII9h4sdXBzbpS5uNP3tnO7/RJFBhMQgQmIQQVUz9vb23Nh2cfHmHLsLWFdX53x4qM3Wl8PDQ+cbGhr62WQzQJFBhMQgQmIQQVUztra23Ng+LyS10LFG4I6hbaUsLy8739jY2I/mmgWKDCIkBhFUaQqXnbYFYlsjIfhO7d9uObBd3M3NzX+ZYqYoMoiQGERIDCKoasbBwYEbJ9UM2w7B1jvWENtKWVlZ+ed5ZoUigwiJQQRVmjo6OnLjvr6+aOMhg5OTk2g3Nzc7Hx46aG1tjbbt4Iage23FF0gMIiQGEbnXDHsYDfO5XZLiATd7ygNPjuCuYFK7xLZgRkZGvjHj7FBkECExiMg9TW1vb3/ps5tC+F6FXYbigQR8PwOXxZbV1dVoK02JiMQgQmIQkXvNsF/Jg+9K2O+9wEMHtp50dnY6H7Y17FIXv0tjbW0t2uPj49+ddiYoMoiQGETknqb29/ej3d3d7Xx2Awmfqnd2dv74uRBC6O3tdWO71O3p6XG+4+PjlDPODkUGERKDCIlBRO414/z8PNr4fp1tY2CuPzs7i/bu7q7z2R3CEPxSFzu819fX6SacIYoMIiQGEbmnqaTXwWynFru29qkbL5rETaqWlpZo20vDQkh34VjWKDKIkBhESAwicq8Zdtlpb0wLwXdqcUlqXyvDCyOx9iSdy7X1JG8UGURIDCJyT1P2yRpvvLFnaPGVADseGBhwPkxbFtzAyvsQgkWRQYTEIEJiEJF7zbC32iwsLDif3fnDb6G071x0dHQ4H+7eDQ8PR9vuEIYQwuTkZLoJZ4gigwiJQUShlHPb0r7yNTc353z26bxYLDpfe3t7tPHc1OnpqRu3tbVFG8/hTkxMpJtwhigyiJAYREgMIn4BOuZtr9I3hGgAAAAASUVORK5CYII=\" y=\"-22.154489\"/>\r\n   </g>\r\n   <g id=\"text_1\">\r\n    <!-- 1: Trouser -->\r\n    <g transform=\"translate(27.003494 16.318125)scale(0.12 -0.12)\">\r\n     <defs>\r\n      <path d=\"M 794 531 \r\nL 1825 531 \r\nL 1825 4091 \r\nL 703 3866 \r\nL 703 4441 \r\nL 1819 4666 \r\nL 2450 4666 \r\nL 2450 531 \r\nL 3481 531 \r\nL 3481 0 \r\nL 794 0 \r\nL 794 531 \r\nz\r\n\" id=\"DejaVuSans-31\" transform=\"scale(0.015625)\"/>\r\n      <path d=\"M 750 794 \r\nL 1409 794 \r\nL 1409 0 \r\nL 750 0 \r\nL 750 794 \r\nz\r\nM 750 3309 \r\nL 1409 3309 \r\nL 1409 2516 \r\nL 750 2516 \r\nL 750 3309 \r\nz\r\n\" id=\"DejaVuSans-3a\" transform=\"scale(0.015625)\"/>\r\n      <path id=\"DejaVuSans-20\" transform=\"scale(0.015625)\"/>\r\n      <path d=\"M -19 4666 \r\nL 3928 4666 \r\nL 3928 4134 \r\nL 2272 4134 \r\nL 2272 0 \r\nL 1638 0 \r\nL 1638 4134 \r\nL -19 4134 \r\nL -19 4666 \r\nz\r\n\" id=\"DejaVuSans-54\" transform=\"scale(0.015625)\"/>\r\n      <path d=\"M 2631 2963 \r\nQ 2534 3019 2420 3045 \r\nQ 2306 3072 2169 3072 \r\nQ 1681 3072 1420 2755 \r\nQ 1159 2438 1159 1844 \r\nL 1159 0 \r\nL 581 0 \r\nL 581 3500 \r\nL 1159 3500 \r\nL 1159 2956 \r\nQ 1341 3275 1631 3429 \r\nQ 1922 3584 2338 3584 \r\nQ 2397 3584 2469 3576 \r\nQ 2541 3569 2628 3553 \r\nL 2631 2963 \r\nz\r\n\" id=\"DejaVuSans-72\" transform=\"scale(0.015625)\"/>\r\n      <path d=\"M 1959 3097 \r\nQ 1497 3097 1228 2736 \r\nQ 959 2375 959 1747 \r\nQ 959 1119 1226 758 \r\nQ 1494 397 1959 397 \r\nQ 2419 397 2687 759 \r\nQ 2956 1122 2956 1747 \r\nQ 2956 2369 2687 2733 \r\nQ 2419 3097 1959 3097 \r\nz\r\nM 1959 3584 \r\nQ 2709 3584 3137 3096 \r\nQ 3566 2609 3566 1747 \r\nQ 3566 888 3137 398 \r\nQ 2709 -91 1959 -91 \r\nQ 1206 -91 779 398 \r\nQ 353 888 353 1747 \r\nQ 353 2609 779 3096 \r\nQ 1206 3584 1959 3584 \r\nz\r\n\" id=\"DejaVuSans-6f\" transform=\"scale(0.015625)\"/>\r\n      <path d=\"M 544 1381 \r\nL 544 3500 \r\nL 1119 3500 \r\nL 1119 1403 \r\nQ 1119 906 1312 657 \r\nQ 1506 409 1894 409 \r\nQ 2359 409 2629 706 \r\nQ 2900 1003 2900 1516 \r\nL 2900 3500 \r\nL 3475 3500 \r\nL 3475 0 \r\nL 2900 0 \r\nL 2900 538 \r\nQ 2691 219 2414 64 \r\nQ 2138 -91 1772 -91 \r\nQ 1169 -91 856 284 \r\nQ 544 659 544 1381 \r\nz\r\nM 1991 3584 \r\nL 1991 3584 \r\nz\r\n\" id=\"DejaVuSans-75\" transform=\"scale(0.015625)\"/>\r\n      <path d=\"M 2834 3397 \r\nL 2834 2853 \r\nQ 2591 2978 2328 3040 \r\nQ 2066 3103 1784 3103 \r\nQ 1356 3103 1142 2972 \r\nQ 928 2841 928 2578 \r\nQ 928 2378 1081 2264 \r\nQ 1234 2150 1697 2047 \r\nL 1894 2003 \r\nQ 2506 1872 2764 1633 \r\nQ 3022 1394 3022 966 \r\nQ 3022 478 2636 193 \r\nQ 2250 -91 1575 -91 \r\nQ 1294 -91 989 -36 \r\nQ 684 19 347 128 \r\nL 347 722 \r\nQ 666 556 975 473 \r\nQ 1284 391 1588 391 \r\nQ 1994 391 2212 530 \r\nQ 2431 669 2431 922 \r\nQ 2431 1156 2273 1281 \r\nQ 2116 1406 1581 1522 \r\nL 1381 1569 \r\nQ 847 1681 609 1914 \r\nQ 372 2147 372 2553 \r\nQ 372 3047 722 3315 \r\nQ 1072 3584 1716 3584 \r\nQ 2034 3584 2315 3537 \r\nQ 2597 3491 2834 3397 \r\nz\r\n\" id=\"DejaVuSans-73\" transform=\"scale(0.015625)\"/>\r\n      <path d=\"M 3597 1894 \r\nL 3597 1613 \r\nL 953 1613 \r\nQ 991 1019 1311 708 \r\nQ 1631 397 2203 397 \r\nQ 2534 397 2845 478 \r\nQ 3156 559 3463 722 \r\nL 3463 178 \r\nQ 3153 47 2828 -22 \r\nQ 2503 -91 2169 -91 \r\nQ 1331 -91 842 396 \r\nQ 353 884 353 1716 \r\nQ 353 2575 817 3079 \r\nQ 1281 3584 2069 3584 \r\nQ 2775 3584 3186 3129 \r\nQ 3597 2675 3597 1894 \r\nz\r\nM 3022 2063 \r\nQ 3016 2534 2758 2815 \r\nQ 2500 3097 2075 3097 \r\nQ 1594 3097 1305 2825 \r\nQ 1016 2553 972 2059 \r\nL 3022 2063 \r\nz\r\n\" id=\"DejaVuSans-65\" transform=\"scale(0.015625)\"/>\r\n     </defs>\r\n     <use xlink:href=\"#DejaVuSans-31\"/>\r\n     <use x=\"63.623047\" xlink:href=\"#DejaVuSans-3a\"/>\r\n     <use x=\"97.314453\" xlink:href=\"#DejaVuSans-20\"/>\r\n     <use x=\"129.101562\" xlink:href=\"#DejaVuSans-54\"/>\r\n     <use x=\"175.435547\" xlink:href=\"#DejaVuSans-72\"/>\r\n     <use x=\"214.298828\" xlink:href=\"#DejaVuSans-6f\"/>\r\n     <use x=\"275.480469\" xlink:href=\"#DejaVuSans-75\"/>\r\n     <use x=\"338.859375\" xlink:href=\"#DejaVuSans-73\"/>\r\n     <use x=\"390.958984\" xlink:href=\"#DejaVuSans-65\"/>\r\n     <use x=\"452.482422\" xlink:href=\"#DejaVuSans-72\"/>\r\n    </g>\r\n   </g>\r\n  </g>\r\n  <g id=\"axes_2\">\r\n   <g clip-path=\"url(#p2a3789f291)\">\r\n    <image height=\"99\" id=\"imagea4413a4d8c\" transform=\"scale(1 -1)translate(0 -99)\" width=\"99\" x=\"128.945455\" xlink:href=\"data:image/png;base64,\r\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\" y=\"-22.154489\"/>\r\n   </g>\r\n   <g id=\"text_2\">\r\n    <!-- 4: Coat -->\r\n    <g transform=\"translate(156.728011 16.318125)scale(0.12 -0.12)\">\r\n     <defs>\r\n      <path d=\"M 2419 4116 \r\nL 825 1625 \r\nL 2419 1625 \r\nL 2419 4116 \r\nz\r\nM 2253 4666 \r\nL 3047 4666 \r\nL 3047 1625 \r\nL 3713 1625 \r\nL 3713 1100 \r\nL 3047 1100 \r\nL 3047 0 \r\nL 2419 0 \r\nL 2419 1100 \r\nL 313 1100 \r\nL 313 1709 \r\nL 2253 4666 \r\nz\r\n\" id=\"DejaVuSans-34\" transform=\"scale(0.015625)\"/>\r\n      <path d=\"M 4122 4306 \r\nL 4122 3641 \r\nQ 3803 3938 3442 4084 \r\nQ 3081 4231 2675 4231 \r\nQ 1875 4231 1450 3742 \r\nQ 1025 3253 1025 2328 \r\nQ 1025 1406 1450 917 \r\nQ 1875 428 2675 428 \r\nQ 3081 428 3442 575 \r\nQ 3803 722 4122 1019 \r\nL 4122 359 \r\nQ 3791 134 3420 21 \r\nQ 3050 -91 2638 -91 \r\nQ 1578 -91 968 557 \r\nQ 359 1206 359 2328 \r\nQ 359 3453 968 4101 \r\nQ 1578 4750 2638 4750 \r\nQ 3056 4750 3426 4639 \r\nQ 3797 4528 4122 4306 \r\nz\r\n\" id=\"DejaVuSans-43\" transform=\"scale(0.015625)\"/>\r\n      <path d=\"M 2194 1759 \r\nQ 1497 1759 1228 1600 \r\nQ 959 1441 959 1056 \r\nQ 959 750 1161 570 \r\nQ 1363 391 1709 391 \r\nQ 2188 391 2477 730 \r\nQ 2766 1069 2766 1631 \r\nL 2766 1759 \r\nL 2194 1759 \r\nz\r\nM 3341 1997 \r\nL 3341 0 \r\nL 2766 0 \r\nL 2766 531 \r\nQ 2569 213 2275 61 \r\nQ 1981 -91 1556 -91 \r\nQ 1019 -91 701 211 \r\nQ 384 513 384 1019 \r\nQ 384 1609 779 1909 \r\nQ 1175 2209 1959 2209 \r\nL 2766 2209 \r\nL 2766 2266 \r\nQ 2766 2663 2505 2880 \r\nQ 2244 3097 1772 3097 \r\nQ 1472 3097 1187 3025 \r\nQ 903 2953 641 2809 \r\nL 641 3341 \r\nQ 956 3463 1253 3523 \r\nQ 1550 3584 1831 3584 \r\nQ 2591 3584 2966 3190 \r\nQ 3341 2797 3341 1997 \r\nz\r\n\" id=\"DejaVuSans-61\" transform=\"scale(0.015625)\"/>\r\n      <path d=\"M 1172 4494 \r\nL 1172 3500 \r\nL 2356 3500 \r\nL 2356 3053 \r\nL 1172 3053 \r\nL 1172 1153 \r\nQ 1172 725 1289 603 \r\nQ 1406 481 1766 481 \r\nL 2356 481 \r\nL 2356 0 \r\nL 1766 0 \r\nQ 1100 0 847 248 \r\nQ 594 497 594 1153 \r\nL 594 3053 \r\nL 172 3053 \r\nL 172 3500 \r\nL 594 3500 \r\nL 594 4494 \r\nL 1172 4494 \r\nz\r\n\" id=\"DejaVuSans-74\" transform=\"scale(0.015625)\"/>\r\n     </defs>\r\n     <use xlink:href=\"#DejaVuSans-34\"/>\r\n     <use x=\"63.623047\" xlink:href=\"#DejaVuSans-3a\"/>\r\n     <use x=\"97.314453\" xlink:href=\"#DejaVuSans-20\"/>\r\n     <use x=\"129.101562\" xlink:href=\"#DejaVuSans-43\"/>\r\n     <use x=\"198.925781\" xlink:href=\"#DejaVuSans-6f\"/>\r\n     <use x=\"260.107422\" xlink:href=\"#DejaVuSans-61\"/>\r\n     <use x=\"321.386719\" xlink:href=\"#DejaVuSans-74\"/>\r\n    </g>\r\n   </g>\r\n  </g>\r\n  <g id=\"axes_3\">\r\n   <g clip-path=\"url(#pf41dfacb05)\">\r\n    <image height=\"99\" id=\"image6fde29447f\" transform=\"scale(1 -1)translate(0 -99)\" width=\"99\" x=\"7.2\" xlink:href=\"data:image/png;base64,\r\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\" y=\"-140.758125\"/>\r\n   </g>\r\n   <g id=\"text_3\">\r\n    <!-- 4: Coat -->\r\n    <g transform=\"translate(34.982557 134.921761)scale(0.12 -0.12)\">\r\n     <use xlink:href=\"#DejaVuSans-34\"/>\r\n     <use x=\"63.623047\" xlink:href=\"#DejaVuSans-3a\"/>\r\n     <use x=\"97.314453\" xlink:href=\"#DejaVuSans-20\"/>\r\n     <use x=\"129.101562\" xlink:href=\"#DejaVuSans-43\"/>\r\n     <use x=\"198.925781\" xlink:href=\"#DejaVuSans-6f\"/>\r\n     <use x=\"260.107422\" xlink:href=\"#DejaVuSans-61\"/>\r\n     <use x=\"321.386719\" xlink:href=\"#DejaVuSans-74\"/>\r\n    </g>\r\n   </g>\r\n  </g>\r\n  <g id=\"axes_4\">\r\n   <g clip-path=\"url(#p9cf894c716)\">\r\n    <image height=\"99\" id=\"imagee6792f5ca4\" transform=\"scale(1 -1)translate(0 -99)\" width=\"99\" x=\"128.945455\" xlink:href=\"data:image/png;base64,\r\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\" y=\"-140.758125\"/>\r\n   </g>\r\n   <g id=\"text_4\">\r\n    <!-- 0: T-shirt/top -->\r\n    <g transform=\"translate(140.068636 134.921761)scale(0.12 -0.12)\">\r\n     <defs>\r\n      <path d=\"M 2034 4250 \r\nQ 1547 4250 1301 3770 \r\nQ 1056 3291 1056 2328 \r\nQ 1056 1369 1301 889 \r\nQ 1547 409 2034 409 \r\nQ 2525 409 2770 889 \r\nQ 3016 1369 3016 2328 \r\nQ 3016 3291 2770 3770 \r\nQ 2525 4250 2034 4250 \r\nz\r\nM 2034 4750 \r\nQ 2819 4750 3233 4129 \r\nQ 3647 3509 3647 2328 \r\nQ 3647 1150 3233 529 \r\nQ 2819 -91 2034 -91 \r\nQ 1250 -91 836 529 \r\nQ 422 1150 422 2328 \r\nQ 422 3509 836 4129 \r\nQ 1250 4750 2034 4750 \r\nz\r\n\" id=\"DejaVuSans-30\" transform=\"scale(0.015625)\"/>\r\n      <path d=\"M 313 2009 \r\nL 1997 2009 \r\nL 1997 1497 \r\nL 313 1497 \r\nL 313 2009 \r\nz\r\n\" id=\"DejaVuSans-2d\" transform=\"scale(0.015625)\"/>\r\n      <path d=\"M 3513 2113 \r\nL 3513 0 \r\nL 2938 0 \r\nL 2938 2094 \r\nQ 2938 2591 2744 2837 \r\nQ 2550 3084 2163 3084 \r\nQ 1697 3084 1428 2787 \r\nQ 1159 2491 1159 1978 \r\nL 1159 0 \r\nL 581 0 \r\nL 581 4863 \r\nL 1159 4863 \r\nL 1159 2956 \r\nQ 1366 3272 1645 3428 \r\nQ 1925 3584 2291 3584 \r\nQ 2894 3584 3203 3211 \r\nQ 3513 2838 3513 2113 \r\nz\r\n\" id=\"DejaVuSans-68\" transform=\"scale(0.015625)\"/>\r\n      <path d=\"M 603 3500 \r\nL 1178 3500 \r\nL 1178 0 \r\nL 603 0 \r\nL 603 3500 \r\nz\r\nM 603 4863 \r\nL 1178 4863 \r\nL 1178 4134 \r\nL 603 4134 \r\nL 603 4863 \r\nz\r\n\" id=\"DejaVuSans-69\" transform=\"scale(0.015625)\"/>\r\n      <path d=\"M 1625 4666 \r\nL 2156 4666 \r\nL 531 -594 \r\nL 0 -594 \r\nL 1625 4666 \r\nz\r\n\" id=\"DejaVuSans-2f\" transform=\"scale(0.015625)\"/>\r\n      <path d=\"M 1159 525 \r\nL 1159 -1331 \r\nL 581 -1331 \r\nL 581 3500 \r\nL 1159 3500 \r\nL 1159 2969 \r\nQ 1341 3281 1617 3432 \r\nQ 1894 3584 2278 3584 \r\nQ 2916 3584 3314 3078 \r\nQ 3713 2572 3713 1747 \r\nQ 3713 922 3314 415 \r\nQ 2916 -91 2278 -91 \r\nQ 1894 -91 1617 61 \r\nQ 1341 213 1159 525 \r\nz\r\nM 3116 1747 \r\nQ 3116 2381 2855 2742 \r\nQ 2594 3103 2138 3103 \r\nQ 1681 3103 1420 2742 \r\nQ 1159 2381 1159 1747 \r\nQ 1159 1113 1420 752 \r\nQ 1681 391 2138 391 \r\nQ 2594 391 2855 752 \r\nQ 3116 1113 3116 1747 \r\nz\r\n\" id=\"DejaVuSans-70\" transform=\"scale(0.015625)\"/>\r\n     </defs>\r\n     <use xlink:href=\"#DejaVuSans-30\"/>\r\n     <use x=\"63.623047\" xlink:href=\"#DejaVuSans-3a\"/>\r\n     <use x=\"97.314453\" xlink:href=\"#DejaVuSans-20\"/>\r\n     <use x=\"129.101562\" xlink:href=\"#DejaVuSans-54\"/>\r\n     <use x=\"181.060547\" xlink:href=\"#DejaVuSans-2d\"/>\r\n     <use x=\"217.144531\" xlink:href=\"#DejaVuSans-73\"/>\r\n     <use x=\"269.244141\" xlink:href=\"#DejaVuSans-68\"/>\r\n     <use x=\"332.623047\" xlink:href=\"#DejaVuSans-69\"/>\r\n     <use x=\"360.40625\" xlink:href=\"#DejaVuSans-72\"/>\r\n     <use x=\"401.519531\" xlink:href=\"#DejaVuSans-74\"/>\r\n     <use x=\"440.728516\" xlink:href=\"#DejaVuSans-2f\"/>\r\n     <use x=\"474.419922\" xlink:href=\"#DejaVuSans-74\"/>\r\n     <use x=\"513.628906\" xlink:href=\"#DejaVuSans-6f\"/>\r\n     <use x=\"574.810547\" xlink:href=\"#DejaVuSans-70\"/>\r\n    </g>\r\n   </g>\r\n  </g>\r\n </g>\r\n <defs>\r\n  <clipPath id=\"p64a1a1334f\">\r\n   <rect height=\"98.836364\" width=\"98.836364\" x=\"7.2\" y=\"22.318125\"/>\r\n  </clipPath>\r\n  <clipPath id=\"p2a3789f291\">\r\n   <rect height=\"98.836364\" width=\"98.836364\" x=\"128.945455\" y=\"22.318125\"/>\r\n  </clipPath>\r\n  <clipPath id=\"pf41dfacb05\">\r\n   <rect height=\"98.836364\" width=\"98.836364\" x=\"7.2\" y=\"140.921761\"/>\r\n  </clipPath>\r\n  <clipPath id=\"p9cf894c716\">\r\n   <rect height=\"98.836364\" width=\"98.836364\" x=\"128.945455\" y=\"140.921761\"/>\r\n  </clipPath>\r\n </defs>\r\n</svg>\r\n",
      "image/png": "[encoded data removed]"
     },
     "metadata": {
      "needs_background": "light"
     }
    }
   ],
   "source": [
    "# get the first batch of images and labels\n",
    "dataiter = iter(trainloader)\n",
    "images, labels = dataiter.next()\n",
    "\n",
    "plt.figure(figsize=(4,4))\n",
    "for i in range(len(images)):\n",
    "    l = labels[i].numpy()\n",
    "    plt.subplot(2, 2, i+1)\n",
    "    plt.title('%d: %s' % (l, labels_text[l]))\n",
    "    plt.imshow(images[i].numpy()[0], cmap='Greys')\n",
    "    plt.axis('off')"
   ]
  },
  {
   "cell_type": "markdown",
   "metadata": {
    "slideshow": {
     "slide_type": "slide"
    }
   },
   "source": [
    "For the rest of today, we'll focus on creating a deep neural network that accurately classifies these images. This will highlight one application of deep learning, image processing, which has been highly successful. In upcoming classes, we'll see other examples of deep learning (GANs, LSTMs) which have different architectures and training rules. However, the basic principles remain the same!"
   ]
  },
  {
   "cell_type": "markdown",
   "metadata": {
    "slideshow": {
     "slide_type": "slide"
    }
   },
   "source": [
    "# <a id=\"sec2\">2. ANNs in Layers</a>"
   ]
  },
  {
   "cell_type": "markdown",
   "metadata": {
    "slideshow": {
     "slide_type": "fragment"
    }
   },
   "source": [
    "Last class, we looked at individual neurons organized in networks like this:\n",
    "\n",
    "<img src=\"img/nn_fc.png\" width=\"60%\">\n",
    "\n",
    "These two hidden layers are called \"Fully Connected layers\" because every neuron of these layers is connected to every neuron of the previous layer."
   ]
  },
  {
   "cell_type": "markdown",
   "metadata": {
    "slideshow": {
     "slide_type": "slide"
    }
   },
   "source": [
    "In PyTorch, Fully Connected layers are represented with the `torch.nn.Linear` function. The documentation is [here](https://pytorch.org/docs/stable/nn.html?highlight=torch%20nn%20linear#torch.nn.Linear) or we can ask Jupyter:"
   ]
  },
  {
   "cell_type": "code",
   "execution_count": 8,
   "metadata": {
    "slideshow": {
     "slide_type": "fragment"
    },
    "tags": [
     "outputPrepend"
    ]
   },
   "outputs": [
    {
     "output_type": "stream",
     "name": "stdout",
     "text": [
      "erator[ForwardRef('Module')]\n |      Returns an iterator over immediate children modules.\n |      \n |      Yields:\n |          Module: a child module\n |  \n |  cpu(self: ~T) -> ~T\n |      Moves all model parameters and buffers to the CPU.\n |      \n |      Returns:\n |          Module: self\n |  \n |  cuda(self: ~T, device: Union[int, torch.device, NoneType] = None) -> ~T\n |      Moves all model parameters and buffers to the GPU.\n |      \n |      This also makes associated parameters and buffers different objects. So\n |      it should be called before constructing optimizer if the module will\n |      live on GPU while being optimized.\n |      \n |      Args:\n |          device (int, optional): if specified, all parameters will be\n |              copied to that device\n |      \n |      Returns:\n |          Module: self\n |  \n |  double(self: ~T) -> ~T\n |      Casts all floating point parameters and buffers to ``double`` datatype.\n |      \n |      Returns:\n |          Module: self\n |  \n |  eval(self: ~T) -> ~T\n |      Sets the module in evaluation mode.\n |      \n |      This has any effect only on certain modules. See documentations of\n |      particular modules for details of their behaviors in training/evaluation\n |      mode, if they are affected, e.g. :class:`Dropout`, :class:`BatchNorm`,\n |      etc.\n |      \n |      This is equivalent with :meth:`self.train(False) <torch.nn.Module.train>`.\n |      \n |      Returns:\n |          Module: self\n |  \n |  float(self: ~T) -> ~T\n |      Casts all floating point parameters and buffers to float datatype.\n |      \n |      Returns:\n |          Module: self\n |  \n |  half(self: ~T) -> ~T\n |      Casts all floating point parameters and buffers to ``half`` datatype.\n |      \n |      Returns:\n |          Module: self\n |  \n |  load_state_dict(self, state_dict: 'OrderedDict[str, Tensor]', strict: bool = True)\n |      Copies parameters and buffers from :attr:`state_dict` into\n |      this module and its descendants. If :attr:`strict` is ``True``, then\n |      the keys of :attr:`state_dict` must exactly match the keys returned\n |      by this module's :meth:`~torch.nn.Module.state_dict` function.\n |      \n |      Args:\n |          state_dict (dict): a dict containing parameters and\n |              persistent buffers.\n |          strict (bool, optional): whether to strictly enforce that the keys\n |              in :attr:`state_dict` match the keys returned by this module's\n |              :meth:`~torch.nn.Module.state_dict` function. Default: ``True``\n |      \n |      Returns:\n |          ``NamedTuple`` with ``missing_keys`` and ``unexpected_keys`` fields:\n |              * **missing_keys** is a list of str containing the missing keys\n |              * **unexpected_keys** is a list of str containing the unexpected keys\n |  \n |  modules(self) -> Iterator[ForwardRef('Module')]\n |      Returns an iterator over all modules in the network.\n |      \n |      Yields:\n |          Module: a module in the network\n |      \n |      Note:\n |          Duplicate modules are returned only once. In the following\n |          example, ``l`` will be returned only once.\n |      \n |      Example::\n |      \n |          >>> l = nn.Linear(2, 2)\n |          >>> net = nn.Sequential(l, l)\n |          >>> for idx, m in enumerate(net.modules()):\n |                  print(idx, '->', m)\n |      \n |          0 -> Sequential(\n |            (0): Linear(in_features=2, out_features=2, bias=True)\n |            (1): Linear(in_features=2, out_features=2, bias=True)\n |          )\n |          1 -> Linear(in_features=2, out_features=2, bias=True)\n |  \n |  named_buffers(self, prefix: str = '', recurse: bool = True) -> Iterator[Tuple[str, torch.Tensor]]\n |      Returns an iterator over module buffers, yielding both the\n |      name of the buffer as well as the buffer itself.\n |      \n |      Args:\n |          prefix (str): prefix to prepend to all buffer names.\n |          recurse (bool): if True, then yields buffers of this module\n |              and all submodules. Otherwise, yields only buffers that\n |              are direct members of this module.\n |      \n |      Yields:\n |          (string, torch.Tensor): Tuple containing the name and buffer\n |      \n |      Example::\n |      \n |          >>> for name, buf in self.named_buffers():\n |          >>>    if name in ['running_var']:\n |          >>>        print(buf.size())\n |  \n |  named_children(self) -> Iterator[Tuple[str, ForwardRef('Module')]]\n |      Returns an iterator over immediate children modules, yielding both\n |      the name of the module as well as the module itself.\n |      \n |      Yields:\n |          (string, Module): Tuple containing a name and child module\n |      \n |      Example::\n |      \n |          >>> for name, module in model.named_children():\n |          >>>     if name in ['conv4', 'conv5']:\n |          >>>         print(module)\n |  \n |  named_modules(self, memo: Optional[Set[ForwardRef('Module')]] = None, prefix: str = '')\n |      Returns an iterator over all modules in the network, yielding\n |      both the name of the module as well as the module itself.\n |      \n |      Yields:\n |          (string, Module): Tuple of name and module\n |      \n |      Note:\n |          Duplicate modules are returned only once. In the following\n |          example, ``l`` will be returned only once.\n |      \n |      Example::\n |      \n |          >>> l = nn.Linear(2, 2)\n |          >>> net = nn.Sequential(l, l)\n |          >>> for idx, m in enumerate(net.named_modules()):\n |                  print(idx, '->', m)\n |      \n |          0 -> ('', Sequential(\n |            (0): Linear(in_features=2, out_features=2, bias=True)\n |            (1): Linear(in_features=2, out_features=2, bias=True)\n |          ))\n |          1 -> ('0', Linear(in_features=2, out_features=2, bias=True))\n |  \n |  named_parameters(self, prefix: str = '', recurse: bool = True) -> Iterator[Tuple[str, torch.nn.parameter.Parameter]]\n |      Returns an iterator over module parameters, yielding both the\n |      name of the parameter as well as the parameter itself.\n |      \n |      Args:\n |          prefix (str): prefix to prepend to all parameter names.\n |          recurse (bool): if True, then yields parameters of this module\n |              and all submodules. Otherwise, yields only parameters that\n |              are direct members of this module.\n |      \n |      Yields:\n |          (string, Parameter): Tuple containing the name and parameter\n |      \n |      Example::\n |      \n |          >>> for name, param in self.named_parameters():\n |          >>>    if name in ['bias']:\n |          >>>        print(param.size())\n |  \n |  parameters(self, recurse: bool = True) -> Iterator[torch.nn.parameter.Parameter]\n |      Returns an iterator over module parameters.\n |      \n |      This is typically passed to an optimizer.\n |      \n |      Args:\n |          recurse (bool): if True, then yields parameters of this module\n |              and all submodules. Otherwise, yields only parameters that\n |              are direct members of this module.\n |      \n |      Yields:\n |          Parameter: module parameter\n |      \n |      Example::\n |      \n |          >>> for param in model.parameters():\n |          >>>     print(type(param), param.size())\n |          <class 'torch.Tensor'> (20L,)\n |          <class 'torch.Tensor'> (20L, 1L, 5L, 5L)\n |  \n |  register_backward_hook(self, hook: Callable[[ForwardRef('Module'), Union[Tuple[torch.Tensor, ...], torch.Tensor], Union[Tuple[torch.Tensor, ...], torch.Tensor]], Optional[torch.Tensor]]) -> torch.utils.hooks.RemovableHandle\n |      Registers a backward hook on the module.\n |      \n |      This function is deprecated in favor of :meth:`nn.Module.register_full_backward_hook` and\n |      the behavior of this function will change in future versions.\n |      \n |      Returns:\n |          :class:`torch.utils.hooks.RemovableHandle`:\n |              a handle that can be used to remove the added hook by calling\n |              ``handle.remove()``\n |  \n |  register_buffer(self, name: str, tensor: Optional[torch.Tensor], persistent: bool = True) -> None\n |      Adds a buffer to the module.\n |      \n |      This is typically used to register a buffer that should not to be\n |      considered a model parameter. For example, BatchNorm's ``running_mean``\n |      is not a parameter, but is part of the module's state. Buffers, by\n |      default, are persistent and will be saved alongside parameters. This\n |      behavior can be changed by setting :attr:`persistent` to ``False``. The\n |      only difference between a persistent buffer and a non-persistent buffer\n |      is that the latter will not be a part of this module's\n |      :attr:`state_dict`.\n |      \n |      Buffers can be accessed as attributes using given names.\n |      \n |      Args:\n |          name (string): name of the buffer. The buffer can be accessed\n |              from this module using the given name\n |          tensor (Tensor): buffer to be registered.\n |          persistent (bool): whether the buffer is part of this module's\n |              :attr:`state_dict`.\n |      \n |      Example::\n |      \n |          >>> self.register_buffer('running_mean', torch.zeros(num_features))\n |  \n |  register_forward_hook(self, hook: Callable[..., NoneType]) -> torch.utils.hooks.RemovableHandle\n |      Registers a forward hook on the module.\n |      \n |      The hook will be called every time after :func:`forward` has computed an output.\n |      It should have the following signature::\n |      \n |          hook(module, input, output) -> None or modified output\n |      \n |      The input contains only the positional arguments given to the module.\n |      Keyword arguments won't be passed to the hooks and only to the ``forward``.\n |      The hook can modify the output. It can modify the input inplace but\n |      it will not have effect on forward since this is called after\n |      :func:`forward` is called.\n |      \n |      Returns:\n |          :class:`torch.utils.hooks.RemovableHandle`:\n |              a handle that can be used to remove the added hook by calling\n |              ``handle.remove()``\n |  \n |  register_forward_pre_hook(self, hook: Callable[..., NoneType]) -> torch.utils.hooks.RemovableHandle\n |      Registers a forward pre-hook on the module.\n |      \n |      The hook will be called every time before :func:`forward` is invoked.\n |      It should have the following signature::\n |      \n |          hook(module, input) -> None or modified input\n |      \n |      The input contains only the positional arguments given to the module.\n |      Keyword arguments won't be passed to the hooks and only to the ``forward``.\n |      The hook can modify the input. User can either return a tuple or a\n |      single modified value in the hook. We will wrap the value into a tuple\n |      if a single value is returned(unless that value is already a tuple).\n |      \n |      Returns:\n |          :class:`torch.utils.hooks.RemovableHandle`:\n |              a handle that can be used to remove the added hook by calling\n |              ``handle.remove()``\n |  \n |  register_full_backward_hook(self, hook: Callable[[ForwardRef('Module'), Union[Tuple[torch.Tensor, ...], torch.Tensor], Union[Tuple[torch.Tensor, ...], torch.Tensor]], Optional[torch.Tensor]]) -> torch.utils.hooks.RemovableHandle\n |      Registers a backward hook on the module.\n |      \n |      The hook will be called every time the gradients with respect to module\n |      inputs are computed. The hook should have the following signature::\n |      \n |          hook(module, grad_input, grad_output) -> tuple(Tensor) or None\n |      \n |      The :attr:`grad_input` and :attr:`grad_output` are tuples that contain the gradients\n |      with respect to the inputs and outputs respectively. The hook should\n |      not modify its arguments, but it can optionally return a new gradient with\n |      respect to the input that will be used in place of :attr:`grad_input` in\n |      subsequent computations. :attr:`grad_input` will only correspond to the inputs given\n |      as positional arguments and all kwarg arguments are ignored. Entries\n |      in :attr:`grad_input` and :attr:`grad_output` will be ``None`` for all non-Tensor\n |      arguments.\n |      \n |      .. warning ::\n |          Modifying inputs or outputs inplace is not allowed when using backward hooks and\n |          will raise an error.\n |      \n |      Returns:\n |          :class:`torch.utils.hooks.RemovableHandle`:\n |              a handle that can be used to remove the added hook by calling\n |              ``handle.remove()``\n |  \n |  register_parameter(self, name: str, param: Optional[torch.nn.parameter.Parameter]) -> None\n |      Adds a parameter to the module.\n |      \n |      The parameter can be accessed as an attribute using given name.\n |      \n |      Args:\n |          name (string): name of the parameter. The parameter can be accessed\n |              from this module using the given name\n |          param (Parameter): parameter to be added to the module.\n |  \n |  requires_grad_(self: ~T, requires_grad: bool = True) -> ~T\n |      Change if autograd should record operations on parameters in this\n |      module.\n |      \n |      This method sets the parameters' :attr:`requires_grad` attributes\n |      in-place.\n |      \n |      This method is helpful for freezing part of the module for finetuning\n |      or training parts of a model individually (e.g., GAN training).\n |      \n |      Args:\n |          requires_grad (bool): whether autograd should record operations on\n |                                parameters in this module. Default: ``True``.\n |      \n |      Returns:\n |          Module: self\n |  \n |  share_memory(self: ~T) -> ~T\n |  \n |  state_dict(self, destination=None, prefix='', keep_vars=False)\n |      Returns a dictionary containing a whole state of the module.\n |      \n |      Both parameters and persistent buffers (e.g. running averages) are\n |      included. Keys are corresponding parameter and buffer names.\n |      \n |      Returns:\n |          dict:\n |              a dictionary containing a whole state of the module\n |      \n |      Example::\n |      \n |          >>> module.state_dict().keys()\n |          ['bias', 'weight']\n |  \n |  to(self, *args, **kwargs)\n |      Moves and/or casts the parameters and buffers.\n |      \n |      This can be called as\n |      \n |      .. function:: to(device=None, dtype=None, non_blocking=False)\n |      \n |      .. function:: to(dtype, non_blocking=False)\n |      \n |      .. function:: to(tensor, non_blocking=False)\n |      \n |      .. function:: to(memory_format=torch.channels_last)\n |      \n |      Its signature is similar to :meth:`torch.Tensor.to`, but only accepts\n |      floating point or complex :attr:`dtype`s. In addition, this method will\n |      only cast the floating point or complex parameters and buffers to :attr:`dtype`\n |      (if given). The integral parameters and buffers will be moved\n |      :attr:`device`, if that is given, but with dtypes unchanged. When\n |      :attr:`non_blocking` is set, it tries to convert/move asynchronously\n |      with respect to the host if possible, e.g., moving CPU Tensors with\n |      pinned memory to CUDA devices.\n |      \n |      See below for examples.\n |      \n |      .. note::\n |          This method modifies the module in-place.\n |      \n |      Args:\n |          device (:class:`torch.device`): the desired device of the parameters\n |              and buffers in this module\n |          dtype (:class:`torch.dtype`): the desired floating point or complex dtype of\n |              the parameters and buffers in this module\n |          tensor (torch.Tensor): Tensor whose dtype and device are the desired\n |              dtype and device for all parameters and buffers in this module\n |          memory_format (:class:`torch.memory_format`): the desired memory\n |              format for 4D parameters and buffers in this module (keyword\n |              only argument)\n |      \n |      Returns:\n |          Module: self\n |      \n |      Examples::\n |      \n |          >>> linear = nn.Linear(2, 2)\n |          >>> linear.weight\n |          Parameter containing:\n |          tensor([[ 0.1913, -0.3420],\n |                  [-0.5113, -0.2325]])\n |          >>> linear.to(torch.double)\n |          Linear(in_features=2, out_features=2, bias=True)\n |          >>> linear.weight\n |          Parameter containing:\n |          tensor([[ 0.1913, -0.3420],\n |                  [-0.5113, -0.2325]], dtype=torch.float64)\n |          >>> gpu1 = torch.device(\"cuda:1\")\n |          >>> linear.to(gpu1, dtype=torch.half, non_blocking=True)\n |          Linear(in_features=2, out_features=2, bias=True)\n |          >>> linear.weight\n |          Parameter containing:\n |          tensor([[ 0.1914, -0.3420],\n |                  [-0.5112, -0.2324]], dtype=torch.float16, device='cuda:1')\n |          >>> cpu = torch.device(\"cpu\")\n |          >>> linear.to(cpu)\n |          Linear(in_features=2, out_features=2, bias=True)\n |          >>> linear.weight\n |          Parameter containing:\n |          tensor([[ 0.1914, -0.3420],\n |                  [-0.5112, -0.2324]], dtype=torch.float16)\n |      \n |          >>> linear = nn.Linear(2, 2, bias=None).to(torch.cdouble)\n |          >>> linear.weight\n |          Parameter containing:\n |          tensor([[ 0.3741+0.j,  0.2382+0.j],\n |                  [ 0.5593+0.j, -0.4443+0.j]], dtype=torch.complex128)\n |          >>> linear(torch.ones(3, 2, dtype=torch.cdouble))\n |          tensor([[0.6122+0.j, 0.1150+0.j],\n |                  [0.6122+0.j, 0.1150+0.j],\n |                  [0.6122+0.j, 0.1150+0.j]], dtype=torch.complex128)\n |  \n |  train(self: ~T, mode: bool = True) -> ~T\n |      Sets the module in training mode.\n |      \n |      This has any effect only on certain modules. See documentations of\n |      particular modules for details of their behaviors in training/evaluation\n |      mode, if they are affected, e.g. :class:`Dropout`, :class:`BatchNorm`,\n |      etc.\n |      \n |      Args:\n |          mode (bool): whether to set training mode (``True``) or evaluation\n |                       mode (``False``). Default: ``True``.\n |      \n |      Returns:\n |          Module: self\n |  \n |  type(self: ~T, dst_type: Union[torch.dtype, str]) -> ~T\n |      Casts all parameters and buffers to :attr:`dst_type`.\n |      \n |      Args:\n |          dst_type (type or string): the desired type\n |      \n |      Returns:\n |          Module: self\n |  \n |  xpu(self: ~T, device: Union[int, torch.device, NoneType] = None) -> ~T\n |      Moves all model parameters and buffers to the XPU.\n |      \n |      This also makes associated parameters and buffers different objects. So\n |      it should be called before constructing optimizer if the module will\n |      live on XPU while being optimized.\n |      \n |      Arguments:\n |          device (int, optional): if specified, all parameters will be\n |              copied to that device\n |      \n |      Returns:\n |          Module: self\n |  \n |  zero_grad(self, set_to_none: bool = False) -> None\n |      Sets gradients of all model parameters to zero. See similar function\n |      under :class:`torch.optim.Optimizer` for more context.\n |      \n |      Args:\n |          set_to_none (bool): instead of setting to zero, set the grads to None.\n |              See :meth:`torch.optim.Optimizer.zero_grad` for details.\n |  \n |  ----------------------------------------------------------------------\n |  Data descriptors inherited from torch.nn.modules.module.Module:\n |  \n |  __dict__\n |      dictionary for instance variables (if defined)\n |  \n |  __weakref__\n |      list of weak references to the object (if defined)\n |  \n |  ----------------------------------------------------------------------\n |  Data and other attributes inherited from torch.nn.modules.module.Module:\n |  \n |  T_destination = ~T_destination\n |  \n |  dump_patches = False\n\n"
     ]
    }
   ],
   "source": [
    "help(torch.nn.Linear)"
   ]
  },
  {
   "cell_type": "markdown",
   "metadata": {
    "slideshow": {
     "slide_type": "slide"
    }
   },
   "source": [
    "Let's make a single fully connected layer:"
   ]
  },
  {
   "cell_type": "code",
   "execution_count": 9,
   "metadata": {
    "slideshow": {
     "slide_type": "fragment"
    }
   },
   "outputs": [],
   "source": [
    "from torch import nn\n",
    "fc = nn.Linear(784, 10)"
   ]
  },
  {
   "cell_type": "markdown",
   "metadata": {
    "slideshow": {
     "slide_type": "fragment"
    }
   },
   "source": [
    "Let's use this layer as a network and construct a forward pass function. Our image data is 28 by 28, but we want it to match the layer dimensions. We'll transform the image from 28 by 28 to 1 by 784, and then pass the image through our fully connected layer."
   ]
  },
  {
   "cell_type": "code",
   "execution_count": 10,
   "metadata": {
    "slideshow": {
     "slide_type": "fragment"
    }
   },
   "outputs": [],
   "source": [
    "def forward(x):\n",
    "    x = x.view(-1, 28 * 28) # Transforms from (1, 28, 28) to (1, 784)\n",
    "    x = fc(x) # Goes through fully connected layer\n",
    "    return x # Output, 10 neurons"
   ]
  },
  {
   "cell_type": "markdown",
   "metadata": {
    "slideshow": {
     "slide_type": "slide"
    }
   },
   "source": [
    "We'll take the maximum output as our label prediction. Let's see how this layer does - remember we haven't trained it, it's completely random."
   ]
  },
  {
   "cell_type": "code",
   "execution_count": 11,
   "metadata": {
    "slideshow": {
     "slide_type": "fragment"
    }
   },
   "outputs": [
    {
     "output_type": "stream",
     "name": "stdout",
     "text": [
      "True: 3 Dress, Predicted: 1 Trouser\nTrue: 6 Shirt, Predicted: 8 Bag\nTrue: 5 Sandal, Predicted: 4 Coat\nTrue: 2 Pullover, Predicted: 8 Bag\nTrue: 1 Trouser, Predicted: 1 Trouser\nTrue: 1 Trouser, Predicted: 1 Trouser\nTrue: 1 Trouser, Predicted: 1 Trouser\nTrue: 4 Coat, Predicted: 1 Trouser\nTrue: 9 Ankle boot, Predicted: 4 Coat\nTrue: 4 Coat, Predicted: 5 Sandal\nTrue: 4 Coat, Predicted: 8 Bag\nTrue: 8 Bag, Predicted: 5 Sandal\n"
     ]
    }
   ],
   "source": [
    "for batch in range(3):\n",
    "    images, labels = dataiter.next()\n",
    "    for i in range(len(images)):\n",
    "        outputs = forward(images[i])\n",
    "        h = np.argmax(outputs.detach().numpy())\n",
    "        y = labels[i]\n",
    "        print('True: %d %s, Predicted: %d %s' % (y, labels_text[y], h, labels_text[h]))"
   ]
  },
  {
   "cell_type": "markdown",
   "metadata": {
    "slideshow": {
     "slide_type": "slide"
    }
   },
   "source": [
    "Let's double check that our fully connected layer is simply doing $$y = w^T x + b$$"
   ]
  },
  {
   "cell_type": "code",
   "execution_count": 12,
   "metadata": {
    "slideshow": {
     "slide_type": "fragment"
    }
   },
   "outputs": [
    {
     "output_type": "stream",
     "name": "stdout",
     "text": [
      "Numpy:\n [ 0.3204087   0.61739206  0.17381263 -0.87866783  0.27030307  0.639181\n -0.21037543  0.42727947  0.19047755 -0.20775007]\nPyTorch:\n [[ 0.3204086   0.617392    0.17381269 -0.87866807  0.270303    0.63918114\n  -0.2103754   0.4272794   0.19047762 -0.20775011]]\n"
     ]
    }
   ],
   "source": [
    "a = (np.matmul(images[1].view(-1, 784), np.transpose(fc.weight.detach().numpy())) + fc.bias)[0].detach().numpy()\n",
    "b = forward(images[1]).detach().numpy()\n",
    "print('Numpy:\\n', a)\n",
    "print('PyTorch:\\n', b)"
   ]
  },
  {
   "cell_type": "code",
   "execution_count": 13,
   "metadata": {
    "slideshow": {
     "slide_type": "fragment"
    }
   },
   "outputs": [
    {
     "output_type": "stream",
     "name": "stdout",
     "text": [
      "[[False False False False False False False False False False]] difference:  1.0169643e-13\n"
     ]
    }
   ],
   "source": [
    "print(a == b, 'difference: ', np.sum((a-b)**2))"
   ]
  },
  {
   "cell_type": "markdown",
   "metadata": {
    "slideshow": {
     "slide_type": "fragment"
    }
   },
   "source": [
    "We have some slight errors due to floating point representation differences between PyTorch and numpy, but the calculation is the same!"
   ]
  },
  {
   "cell_type": "markdown",
   "metadata": {
    "slideshow": {
     "slide_type": "slide"
    }
   },
   "source": [
    "<div class=\"alert alert-success\">\n",
    "Exercise 3:\n",
    "    \n",
    "1. The following code produces different predictions every time. Why? Change it so that it always predicts the same response.\n",
    "2. Change the forward pass function to a network with the following fully connected layers: (784, 128), (128, 10). Test this network with random weights on some images.\n",
    "    \n",
    "</div>"
   ]
  },
  {
   "cell_type": "code",
   "execution_count": 14,
   "metadata": {
    "slideshow": {
     "slide_type": "fragment"
    }
   },
   "outputs": [
    {
     "output_type": "stream",
     "name": "stdout",
     "text": [
      "True: 9 Ankle boot, Predicted: 2 Pullover\nTrue: 4 Coat, Predicted: 4 Coat\nTrue: 4 Coat, Predicted: 8 Bag\nTrue: 8 Bag, Predicted: 4 Coat\n"
     ]
    }
   ],
   "source": [
    "def forward(x):\n",
    "    x = x.view(-1, 28 * 28)\n",
    "    x = nn.Linear(784,10)(x)\n",
    "    return x\n",
    "\n",
    "for i in range(len(images)):\n",
    "    outputs = forward(images[i])\n",
    "    h = np.argmax(outputs.detach().numpy())\n",
    "    y = labels[i]\n",
    "    print('True: %d %s, Predicted: %d %s' % (y, labels_text[y], h, labels_text[h]))"
   ]
  },
  {
   "cell_type": "code",
   "execution_count": 15,
   "metadata": {
    "slideshow": {
     "slide_type": "slide"
    }
   },
   "outputs": [],
   "source": [
    "# %load solutions/ex3_1.py\n",
    "fc1 = nn.Linear(784, 128)\n",
    "fc2 = nn.Linear(128, 10)\n"
   ]
  },
  {
   "cell_type": "code",
   "execution_count": 16,
   "metadata": {
    "slideshow": {
     "slide_type": "fragment"
    }
   },
   "outputs": [
    {
     "output_type": "stream",
     "name": "stdout",
     "text": [
      "True: 9 Ankle boot, Predicted: 6 Shirt\nTrue: 4 Coat, Predicted: 0 T-shirt/top\nTrue: 4 Coat, Predicted: 8 Bag\nTrue: 8 Bag, Predicted: 6 Shirt\n"
     ]
    }
   ],
   "source": [
    "# %load solutions/ex3_2.py\n",
    "def forward(x):\n",
    "    x = x.view(-1, 28 * 28)\n",
    "    x = fc1(x)\n",
    "    x = fc2(x)\n",
    "    return x\n",
    "\n",
    "for i in range(len(images)):\n",
    "    outputs = forward(images[i])\n",
    "    h = np.argmax(outputs.detach().numpy())\n",
    "    y = labels[i]\n",
    "    print('True: %d %s, Predicted: %d %s' % (y, labels_text[y], h, labels_text[h]))\n"
   ]
  },
  {
   "cell_type": "markdown",
   "metadata": {
    "slideshow": {
     "slide_type": "slide"
    }
   },
   "source": [
    "We'll formalize our neural network functions in a `torch.nn.Module` class which creates the layers when initialized and then calculates the forward pass of the network with the function `forward(x)`."
   ]
  },
  {
   "cell_type": "code",
   "execution_count": 17,
   "metadata": {
    "slideshow": {
     "slide_type": "fragment"
    }
   },
   "outputs": [],
   "source": [
    "class SimpleNet(nn.Module):\n",
    "    def __init__(self):\n",
    "        super(SimpleNet, self).__init__()\n",
    "        self.fc1 = nn.Linear(784, 120)\n",
    "        self.fc2 = nn.Linear(120, 10)\n",
    "\n",
    "    def forward(self, x):\n",
    "        x = x.view(-1, 784)\n",
    "        x = self.fc1(x)\n",
    "        x = self.fc2(x)\n",
    "        return x\n",
    "net = SimpleNet()"
   ]
  },
  {
   "cell_type": "markdown",
   "metadata": {
    "slideshow": {
     "slide_type": "fragment"
    }
   },
   "source": [
    "Now that we have our network, we're ready to train it."
   ]
  },
  {
   "cell_type": "markdown",
   "metadata": {
    "slideshow": {
     "slide_type": "slide"
    }
   },
   "source": [
    "# <a id=\"sec3\">3. Backpropagation and training</a>"
   ]
  },
  {
   "cell_type": "markdown",
   "metadata": {
    "slideshow": {
     "slide_type": "fragment"
    }
   },
   "source": [
    "So far, the way we've been using `torch` has been almost equivalent to `numpy`, and we've been calling `detach().numpy()` on `torch` objects to convert them to numpy arrays. We haven't yet taken advantage of the main benefit of `torch`: automatic differentiation. Let's look at that and see how it helps us train our neural network."
   ]
  },
  {
   "cell_type": "markdown",
   "metadata": {
    "slideshow": {
     "slide_type": "slide"
    }
   },
   "source": [
    "First, a bit of vocabulary. The objects we're working with, neural network weights and biases, are called `tensors`. \n",
    "<img src=\"img/tensor.png\" width=\"50%\">\n",
    "A `tensor` is a generic term for a linear mapping of any linear mapping from one algeabraic object to another. A scalar is a single value, a vector a 1D object of values, a matrix a 2D object, and a tensor is an N-dimension object (scalars, vectors, and matrices are also tensors). In deep learning frameworks, tensors are the core computational object. We store all values in tensors and link them in computational graphs."
   ]
  },
  {
   "cell_type": "markdown",
   "metadata": {
    "slideshow": {
     "slide_type": "slide"
    }
   },
   "source": [
    "A torch tensor looks very much like a numpy object. We can compare a 2D torch tensor and a numpy matrix:"
   ]
  },
  {
   "cell_type": "code",
   "execution_count": 18,
   "metadata": {
    "slideshow": {
     "slide_type": "fragment"
    }
   },
   "outputs": [
    {
     "output_type": "stream",
     "name": "stdout",
     "text": [
      "Numpy:  [[1. 1.]\n [1. 1.]]\nTorch:  tensor([[1., 1.],\n        [1., 1.]])\n"
     ]
    },
    {
     "output_type": "execute_result",
     "data": {
      "text/plain": [
       "True"
      ]
     },
     "metadata": {},
     "execution_count": 18
    }
   ],
   "source": [
    "a = np.ones((2, 2))\n",
    "b = torch.ones(2, 2)\n",
    "print('Numpy: ', a)\n",
    "print('Torch: ', b)\n",
    "np.all(b.numpy() == a)"
   ]
  },
  {
   "cell_type": "markdown",
   "metadata": {
    "slideshow": {
     "slide_type": "slide"
    }
   },
   "source": [
    "However, we can ask torch to keep track of the gradient of a tensor. As this tensor is used to compute other tensors, this will create a computational graph."
   ]
  },
  {
   "cell_type": "code",
   "execution_count": 19,
   "metadata": {
    "slideshow": {
     "slide_type": "fragment"
    }
   },
   "outputs": [
    {
     "output_type": "stream",
     "name": "stdout",
     "text": [
      "x:  tensor([[1., 1.],\n        [1., 1.]], requires_grad=True)\ny:  tensor(3., grad_fn=<MeanBackward0>)\ndy/dx:  tensor([[1.5000, 1.5000],\n        [1.5000, 1.5000]])\n"
     ]
    }
   ],
   "source": [
    "x = torch.ones(2, 2, requires_grad=True)\n",
    "print('x: ', x)\n",
    "y = (3 * x * x).mean()\n",
    "print('y: ', y)\n",
    "y.backward()\n",
    "print('dy/dx: ', x.grad)"
   ]
  },
  {
   "cell_type": "markdown",
   "metadata": {
    "slideshow": {
     "slide_type": "fragment"
    }
   },
   "source": [
    "The gradient definition in `y` depends on the calculation of `x` and allows us to calculate `dy/dx` by calling `backward()`. This is known as automatic differentiation, as the gradients at each step in the computation are automatically calculated. If you want to go further in detail about this, check out the [autograd tutorial](https://pytorch.org/tutorials/beginner/blitz/autograd_tutorial.html)."
   ]
  },
  {
   "cell_type": "markdown",
   "metadata": {
    "slideshow": {
     "slide_type": "slide"
    }
   },
   "source": [
    "Let's use automatic differentiation to calculate the gradients of our neural network parameters. This will automatically perform backpropogation using the gradient definition at each function in our network."
   ]
  },
  {
   "cell_type": "code",
   "execution_count": 20,
   "metadata": {
    "slideshow": {
     "slide_type": "fragment"
    }
   },
   "outputs": [
    {
     "output_type": "execute_result",
     "data": {
      "text/plain": [
       "(tensor([3, 9, 0, 2]),\n",
       " tensor([[0., 0., 0., 1., 0., 0., 0., 0., 0., 0.],\n",
       "         [0., 0., 0., 0., 0., 0., 0., 0., 0., 1.],\n",
       "         [1., 0., 0., 0., 0., 0., 0., 0., 0., 0.],\n",
       "         [0., 0., 1., 0., 0., 0., 0., 0., 0., 0.]]))"
      ]
     },
     "metadata": {},
     "execution_count": 20
    }
   ],
   "source": [
    "dataiter = iter(trainloader)\n",
    "images, labels = dataiter.next()\n",
    "onehot = torch.nn.functional.one_hot(labels, num_classes=10).float()\n",
    "\n",
    "labels, onehot"
   ]
  },
  {
   "cell_type": "markdown",
   "metadata": {
    "slideshow": {
     "slide_type": "slide"
    }
   },
   "source": [
    "`images` contains our batch of input, so calling `net` on it will perform a forward pass through the network. We'll then compare this to the onehot encoded label and compute the Mean Squared Error."
   ]
  },
  {
   "cell_type": "code",
   "execution_count": 21,
   "metadata": {
    "slideshow": {
     "slide_type": "fragment"
    }
   },
   "outputs": [
    {
     "output_type": "stream",
     "name": "stdout",
     "text": [
      "Outputs  tensor([[-0.1262, -0.0364,  0.6640, -0.3423, -0.2015,  0.0781, -0.2285, -0.4172,\n          0.2340,  0.2239],\n        [ 0.2150, -0.1665,  0.2723,  0.2650, -0.4035,  0.6827, -0.8687,  0.2146,\n          0.2477,  0.1181],\n        [ 0.0412,  0.0811,  0.7001, -0.3316, -0.3462,  0.1062, -0.2320, -0.3747,\n          0.2335,  0.3109],\n        [-0.6448,  0.5210,  0.6067,  0.1167, -0.2995, -0.1289, -0.3329, -0.1133,\n          0.2600, -0.0417]], grad_fn=<AddmmBackward>)\nLoss  tensor(2.0706, grad_fn=<MeanBackward0>)\n"
     ]
    }
   ],
   "source": [
    "net = SimpleNet()\n",
    "outputs = net(images)\n",
    "print('Outputs ', outputs)\n",
    "loss = torch.sum((outputs - onehot) ** 2, 1).mean()\n",
    "print('Loss ', loss)"
   ]
  },
  {
   "cell_type": "markdown",
   "metadata": {
    "slideshow": {
     "slide_type": "slide"
    }
   },
   "source": [
    "Now that we've calculated the error, we can backpropagate it using `backward()`. We first set all the gradients to zero, and then we'll observe how the gradients of the second layer's bias change."
   ]
  },
  {
   "cell_type": "code",
   "execution_count": 22,
   "metadata": {
    "slideshow": {
     "slide_type": "fragment"
    }
   },
   "outputs": [
    {
     "output_type": "stream",
     "name": "stdout",
     "text": [
      "fc2.bias.grad before backward\nNone\nfc2.bias.grad after backward\ntensor([-0.7574,  0.1996,  0.6215, -0.6461, -0.6254,  0.3690, -0.8311, -0.3453,\n         0.4876, -0.1944])\n"
     ]
    }
   ],
   "source": [
    "net.zero_grad()     # zeroes the gradient buffers of all parameters\n",
    "\n",
    "print('fc2.bias.grad before backward')\n",
    "print(net.fc2.bias.grad)\n",
    "\n",
    "loss.backward()\n",
    "\n",
    "print('fc2.bias.grad after backward')\n",
    "print(net.fc2.bias.grad)"
   ]
  },
  {
   "cell_type": "markdown",
   "metadata": {
    "slideshow": {
     "slide_type": "slide"
    }
   },
   "source": [
    "We can use this gradient calculation to update the neural network weights:\n",
    "$$w_{ij} \\leftarrow w_{ij} - \\alpha \\left(f_\\theta(x) - y\\right) \\delta_j x_{ij}$$"
   ]
  },
  {
   "cell_type": "code",
   "execution_count": 23,
   "metadata": {
    "slideshow": {
     "slide_type": "fragment"
    }
   },
   "outputs": [
    {
     "output_type": "stream",
     "name": "stdout",
     "text": [
      "fc2.bias before training\ntensor([-0.0756,  0.0356,  0.0874,  0.0902,  0.0113,  0.0689, -0.0795, -0.0518,\n         0.0318,  0.0396])\nfc2.bias after training\ntensor([-0.0680,  0.0336,  0.0812,  0.0966,  0.0176,  0.0652, -0.0712, -0.0484,\n         0.0270,  0.0416])\n"
     ]
    }
   ],
   "source": [
    "print('fc2.bias before training')\n",
    "print(net.fc2.bias.data)\n",
    "\n",
    "learning_rate = 0.01\n",
    "for f in net.parameters():\n",
    "    f.data.sub_(f.grad.data * learning_rate)\n",
    "\n",
    "print('fc2.bias after training')\n",
    "print(net.fc2.bias.data)"
   ]
  },
  {
   "cell_type": "markdown",
   "metadata": {
    "slideshow": {
     "slide_type": "slide"
    }
   },
   "source": [
    "Torch provides loss functions and optimizers that we can use instead of writing our own. For now, we'll use the `torch.nn.CrossEntropyLoss` and `torch.optim.SGD` functions.\n",
    "\n",
    "Just one last thing before we train on the full dataset: we're calculting the gradients at every batch, not at every data point. This is an expensive gradient calculation, so let's reduce the number of times we do it by increasing the batch size. This has the benefit of reducing overfitting by computing the gradient over a large sample of images."
   ]
  },
  {
   "cell_type": "code",
   "execution_count": 24,
   "metadata": {
    "slideshow": {
     "slide_type": "slide"
    }
   },
   "outputs": [],
   "source": [
    "def train(net):\n",
    "    trainloader = torch.utils.data.DataLoader(trainset, batch_size=512, shuffle=True, num_workers=2)\n",
    "    criterion = nn.CrossEntropyLoss()\n",
    "    optimizer = torch.optim.SGD(net.parameters(), lr=0.001, momentum=0.9)\n",
    "    train_loss = 0.0\n",
    "    for i, data in enumerate(trainloader, 0):\n",
    "        # get the inputs; data is a list of [inputs, labels]\n",
    "        inputs, labels = data\n",
    "        # zero the parameter gradients\n",
    "        optimizer.zero_grad()\n",
    "        # forward + backward + optimize\n",
    "        outputs = net(inputs)\n",
    "        loss = criterion(outputs, labels)\n",
    "        loss.backward()\n",
    "        optimizer.step()\n",
    "        train_loss += loss.item()\n",
    "    return train_loss"
   ]
  },
  {
   "cell_type": "code",
   "execution_count": 25,
   "metadata": {
    "slideshow": {
     "slide_type": "fragment"
    }
   },
   "outputs": [
    {
     "output_type": "stream",
     "name": "stdout",
     "text": [
      "Wall time: 3.11 s\n43.29734027385712\n"
     ]
    }
   ],
   "source": [
    "net = SimpleNet()\n",
    "%time train_loss = train(net)\n",
    "print(train_loss)"
   ]
  },
  {
   "cell_type": "markdown",
   "metadata": {
    "slideshow": {
     "slide_type": "slide"
    }
   },
   "source": [
    "To see how our network performs, we'll apply it to the validation set."
   ]
  },
  {
   "cell_type": "code",
   "execution_count": 26,
   "metadata": {
    "slideshow": {
     "slide_type": "fragment"
    }
   },
   "outputs": [],
   "source": [
    "def get_valid_predictions(net):\n",
    "    validloader = torch.utils.data.DataLoader(validset, batch_size=4, shuffle=False)\n",
    "    all_labels = np.array([])\n",
    "    predictions = np.array([])\n",
    "    with torch.no_grad():\n",
    "        for data in validloader:\n",
    "            images, labels = data\n",
    "            outputs = net(images)\n",
    "            _, predicted = torch.max(outputs.data, 1)\n",
    "            all_labels = np.append(all_labels, labels.numpy())\n",
    "            predictions = np.append(predictions, predicted.numpy())\n",
    "    return all_labels, predictions"
   ]
  },
  {
   "cell_type": "code",
   "execution_count": 27,
   "metadata": {
    "slideshow": {
     "slide_type": "slide"
    }
   },
   "outputs": [],
   "source": [
    "y_valid, predictions = get_valid_predictions(net)"
   ]
  },
  {
   "cell_type": "code",
   "execution_count": 28,
   "metadata": {
    "slideshow": {
     "slide_type": "fragment"
    }
   },
   "outputs": [
    {
     "output_type": "error",
     "ename": "ModuleNotFoundError",
     "evalue": "No module named 'sklearn'",
     "traceback": [
      "\u001b[1;31m---------------------------------------------------------------------------\u001b[0m",
      "\u001b[1;31mModuleNotFoundError\u001b[0m                       Traceback (most recent call last)",
      "\u001b[1;32m<ipython-input-28-23185ca20418>\u001b[0m in \u001b[0;36m<module>\u001b[1;34m\u001b[0m\n\u001b[1;32m----> 1\u001b[1;33m \u001b[1;32mfrom\u001b[0m \u001b[0msklearn\u001b[0m\u001b[1;33m.\u001b[0m\u001b[0mmetrics\u001b[0m \u001b[1;32mimport\u001b[0m \u001b[0maccuracy_score\u001b[0m\u001b[1;33m,\u001b[0m \u001b[0mclassification_report\u001b[0m\u001b[1;33m\u001b[0m\u001b[1;33m\u001b[0m\u001b[0m\n\u001b[0m\u001b[0;32m      2\u001b[0m \u001b[1;33m\u001b[0m\u001b[0m\n\u001b[0;32m      3\u001b[0m \u001b[0mprint\u001b[0m\u001b[1;33m(\u001b[0m\u001b[1;34m'Accuracy: '\u001b[0m\u001b[1;33m,\u001b[0m \u001b[0maccuracy_score\u001b[0m\u001b[1;33m(\u001b[0m\u001b[0mpredictions\u001b[0m\u001b[1;33m,\u001b[0m \u001b[0my_valid\u001b[0m\u001b[1;33m)\u001b[0m\u001b[1;33m)\u001b[0m\u001b[1;33m\u001b[0m\u001b[1;33m\u001b[0m\u001b[0m\n\u001b[0;32m      4\u001b[0m \u001b[0mprint\u001b[0m\u001b[1;33m(\u001b[0m\u001b[0mclassification_report\u001b[0m\u001b[1;33m(\u001b[0m\u001b[0mpredictions\u001b[0m\u001b[1;33m,\u001b[0m \u001b[0my_valid\u001b[0m\u001b[1;33m,\u001b[0m \u001b[0mtarget_names\u001b[0m\u001b[1;33m=\u001b[0m\u001b[0mlabels_text\u001b[0m\u001b[1;33m)\u001b[0m\u001b[1;33m)\u001b[0m\u001b[1;33m\u001b[0m\u001b[1;33m\u001b[0m\u001b[0m\n",
      "\u001b[1;31mModuleNotFoundError\u001b[0m: No module named 'sklearn'"
     ]
    }
   ],
   "source": [
    "from sklearn.metrics import accuracy_score, classification_report\n",
    "\n",
    "print('Accuracy: ', accuracy_score(predictions, y_valid))\n",
    "print(classification_report(predictions, y_valid, target_names=labels_text))"
   ]
  },
  {
   "cell_type": "markdown",
   "metadata": {
    "slideshow": {
     "slide_type": "slide"
    }
   },
   "source": [
    "# <a id=\"sec4\">4. Activation Functions</a>"
   ]
  },
  {
   "cell_type": "markdown",
   "metadata": {
    "slideshow": {
     "slide_type": "fragment"
    }
   },
   "source": [
    "So far, our network is a chain of $$ Y = w^T x+b $$ However, in the last class, the neurons we modeled used sigmoid functions: $$ Y = \\sigma(w^T x+b) $$ Let's apply this to our current network and see how it changes training. Torch has two ways to do this: define a `torch.nn.Sigmoid` layer or apply the `torch.nn.functional.sigmoid` function (`torch.sigmoid` in future versions). We'll use the functional method."
   ]
  },
  {
   "cell_type": "code",
   "execution_count": 28,
   "metadata": {
    "slideshow": {
     "slide_type": "slide"
    }
   },
   "outputs": [],
   "source": [
    "import torch.nn.functional as F\n",
    "\n",
    "class SigmoidNet(nn.Module):\n",
    "    def __init__(self):\n",
    "        super(SigmoidNet, self).__init__()\n",
    "        self.fc1 = nn.Linear(784, 120)\n",
    "        self.fc2 = nn.Linear(120, 10)\n",
    "\n",
    "    def forward(self, x):\n",
    "        x = x.view(-1, 784)\n",
    "        x = F.sigmoid(self.fc1(x))\n",
    "        x = F.sigmoid(self.fc2(x))\n",
    "        return x\n",
    "\n",
    "net = SigmoidNet()"
   ]
  },
  {
   "cell_type": "code",
   "execution_count": 29,
   "metadata": {
    "slideshow": {
     "slide_type": "slide"
    }
   },
   "outputs": [
    {
     "name": "stderr",
     "output_type": "stream",
     "text": [
      "C:\\Users\\Victor\\anaconda3\\lib\\site-packages\\torch\\nn\\functional.py:1639: UserWarning: nn.functional.sigmoid is deprecated. Use torch.sigmoid instead.\n",
      "  warnings.warn(\"nn.functional.sigmoid is deprecated. Use torch.sigmoid instead.\")\n"
     ]
    },
    {
     "name": "stdout",
     "output_type": "stream",
     "text": [
      "Accuracy:  0.098\n"
     ]
    }
   ],
   "source": [
    "total_loss = train(net)\n",
    "y_valid, predictions = get_valid_predictions(net)\n",
    "print('Accuracy: ', accuracy_score(predictions, y_valid))"
   ]
  },
  {
   "cell_type": "markdown",
   "metadata": {
    "slideshow": {
     "slide_type": "slide"
    }
   },
   "source": [
    "## Rectified Linear Units (ReLU)\n",
    "\n",
    "We'll now look at a different activation function, the ReLU. Remember the shape of the sigmoid activation function?"
   ]
  },
  {
   "cell_type": "code",
   "execution_count": 30,
   "metadata": {
    "ExecuteTime": {
     "end_time": "2018-11-07T13:22:28.428973Z",
     "start_time": "2018-11-07T13:22:28.270744Z"
    },
    "slideshow": {
     "slide_type": "fragment"
    }
   },
   "outputs": [
    {
     "data": {
      "image/png": "[encoded data removed]",
      "text/plain": [
       "<Figure size 432x288 with 1 Axes>"
      ]
     },
     "metadata": {
      "needs_background": "light"
     },
     "output_type": "display_data"
    }
   ],
   "source": [
    "def sigmoid(x):\n",
    "    return 1./(1. + np.exp(-x))\n",
    "\n",
    "XX = np.arange(-5,5.,0.1)\n",
    "plt.plot(XX,sigmoid(XX));"
   ]
  },
  {
   "cell_type": "markdown",
   "metadata": {
    "slideshow": {
     "slide_type": "slide"
    }
   },
   "source": [
    "Let's plot the gradient of this function."
   ]
  },
  {
   "cell_type": "code",
   "execution_count": 31,
   "metadata": {
    "ExecuteTime": {
     "end_time": "2018-11-07T13:22:31.911109Z",
     "start_time": "2018-11-07T13:22:31.786515Z"
    },
    "slideshow": {
     "slide_type": "fragment"
    }
   },
   "outputs": [
    {
     "data": {
      "image/png": "[encoded data removed]",
      "text/plain": [
       "<Figure size 432x288 with 1 Axes>"
      ]
     },
     "metadata": {
      "needs_background": "light"
     },
     "output_type": "display_data"
    }
   ],
   "source": [
    "def sigmoid_der(x):\n",
    "    y = sigmoid(x)\n",
    "    return y*(1.-y)\n",
    "\n",
    "XX = np.arange(-5,5.,0.1)\n",
    "plt.plot(XX,sigmoid(XX));\n",
    "plt.plot(XX,sigmoid_der(XX));"
   ]
  },
  {
   "cell_type": "markdown",
   "metadata": {
    "slideshow": {
     "slide_type": "slide"
    }
   },
   "source": [
    "Do you remember that during backpropagation, the $\\delta_j$ were recursively obtained by:\n",
    "$$\\delta_j = \\sigma'(y_j) \\sum_{l\\in L_j} \\delta_l w_{jl}$$\n",
    "\n",
    "This poses a major problem when the networks become deeper: at each layer, we multiply our gradients by $\\sigma'(y_j)$ which is much smaller than 1. So the gradient we want to back-propagate shrinks to zero and all our weight updates become zero.\n",
    "\n",
    "This is called the **vanishing gradient** problem.\n",
    "\n",
    "To avoid this problem, we introduce a new type of activation function: the Rectified Linear Unit (ReLU).\n",
    "$$\\sigma(y) = \\max\\{0,y\\}$$\n",
    "\n",
    "The key property of this function is that its derivative is either zero or one."
   ]
  },
  {
   "cell_type": "code",
   "execution_count": 32,
   "metadata": {
    "ExecuteTime": {
     "end_time": "2018-11-07T13:22:34.779670Z",
     "start_time": "2018-11-07T13:22:34.661690Z"
    },
    "slideshow": {
     "slide_type": "slide"
    }
   },
   "outputs": [
    {
     "data": {
      "image/png": "[encoded data removed]",
      "text/plain": [
       "<Figure size 432x288 with 1 Axes>"
      ]
     },
     "metadata": {
      "needs_background": "light"
     },
     "output_type": "display_data"
    }
   ],
   "source": [
    "def relu(x):\n",
    "    return np.maximum(0.,x)\n",
    "def relu_der(x):\n",
    "    return relu(x) > 0\n",
    "\n",
    "plt.plot(XX,relu(XX));\n",
    "plt.plot(XX,relu_der(XX));"
   ]
  },
  {
   "cell_type": "markdown",
   "metadata": {
    "slideshow": {
     "slide_type": "slide"
    }
   },
   "source": [
    "**Caveat of using ReLU activation functions**\n",
    "\n",
    "Although they allow us to train deep networks, ReLU functions have their downsides.\n",
    "- Unbounded values: the output of a layer is not bounded anymore, causing possible divergence.\n",
    "- Dying ReLU neurons: the backpropagation of gradients can push the input weigths towards values such that $\\sigma(y)=0$ all the time. Then all future backpropagations will leave these weights unchanged: the neuron is dead.\n",
    "\n",
    "Some advanced methods can compensate these weaknesses but are out of the scope of this introduction.\n",
    "\n",
    "In torch, the ReLU activation function is either a layer `torch.nn.ReLU` or a function in `torch.nn.functional.relu`."
   ]
  },
  {
   "cell_type": "markdown",
   "metadata": {
    "slideshow": {
     "slide_type": "fragment"
    }
   },
   "source": [
    "<div class=\"alert alert-success\">\n",
    "Exercise 5: Change the activation functions in your network. Experiment with different layer sizes and activations to get a higher accuracy.\n",
    "</div>"
   ]
  },
  {
   "cell_type": "code",
   "execution_count": null,
   "metadata": {
    "slideshow": {
     "slide_type": "slide"
    }
   },
   "outputs": [],
   "source": [
    "# %load solutions/ex5.py\n",
    "class ReLUNet(nn.Module):\n",
    "    def __init__(self):\n",
    "        super(ReLUNet, self).__init__()\n",
    "        self.fc1 = nn.Linear(784, 120)\n",
    "        self.fc2 = nn.Linear(120, 10)\n",
    "\n",
    "    def forward(self, x):\n",
    "        x = x.view(-1, 784)\n",
    "        x = F.relu(self.fc1(x))\n",
    "        x = self.fc2(x)\n",
    "        return x\n",
    "\n",
    "net = ReLUNet()\n",
    "train(net)\n",
    "y_valid, predictions = get_valid_predictions(net)\n",
    "print('Accuracy: ', accuracy_score(predictions, y_valid))\n"
   ]
  },
  {
   "cell_type": "markdown",
   "metadata": {
    "slideshow": {
     "slide_type": "slide"
    }
   },
   "source": [
    "# <a id=\"sec5\">5. Convolutional Neural Networks</a>"
   ]
  },
  {
   "cell_type": "markdown",
   "metadata": {
    "slideshow": {
     "slide_type": "fragment"
    }
   },
   "source": [
    "The main factor which makes deep learning so useful for computer vision is the use of convolutions. Convolutional networks exploit the fact that the data is actually an image in the learning while decreasing the number of weights in the network. To do this, they define **convolution filters** that brush across the image. Such a filter defines a so-called **feature map** that shares the weights of the filter. The result of applying a feature map on an image is a new image of lower resolution, where each pixel is the result of the convolution of the filter with a set of pixels from the input image, as illustrated on the figure below. The Stanford class [CS231n](http://cs231n.github.io/convolutional-networks/) also has an excellent demo."
   ]
  },
  {
   "cell_type": "markdown",
   "metadata": {
    "slideshow": {
     "slide_type": "slide"
    }
   },
   "source": [
    "<img src=\"img/convnet.gif\" width=\"700px\">"
   ]
  },
  {
   "cell_type": "code",
   "execution_count": 36,
   "metadata": {
    "slideshow": {
     "slide_type": "slide"
    }
   },
   "outputs": [],
   "source": [
    "def forward_convolution(conv_W, conv_b, data):\n",
    "    \"\"\"\n",
    "    Compute the output from a convolutional layer given the weights and data.\n",
    "\n",
    "    conv_W is of the shape (# output channels, # input channels, convolution width, convolution height )\n",
    "    conv_b is of the shape (# output channels)\n",
    "\n",
    "    data is of the shape (# input channels, width, height)\n",
    "\n",
    "    The output should be the result of a convolution and should be of the size:\n",
    "        (# output channels, width - convolution width + 1, height -  convolution height + 1)\n",
    "\n",
    "    Returns:\n",
    "        The output of the convolution as a numpy array\n",
    "    \"\"\"\n",
    "\n",
    "    conv_channels, _, conv_width, conv_height = conv_W.shape\n",
    "\n",
    "    input_channels, input_width, input_height = data.shape\n",
    "\n",
    "    output = np.zeros((conv_channels, input_width - conv_width + 1, input_height - conv_height + 1))\n",
    "\n",
    "    for x in range(input_width - conv_width + 1):\n",
    "        for y in range(input_height - conv_height + 1):\n",
    "            for output_channel in range(conv_channels):\n",
    "                output[output_channel, x, y] = np.sum(\n",
    "                    np.multiply(data[:, x:(x + conv_width), y:(y + conv_height)], conv_W[output_channel, :, :, :])) + conv_b[output_channel]\n",
    "\n",
    "    return output"
   ]
  },
  {
   "cell_type": "code",
   "execution_count": 45,
   "metadata": {
    "slideshow": {
     "slide_type": "slide"
    }
   },
   "outputs": [
    {
     "name": "stdout",
     "output_type": "stream",
     "text": [
      "Input:\n",
      " [[[-2  0 -1]\n",
      "  [ 2 -1 -1]\n",
      "  [ 0  4 -4]]]\n",
      "Filter:\n",
      " [[[[1. 0.]\n",
      "   [0. 1.]]]]\n",
      "Bias: [0.]\n",
      "Output:\n",
      " [[[-3. -1.]\n",
      "  [ 6. -5.]]]\n"
     ]
    }
   ],
   "source": [
    "rng = np.random.default_rng()\n",
    "data = rng.integers(-5, 5, (1, 3, 3))\n",
    "conv_W = np.array([[np.identity(2)]]) #np.ones((1, 1, 2, 2))\n",
    "conv_b = np.zeros(1)\n",
    "output = forward_convolution(conv_W, conv_b, data)\n",
    "print(\"Input:\\n\", data)\n",
    "print(\"Filter:\\n\", conv_W)\n",
    "print(\"Bias:\", conv_b)\n",
    "print(\"Output:\\n\", output)"
   ]
  },
  {
   "cell_type": "markdown",
   "metadata": {
    "slideshow": {
     "slide_type": "slide"
    }
   },
   "source": [
    "Convolutional layers extract important features from previous layers, transforming the image space into a feature space where each block of neurons corresponds to a feature set rather than a group of pixels. To aggregate these features, select the most important ones, and reduce the dimensionality of our network, we'll use the **pooling** operator. Pooling is the operation of down-sampling the image by grouping together certain pixels. The most common pooling operation takes the maximum value over a certain window. Max pooling has been shown to better separate features which are rare in the data.\n",
    "\n",
    "Boureau, Y-Lan, Jean Ponce, and Yann LeCun. \"A theoretical analysis of feature pooling in visual recognition.\" Proceedings of the 27th international conference on machine learning (ICML-10). 2010. [pdf](https://www.di.ens.fr/willow/pdfs/icml2010b.pdf)\n",
    "\n",
    "<img src=\"img/maxpool.png\">"
   ]
  },
  {
   "cell_type": "markdown",
   "metadata": {
    "slideshow": {
     "slide_type": "slide"
    }
   },
   "source": [
    "One of the advantages of convolution is translational invariance: a feature can appear in different parts of an image, and the network will still detect it. Here's a simple example:\n",
    "\n",
    "<img src=\"img/invariance.png\">"
   ]
  },
  {
   "cell_type": "markdown",
   "metadata": {
    "slideshow": {
     "slide_type": "slide"
    }
   },
   "source": [
    "When defining a convolutional layer, we define the number of channels, where a channel is one slice of neurons. Our input image has one channel - the dimensions are 28 by 28 by 1. A color image has three channels, red green and blue. Using convolution, we'll convert our image of 28 by 28 by 1 into a number of different channels, which we call feature maps. The other parameter we define is the size of the kernel - how large is the filter we're passing over the previous layer. \n",
    "\n",
    "`torch.nn.Conv2d(in_channels, out_channels, kernel_size, stride=1, padding=0, dilation=1, groups=1, bias=True, padding_mode='zeros')`\n",
    "\n",
    "The options of stride, padding, dilation, and groups are further explained in the [documentation](https://pytorch.org/docs/stable/nn.html?highlight=torch%20nn%20conv2d#torch.nn.Conv2d). [This page](https://github.com/vdumoulin/conv_arithmetic/blob/master/README.md) shows an illustration of these different options."
   ]
  },
  {
   "cell_type": "code",
   "execution_count": 50,
   "metadata": {
    "slideshow": {
     "slide_type": "slide"
    }
   },
   "outputs": [
    {
     "name": "stdout",
     "output_type": "stream",
     "text": [
      "Input: tensor([[[[-2.,  0., -1.],\n",
      "          [ 2., -1., -1.],\n",
      "          [ 0.,  4., -4.]]]])\n",
      "Weight: Parameter containing:\n",
      "tensor([[[[1., 0.],\n",
      "          [0., 1.]]]], requires_grad=True)\n",
      "Bias: Parameter containing:\n",
      "tensor([0.], requires_grad=True)\n",
      "Output: tensor([[[[-3., -1.],\n",
      "          [ 6., -5.]]]], grad_fn=<ThnnConv2DBackward>)\n"
     ]
    }
   ],
   "source": [
    "m = nn.Conv2d(1, 1, 2, stride=1)\n",
    "m.weight = torch.nn.Parameter(torch.tensor(conv_W, dtype=torch.float))\n",
    "m.bias = torch.nn.Parameter(torch.tensor(conv_b, dtype=torch.float))\n",
    "input = torch.tensor(np.array([data]), dtype=torch.float)\n",
    "output = m(input)\n",
    "print(\"Input:\", input)\n",
    "print(\"Weight:\", m.weight)\n",
    "print(\"Bias:\", m.bias)\n",
    "print(\"Output:\", output)"
   ]
  },
  {
   "cell_type": "markdown",
   "metadata": {
    "slideshow": {
     "slide_type": "slide"
    }
   },
   "source": [
    "This creates the difficult question of how large is our convolutional layer, in terms of dimensions? Let's assume a layer with the following:\n",
    "\n",
    "+ batch size $N$\n",
    "+ input layer size $H_{in}$ by $W_{in}$\n",
    "+ $C_{in}$ input channels\n",
    "+ $C_{out}$ output channels\n",
    "+ Kernel size $K$, assuming 2D for now\n",
    "\n",
    "That is to say, the previous layer's size is $(N, C_{in}, H_{in}, W_{in})$. For our image input layer, this is $(512, 1, 28, 28)$. We want to calculate the size of the convolutional layer, $(N, C_{out}, H_{out}, W_{out})$. "
   ]
  },
  {
   "cell_type": "markdown",
   "metadata": {
    "slideshow": {
     "slide_type": "slide"
    }
   },
   "source": [
    "This size depends on our kernel size and the other convolutional parameters like stride and padding:\n",
    "\n",
    "$$H_{out} = \\left\\lfloor\\frac{H_{in}  + 2 \\times \\text{padding}[0] - \\text{dilation}[0] \\times (K_0 - 1) - 1}{\\text{stride}[0]} + 1\\right\\rfloor$$\n",
    " \n",
    "$$W_{out} = \\left\\lfloor\\frac{W_{in}  + 2 \\times \\text{padding}[1] - \\text{dilation}[1]\\times (K_1 - 1) - 1}{\\text{stride}[1]} + 1\\right\\rfloor$$"
   ]
  },
  {
   "cell_type": "markdown",
   "metadata": {
    "slideshow": {
     "slide_type": "slide"
    }
   },
   "source": [
    "Assuming the torch defaults of `stride=1, padding=0, dilation=1`, this simplifies to:\n",
    "\n",
    "$$H_{out} = \\left\\lfloor H_{in} - K_0 + 1\\right\\rfloor$$\n",
    " \n",
    "$$W_{out} = \\left\\lfloor W_{in} - K_1 + 1\\right\\rfloor$$\n",
    "\n",
    "Note that this is straight from the [torch documentation](https://pytorch.org/docs/stable/generated/torch.nn.Conv2d.html#torch.nn.Conv2d)."
   ]
  },
  {
   "cell_type": "markdown",
   "metadata": {
    "slideshow": {
     "slide_type": "slide"
    }
   },
   "source": [
    "We'll use this calculation to make a small network with 8 feature maps and a kernel size of 4 by 4."
   ]
  },
  {
   "cell_type": "code",
   "execution_count": 51,
   "metadata": {
    "slideshow": {
     "slide_type": "fragment"
    }
   },
   "outputs": [],
   "source": [
    "k = (4, 4)\n",
    "h_in = 28\n",
    "w_in = 28\n",
    "c_in = 1\n",
    "c_out = 8"
   ]
  },
  {
   "cell_type": "code",
   "execution_count": 69,
   "metadata": {
    "slideshow": {
     "slide_type": "fragment"
    }
   },
   "outputs": [
    {
     "name": "stdout",
     "output_type": "stream",
     "text": [
      "5000\n"
     ]
    }
   ],
   "source": [
    "output_size = c_out * (h_in - k[0] + 1) * (w_in - k[1] + 1)\n",
    "print(output_size)"
   ]
  },
  {
   "cell_type": "code",
   "execution_count": null,
   "metadata": {},
   "outputs": [],
   "source": [
    "print(64*)"
   ]
  },
  {
   "cell_type": "code",
   "execution_count": 67,
   "metadata": {
    "slideshow": {
     "slide_type": "slide"
    }
   },
   "outputs": [
    {
     "name": "stdout",
     "output_type": "stream",
     "text": [
      "Accuracy:  0.123\n"
     ]
    }
   ],
   "source": [
    "class SmallConvNet(nn.Module):\n",
    "    def __init__(self):\n",
    "        super(SmallConvNet, self).__init__()\n",
    "        self.conv1 = nn.Conv2d(c_in, c_out, k)\n",
    "        self.fc1 = nn.Linear(output_size, 128)\n",
    "        self.fc2 = nn.Linear(128, 10)\n",
    "\n",
    "    def forward(self, x):\n",
    "        x = self.conv1(x)\n",
    "        x = F.relu(x)\n",
    "        x = torch.flatten(x, 1)\n",
    "        x = self.fc1(x)\n",
    "        x = F.relu(x)\n",
    "        x = self.fc2(x)\n",
    "        output = F.softmax(x, dim=1)\n",
    "        return output\n",
    "\n",
    "net = SmallConvNet()\n",
    "train(net)\n",
    "y_valid, predictions = get_valid_predictions(net)\n",
    "print('Accuracy: ', accuracy_score(predictions, y_valid))"
   ]
  },
  {
   "cell_type": "markdown",
   "metadata": {
    "slideshow": {
     "slide_type": "slide"
    }
   },
   "source": [
    "<div class=\"alert alert-success\">\n",
    "Exercise 6: Using the `torch.nn.Conv2d` and `torch.nn.MaxPool2d` layer functions (or `torch.nn.functional.max_pool2d`), define and test the following network:\n",
    "    \n",
    "- Input layer: images of size $28\\times 28$ with a single channel\n",
    "- Convolutional layer of 32 feature maps with $3\\times 3$ filters\n",
    "- Max pooling layer by blocks of size $2 \\times 2$\n",
    "- Convolutional layer of 64 feature maps with $3\\times 3$ filters\n",
    "- Max pooling layer by blocks of size $2 \\times 2$\n",
    "- Fully connected layer with 128 ReLU neurons\n",
    "- Fully connected output layer with 10 ReLU neurons\n",
    "</div>"
   ]
  },
  {
   "cell_type": "code",
   "execution_count": 80,
   "metadata": {
    "slideshow": {
     "slide_type": "slide"
    }
   },
   "outputs": [
    {
     "name": "stdout",
     "output_type": "stream",
     "text": [
      "Accuracy:  0.259\n"
     ]
    }
   ],
   "source": [
    "# %load solutions/ex6.py\n",
    "class ConvNet(nn.Module):\n",
    "    def __init__(self):\n",
    "        super(ConvNet, self).__init__()\n",
    "        self.conv1 = nn.Conv2d(1, 32, 3)\n",
    "        self.conv2 = nn.Conv2d(32, 64, 3)\n",
    "        self.fc1 = nn.Linear(1600, 128)\n",
    "        self.fc2 = nn.Linear(128, 10)\n",
    "\n",
    "    def forward(self, x):\n",
    "        x = self.conv1(x)\n",
    "        x = F.max_pool2d(x, 2)\n",
    "        x = self.conv2(x)\n",
    "        x = F.max_pool2d(x, 2)\n",
    "        x = torch.flatten(x, 1)\n",
    "        x = self.fc1(x)\n",
    "        x = F.relu(x)\n",
    "        x = self.fc2(x)\n",
    "        output = F.relu(x)\n",
    "        return output\n",
    "\n",
    "net = ConvNet()\n",
    "train(net)\n",
    "y_valid, predictions = get_valid_predictions(net)\n",
    "print('Accuracy: ', accuracy_score(predictions, y_valid))\n"
   ]
  },
  {
   "cell_type": "markdown",
   "metadata": {},
   "source": [
    "<div class=\"alert alert-info\">\n",
    "    <h3>Discussion</h3>\n",
    "    \n",
    "We previously defined backpropagation for feed-forward networks which used the gradient of the weighted sum and neural activation function. Can backpropagation still work with these two layer types, convolution and pooling? How? What requirement is there for the operators performed by each layer?\n",
    "</div>"
   ]
  },
  {
   "cell_type": "markdown",
   "metadata": {
    "slideshow": {
     "slide_type": "slide"
    }
   },
   "source": [
    "# <a id=\"sec6\">6. Overfitting</a>"
   ]
  },
  {
   "cell_type": "markdown",
   "metadata": {
    "slideshow": {
     "slide_type": "fragment"
    }
   },
   "source": [
    "So far, we've been training on just one pass through the data, called an \"epoch\". In deep learning, networks are trained over multiple epochs, either a fixed amount or until a convergence metric is met. As we will see, this can lead to overfitting. We'll train for 30 epochs and watch the validation loss over training."
   ]
  },
  {
   "cell_type": "code",
   "execution_count": 82,
   "metadata": {
    "slideshow": {
     "slide_type": "slide"
    }
   },
   "outputs": [],
   "source": [
    "trainloader = torch.utils.data.DataLoader(trainset, batch_size=512, shuffle=True, num_workers=2)\n",
    "validloader = torch.utils.data.DataLoader(validset, batch_size=512, shuffle=True, num_workers=2)\n",
    "criterion = nn.CrossEntropyLoss()\n",
    "\n",
    "def validation(net):\n",
    "    valid_loss = 0\n",
    "    with torch.no_grad():\n",
    "        for data in validloader:\n",
    "            images, labels = data\n",
    "            outputs = net(images)\n",
    "            loss = criterion(outputs, labels)\n",
    "            valid_loss += loss.item()\n",
    "    return valid_loss\n",
    "\n",
    "def train(net):\n",
    "    optimizer = torch.optim.SGD(net.parameters(), lr=0.1, momentum=0.9)\n",
    "    train_history = []\n",
    "    valid_history = []\n",
    "    for epoch in range(30):\n",
    "        train_loss = 0.0\n",
    "        for i, data in enumerate(trainloader, 0):\n",
    "            # get the inputs; data is a list of [inputs, labels]\n",
    "            inputs, labels = data\n",
    "            # zero the parameter gradients\n",
    "            optimizer.zero_grad()\n",
    "            # forward + backward + optimize\n",
    "            outputs = net(inputs)\n",
    "            loss = criterion(outputs, labels)\n",
    "            loss.backward()\n",
    "            optimizer.step()\n",
    "            train_loss += loss.item()\n",
    "        valid_loss = validation(net)\n",
    "        train_history.append(train_loss)\n",
    "        valid_history.append(valid_loss)\n",
    "        print('Epoch %02d: train loss %0.5f, validation loss %0.5f' % (epoch, train_loss, valid_loss))\n",
    "    return train_history, valid_history"
   ]
  },
  {
   "cell_type": "code",
   "execution_count": 83,
   "metadata": {
    "slideshow": {
     "slide_type": "slide"
    }
   },
   "outputs": [
    {
     "name": "stdout",
     "output_type": "stream",
     "text": [
      "Epoch 00: train loss 23.65346, validation loss 1.78899\n",
      "Epoch 01: train loss 14.64679, validation loss 1.12895\n",
      "Epoch 02: train loss 10.98895, validation loss 1.00434\n",
      "Epoch 03: train loss 9.84032, validation loss 0.96799\n",
      "Epoch 04: train loss 9.23005, validation loss 0.89674\n",
      "Epoch 05: train loss 8.90829, validation loss 0.92161\n",
      "Epoch 06: train loss 8.98506, validation loss 1.04432\n",
      "Epoch 07: train loss 9.12948, validation loss 0.90691\n",
      "Epoch 08: train loss 8.53345, validation loss 0.90937\n",
      "Epoch 09: train loss 8.24252, validation loss 1.01360\n",
      "Epoch 10: train loss 8.39457, validation loss 0.89461\n",
      "Epoch 11: train loss 8.00087, validation loss 0.88350\n",
      "Epoch 12: train loss 7.82950, validation loss 0.92561\n",
      "Epoch 13: train loss 7.65279, validation loss 0.97148\n",
      "Epoch 14: train loss 7.75586, validation loss 0.90927\n",
      "Epoch 15: train loss 7.80889, validation loss 0.88083\n",
      "Epoch 16: train loss 7.59320, validation loss 0.91838\n",
      "Epoch 17: train loss 7.36531, validation loss 0.88230\n",
      "Epoch 18: train loss 7.43458, validation loss 1.02048\n",
      "Epoch 19: train loss 7.56644, validation loss 0.89891\n",
      "Epoch 20: train loss 7.17585, validation loss 0.88120\n",
      "Epoch 21: train loss 6.97985, validation loss 0.94210\n",
      "Epoch 22: train loss 7.33673, validation loss 0.96651\n",
      "Epoch 23: train loss 7.12181, validation loss 1.05592\n",
      "Epoch 24: train loss 7.48230, validation loss 0.90395\n",
      "Epoch 25: train loss 7.12606, validation loss 0.96136\n",
      "Epoch 26: train loss 6.83915, validation loss 0.89893\n",
      "Epoch 27: train loss 6.76483, validation loss 0.90430\n",
      "Epoch 28: train loss 6.70810, validation loss 0.99687\n",
      "Epoch 29: train loss 6.84345, validation loss 1.03937\n"
     ]
    }
   ],
   "source": [
    "net = SimpleNet()\n",
    "train_history, valid_history = train(net)"
   ]
  },
  {
   "cell_type": "code",
   "execution_count": 84,
   "metadata": {
    "slideshow": {
     "slide_type": "slide"
    }
   },
   "outputs": [
    {
     "data": {
      "image/png": "[encoded data removed]",
      "text/plain": [
       "<Figure size 432x288 with 2 Axes>"
      ]
     },
     "metadata": {
      "needs_background": "light"
     },
     "output_type": "display_data"
    }
   ],
   "source": [
    "def plot_train_val(train, valid):\n",
    "    fig, ax1 = plt.subplots()\n",
    "    color = 'tab:red'\n",
    "    ax1.set_ylabel('Training', color=color)\n",
    "    ax1.plot(train, color=color)\n",
    "    ax2 = ax1.twinx()\n",
    "    color = 'tab:blue'\n",
    "    ax2.set_ylabel('Validation', color=color)\n",
    "    ax2.plot(valid, color=color)\n",
    "    fig.tight_layout()\n",
    "    \n",
    "plot_train_val(train_history, valid_history)"
   ]
  },
  {
   "cell_type": "markdown",
   "metadata": {
    "slideshow": {
     "slide_type": "slide"
    }
   },
   "source": [
    "As we see in the above plots, the validation accuracy might fluctuate or increase while minimizing the training loss. If the validation loss increases too much while the training loss decreases, we consider this **overfitting** to the training data. "
   ]
  },
  {
   "cell_type": "markdown",
   "metadata": {
    "slideshow": {
     "slide_type": "slide"
    }
   },
   "source": [
    "## Early Stopping"
   ]
  },
  {
   "cell_type": "markdown",
   "metadata": {
    "slideshow": {
     "slide_type": "fragment"
    }
   },
   "source": [
    "One of the ways to overcome overfitting is early stopping. We'll stop the training early based on increases to the validation loss. If the validation loss is higher than the current lowest validation lost for a certain number of epochs we'll stop the training. The number of epochs we wait is known as the `patience`."
   ]
  },
  {
   "cell_type": "code",
   "execution_count": 87,
   "metadata": {
    "slideshow": {
     "slide_type": "slide"
    }
   },
   "outputs": [],
   "source": [
    "class EarlyStopping:\n",
    "    \n",
    "    def __init__(self, patience=5, delta=0):\n",
    "        self.patience = patience\n",
    "        self.counter = 0\n",
    "        self.best_score = None\n",
    "        self.delta = delta\n",
    "        self.early_stop = False\n",
    "\n",
    "    def step(self, val_loss):\n",
    "        score = -val_loss\n",
    "        if self.best_score is None:\n",
    "            self.best_score = score\n",
    "        elif score < self.best_score + self.delta:\n",
    "            self.counter += 1\n",
    "            print('EarlyStopping counter: %d / %d' % (self.counter, self.patience))\n",
    "            if self.counter >= self.patience:\n",
    "                self.early_stop = True\n",
    "        else:\n",
    "            self.best_score = score\n",
    "            self.counter = 0"
   ]
  },
  {
   "cell_type": "code",
   "execution_count": 88,
   "metadata": {
    "slideshow": {
     "slide_type": "slide"
    }
   },
   "outputs": [],
   "source": [
    "def train(net, earlystopping=True):\n",
    "    optimizer = torch.optim.SGD(net.parameters(), lr=0.1, momentum=0.9)\n",
    "    train_history = []\n",
    "    valid_history = []\n",
    "    estop = EarlyStopping(patience=2)\n",
    "    for epoch in range(30):\n",
    "        train_loss = 0.0\n",
    "        for i, data in enumerate(trainloader, 0):\n",
    "            # get the inputs; data is a list of [inputs, labels]\n",
    "            inputs, labels = data\n",
    "            # zero the parameter gradients\n",
    "            optimizer.zero_grad()\n",
    "            # forward + backward + optimize\n",
    "            outputs = net(inputs)\n",
    "            loss = criterion(outputs, labels)\n",
    "            loss.backward()\n",
    "            optimizer.step()\n",
    "            train_loss += loss.item()\n",
    "        valid_loss = validation(net)\n",
    "        train_history.append(train_loss)\n",
    "        valid_history.append(valid_loss)\n",
    "        print('Epoch %02d: train loss %0.5f, validation loss %0.5f' % (epoch, train_loss, valid_loss))\n",
    "        estop.step(valid_loss)\n",
    "        if earlystopping and estop.early_stop:\n",
    "            break\n",
    "    return train_history, valid_history"
   ]
  },
  {
   "cell_type": "code",
   "execution_count": 46,
   "metadata": {
    "slideshow": {
     "slide_type": "slide"
    }
   },
   "outputs": [
    {
     "name": "stdout",
     "output_type": "stream",
     "text": [
      "Epoch 00: train loss 25.22815, validation loss 1.73825\n",
      "Epoch 01: train loss 14.34065, validation loss 1.34885\n",
      "Epoch 02: train loss 11.07136, validation loss 1.11352\n",
      "Epoch 03: train loss 10.16993, validation loss 1.15105\n",
      "EarlyStopping counter: 1 / 2\n",
      "Epoch 04: train loss 9.48099, validation loss 1.09735\n",
      "Epoch 05: train loss 9.42629, validation loss 1.04758\n",
      "Epoch 06: train loss 9.29480, validation loss 1.05290\n",
      "EarlyStopping counter: 1 / 2\n",
      "Epoch 07: train loss 9.09306, validation loss 1.01266\n",
      "Epoch 08: train loss 8.64907, validation loss 0.95569\n",
      "Epoch 09: train loss 8.34414, validation loss 0.95305\n",
      "Epoch 10: train loss 8.39079, validation loss 0.99376\n",
      "EarlyStopping counter: 1 / 2\n",
      "Epoch 11: train loss 8.15868, validation loss 0.98675\n",
      "EarlyStopping counter: 2 / 2\n"
     ]
    },
    {
     "data": {
      "image/png": "[encoded data removed]",
      "text/plain": [
       "<Figure size 432x288 with 2 Axes>"
      ]
     },
     "metadata": {
      "needs_background": "light"
     },
     "output_type": "display_data"
    }
   ],
   "source": [
    "trainloader = torch.utils.data.DataLoader(trainset, batch_size=512, shuffle=True, num_workers=2)\n",
    "validloader = torch.utils.data.DataLoader(validset, batch_size=512, shuffle=True, num_workers=2)\n",
    "criterion = nn.CrossEntropyLoss()\n",
    "net = SimpleNet()\n",
    "train_history, valid_history = train(net)\n",
    "plot_train_val(train_history, valid_history)"
   ]
  },
  {
   "cell_type": "markdown",
   "metadata": {
    "slideshow": {
     "slide_type": "slide"
    }
   },
   "source": [
    "## Dropout"
   ]
  },
  {
   "cell_type": "markdown",
   "metadata": {
    "slideshow": {
     "slide_type": "fragment"
    }
   },
   "source": [
    "Another way to prevent overfitting is by not training certain weights at a given update step, leading to greater generalization over the whole network. The classic formulation of this is dropout, where neuron activations are \"dropped out\" (set to zero) with probability *p*. This is as if, for a given update, only a subnetwork is trained: \n",
    "<img src=\"img/dropout_network.png\">\n",
    "Srivastava, Nitish, et al. \"Dropout: a simple way to prevent neural networks from overfitting.\" The journal of machine learning research 15.1 (2014): 1929-1958."
   ]
  },
  {
   "cell_type": "markdown",
   "metadata": {
    "slideshow": {
     "slide_type": "slide"
    }
   },
   "source": [
    "Dropout has shown improvements for overfitting with many different architectures, although the specifics of where to use dropout in a network and what dropout rates to use ($p$) are still not well-defined.\n",
    "\n",
    "<img src=\"img/dropout_results.png\">\n",
    "\n",
    "Torch uses spatial dropout, which is described here: https://arxiv.org/pdf/1411.4280.pdf"
   ]
  },
  {
   "cell_type": "markdown",
   "metadata": {
    "slideshow": {
     "slide_type": "slide"
    }
   },
   "source": [
    "<div class=\"alert alert-success\">\n",
    "Exercise 7: Create a network that includes at least one dropout layer. How does Dropout influence the training?\n",
    "</div>"
   ]
  },
  {
   "cell_type": "code",
   "execution_count": 93,
   "metadata": {
    "slideshow": {
     "slide_type": "fragment"
    }
   },
   "outputs": [
    {
     "name": "stdout",
     "output_type": "stream",
     "text": [
      "Epoch 00: train loss 22.84335, validation loss 1.96014\n",
      "Epoch 01: train loss 14.03971, validation loss 1.02528\n",
      "Epoch 02: train loss 10.53208, validation loss 1.00633\n",
      "Epoch 03: train loss 9.92866, validation loss 0.98968\n",
      "Epoch 04: train loss 9.33898, validation loss 0.95832\n",
      "Epoch 05: train loss 8.95893, validation loss 0.90153\n",
      "Epoch 06: train loss 8.85680, validation loss 0.98653\n",
      "EarlyStopping counter: 1 / 2\n",
      "Epoch 07: train loss 8.51406, validation loss 0.94532\n",
      "EarlyStopping counter: 2 / 2\n",
      "Epoch 00: train loss 24.40920, validation loss 1.88097\n",
      "Epoch 01: train loss 15.28796, validation loss 1.12975\n",
      "Epoch 02: train loss 11.31775, validation loss 1.08260\n",
      "Epoch 03: train loss 10.13546, validation loss 0.92870\n",
      "Epoch 04: train loss 9.56483, validation loss 1.07955\n",
      "EarlyStopping counter: 1 / 2\n",
      "Epoch 05: train loss 9.29479, validation loss 0.85812\n",
      "Epoch 06: train loss 9.18764, validation loss 0.87862\n",
      "EarlyStopping counter: 1 / 2\n",
      "Epoch 07: train loss 9.00756, validation loss 1.07577\n",
      "EarlyStopping counter: 2 / 2\n"
     ]
    }
   ],
   "source": [
    "# %load solutions/ex7.py\n",
    "class DropoutNet(nn.Module):\n",
    "    \n",
    "    def __init__(self):\n",
    "        super(DropoutNet, self).__init__()\n",
    "        self.fc1 = nn.Linear(784,600)\n",
    "        self.drop = nn.Dropout(0.25)\n",
    "        self.fc2 = nn.Linear(600, 120)\n",
    "        self.drop = nn.Dropout(0.1)\n",
    "        self.fc3 = nn.Linear(120, 10)\n",
    "        \n",
    "    def forward(self, x):\n",
    "        x = x.view(-1,784)\n",
    "        x = self.fc1(x)\n",
    "        x = self.drop(x)\n",
    "        x = self.fc2(x)\n",
    "        x = self.fc3(x)\n",
    "        return x\n",
    "\n",
    "net = SimpleNet()\n",
    "train_history, valid_history = train(net, earlystopping=True)\n",
    "net = DropoutNet()\n",
    "drop_train_history, drop_valid_history = train(net, earlystopping=True)"
   ]
  },
  {
   "cell_type": "code",
   "execution_count": 94,
   "metadata": {},
   "outputs": [
    {
     "data": {
      "image/png": "[encoded data removed]",
      "text/plain": [
       "<Figure size 1296x432 with 2 Axes>"
      ]
     },
     "metadata": {
      "needs_background": "light"
     },
     "output_type": "display_data"
    }
   ],
   "source": [
    "plt.figure(figsize=(18,6))\n",
    "plt.subplot(1, 2, 1)\n",
    "plt.plot(train_history, label='simple')\n",
    "plt.plot(drop_train_history, label='dropout')\n",
    "plt.subplot(1, 2, 2)\n",
    "plt.plot(valid_history, label='simple')\n",
    "plt.plot(drop_valid_history, label='dropout')\n",
    "plt.legend();"
   ]
  },
  {
   "cell_type": "markdown",
   "metadata": {
    "slideshow": {
     "slide_type": "slide"
    }
   },
   "source": [
    "# <a id=\"sec7\">7. Improving Optimization</a>"
   ]
  },
  {
   "cell_type": "markdown",
   "metadata": {
    "slideshow": {
     "slide_type": "fragment"
    }
   },
   "source": [
    "Just to review, training a neural network is a function of maximizing some objective function $Q$; it is a process of optimization. $Q$ can be, for example, a MSE Loss function:\n",
    "$$\n",
    "Q_i(\\theta) = (X(\\theta, i) - h_i)^2\\\\\n",
    "Q(\\theta) = \\frac{1}{n}\\sum_{i=1}^n Q_i(\\theta)\n",
    "$$\n",
    "So far, we've been using SGD for this optimization:"
   ]
  },
  {
   "cell_type": "code",
   "execution_count": null,
   "metadata": {
    "slideshow": {
     "slide_type": "fragment"
    }
   },
   "outputs": [],
   "source": [
    "net = SimpleNet()\n",
    "optimizer = torch.optim.SGD(net.parameters(), lr=0.1, momentum=0.9)"
   ]
  },
  {
   "cell_type": "markdown",
   "metadata": {
    "slideshow": {
     "slide_type": "slide"
    }
   },
   "source": [
    "In other words, we're doing our weight ($\\theta$) update according to the following:\n",
    "\n",
    "$$\n",
    "\\Delta \\theta^{(t+1)} \\leftarrow \\alpha\\Delta \\theta^{(t)}-\\eta\\nabla Q_i (\\theta^{(t)})\\\\\n",
    "\\theta^{(t+1)} \\leftarrow \\theta^{(t)} + \\Delta \\theta^{(t+1)}\n",
    "$$\n",
    "\n",
    "These two hyperparameters, learning rate ($\\alpha$) and momentum ($\\eta$), change how the neural network minimizes the loss and can have drastic impact on the learning."
   ]
  },
  {
   "cell_type": "markdown",
   "metadata": {
    "slideshow": {
     "slide_type": "slide"
    }
   },
   "source": [
    "<img src=\"img/sgd.gif\" width=\"80%\">"
   ]
  },
  {
   "cell_type": "markdown",
   "metadata": {
    "slideshow": {
     "slide_type": "slide"
    }
   },
   "source": [
    "A popular optimizer is the Adaptive Moment Estimation ([Adam](https://arxiv.org/pdf/1412.6980.pdf)) optimizer. This optimizer takes into account the recent weight changes when making a new update:\n",
    "\n",
    "$$\n",
    "m_\\theta^{(t+1)} \\leftarrow \\beta_1 m_\\theta^{(t)} + (1-\\beta_1) \\nabla Q_i(\\theta^{(t)})\\\\\n",
    "v_\\theta^{(t+1)} \\leftarrow \\beta_2 v_\\theta^{(t)} + (1-\\beta_2)(\\nabla Q_i(\\theta^{(t)}))^2\\\\\n",
    "\\hat{m}_\\theta = \\frac{m_\\theta^{(t+1)}}{1-\\beta_1^t}\\\\\n",
    "\\hat{v}_\\theta = \\frac{v_\\theta^{(t+1)}}{1-\\beta_2^t}\\\\\n",
    "\\theta^{(t+1)} \\leftarrow \\theta^{(t)} - \\eta\\frac{\\hat{m}_\\theta}{\\sqrt{\\hat{v}_\\theta}+\\epsilon}\n",
    "$$\n",
    "\n",
    "While this optimizer can often perform better than SGD, it introduces new hyperparameter choices: $\\beta_1$ (update to $\\hat{m}$), $\\beta_2$ (update to $\\hat{v}$), and $epsilon$ (ratio between $\\hat{m}$ and $\\hat{v}$). Let's see the defaults for torch:"
   ]
  },
  {
   "cell_type": "code",
   "execution_count": null,
   "metadata": {
    "slideshow": {
     "slide_type": "slide"
    }
   },
   "outputs": [],
   "source": [
    "help(torch.optim.Adam)"
   ]
  },
  {
   "cell_type": "markdown",
   "metadata": {
    "slideshow": {
     "slide_type": "slide"
    }
   },
   "source": [
    "As with SGD, the choice of hyperparameters heavily affects the training."
   ]
  },
  {
   "cell_type": "markdown",
   "metadata": {
    "slideshow": {
     "slide_type": "slide"
    }
   },
   "source": [
    "<img src=\"img/adam.gif\" width=\"80%\">"
   ]
  },
  {
   "cell_type": "markdown",
   "metadata": {
    "slideshow": {
     "slide_type": "slide"
    }
   },
   "source": [
    "<div class=\"alert alert-success\">\n",
    "Exercise 8: change the optimizer in our training method to Adam and train one of the networks we've defined.\n",
    "</div>"
   ]
  },
  {
   "cell_type": "code",
   "execution_count": null,
   "metadata": {},
   "outputs": [],
   "source": []
  },
  {
   "cell_type": "code",
   "execution_count": 96,
   "metadata": {
    "slideshow": {
     "slide_type": "slide"
    }
   },
   "outputs": [
    {
     "name": "stdout",
     "output_type": "stream",
     "text": [
      "Epoch 00: train loss 21.78554, validation loss 1.32290\n",
      "Epoch 01: train loss 12.62463, validation loss 1.11596\n",
      "Epoch 02: train loss 10.96538, validation loss 0.99474\n",
      "Epoch 03: train loss 10.22297, validation loss 0.95018\n",
      "Epoch 04: train loss 9.65845, validation loss 0.93911\n",
      "Epoch 05: train loss 9.33330, validation loss 0.87989\n",
      "Epoch 06: train loss 9.14029, validation loss 0.91613\n",
      "Epoch 07: train loss 8.87550, validation loss 0.86012\n",
      "Epoch 08: train loss 8.56814, validation loss 0.85360\n",
      "Epoch 09: train loss 8.48805, validation loss 0.89492\n",
      "Epoch 10: train loss 8.56574, validation loss 0.85720\n",
      "Epoch 11: train loss 8.21245, validation loss 0.83960\n",
      "Epoch 12: train loss 8.07895, validation loss 0.90756\n",
      "Epoch 13: train loss 8.04707, validation loss 0.86229\n",
      "Epoch 14: train loss 7.85497, validation loss 0.84014\n",
      "Epoch 15: train loss 7.62162, validation loss 0.83831\n",
      "Epoch 16: train loss 7.64544, validation loss 0.88318\n",
      "Epoch 17: train loss 7.75795, validation loss 0.86385\n",
      "Epoch 18: train loss 7.56901, validation loss 0.84338\n",
      "Epoch 19: train loss 7.34369, validation loss 0.84056\n",
      "Epoch 20: train loss 7.34897, validation loss 0.88378\n",
      "Epoch 21: train loss 7.38761, validation loss 0.82467\n",
      "Epoch 22: train loss 7.26740, validation loss 0.85527\n",
      "Epoch 23: train loss 7.12892, validation loss 0.85477\n",
      "Epoch 24: train loss 7.11435, validation loss 0.87419\n",
      "Epoch 25: train loss 7.19934, validation loss 0.89358\n",
      "Epoch 26: train loss 7.00891, validation loss 0.85445\n",
      "Epoch 27: train loss 6.88203, validation loss 0.83722\n",
      "Epoch 28: train loss 6.76720, validation loss 0.83305\n",
      "Epoch 29: train loss 6.82101, validation loss 0.84273\n"
     ]
    },
    {
     "data": {
      "image/png": "[encoded data removed]",
      "text/plain": [
       "<Figure size 432x288 with 2 Axes>"
      ]
     },
     "metadata": {
      "needs_background": "light"
     },
     "output_type": "display_data"
    }
   ],
   "source": [
    "# %load solutions/ex8.py\n",
    "def train(net):\n",
    "    optimizer = torch.optim.Adam(net.parameters())\n",
    "    train_history = []\n",
    "    valid_history = []\n",
    "    for epoch in range(30):\n",
    "        train_loss = 0.0\n",
    "        for i, data in enumerate(trainloader, 0):\n",
    "            # get the inputs; data is a list of [inputs, labels]\n",
    "            inputs, labels = data\n",
    "            # zero the parameter gradients\n",
    "            optimizer.zero_grad()\n",
    "            # forward + backward + optimize\n",
    "            outputs = net(inputs)\n",
    "            loss = criterion(outputs, labels)\n",
    "            loss.backward()\n",
    "            optimizer.step()\n",
    "            train_loss += loss.item()\n",
    "        valid_loss = validation(net)\n",
    "        train_history.append(train_loss)\n",
    "        valid_history.append(valid_loss)\n",
    "        print('Epoch %02d: train loss %0.5f, validation loss %0.5f' % (epoch, train_loss, valid_loss))\n",
    "    return train_history, valid_history\n",
    "\n",
    "trainloader = torch.utils.data.DataLoader(trainset, batch_size=512, shuffle=True, num_workers=2)\n",
    "validloader = torch.utils.data.DataLoader(validset, batch_size=512, shuffle=True, num_workers=2)\n",
    "criterion = nn.CrossEntropyLoss()\n",
    "net = SimpleNet()\n",
    "train_history, valid_history = train(net)\n",
    "plot_train_val(train_history, valid_history)\n"
   ]
  },
  {
   "cell_type": "markdown",
   "metadata": {
    "slideshow": {
     "slide_type": "slide"
    }
   },
   "source": [
    "In this notebook, our training code has gotten very long. Thankfully, `torch` comes with a high-level library [`ignite`](https://pytorch.org/ignite/) which allows us to easily train and including things like EarlyStopping and logging. That's out of the scope of the material for today, but please look at [this notebook](https://github.com/pytorch/ignite/blob/master/examples/notebooks/FashionMNIST.ipynb) before next class.\n",
    "\n",
    "Some other libraries like `ignite`:\n",
    "+ https://docs.fast.ai/\n",
    "+ https://github.com/skorch-dev/skorch\n",
    "+ https://github.com/williamFalcon/pytorch-lightning"
   ]
  },
  {
   "cell_type": "code",
   "execution_count": null,
   "metadata": {},
   "outputs": [],
   "source": []
  }
 ],
 "metadata": {
  "@webio": {
   "lastCommId": null,
   "lastKernelId": null
  },
  "celltoolbar": "Slideshow",
  "kernelspec": {
   "name": "python3",
   "display_name": "Python 3.9.5 64-bit ('.venv': venv)"
  },
  "language_info": {
   "codemirror_mode": {
    "name": "ipython",
    "version": 3
   },
   "file_extension": ".py",
   "mimetype": "text/x-python",
   "name": "python",
   "nbconvert_exporter": "python",
   "pygments_lexer": "ipython3",
   "version": "3.9.5"
  },
  "toc": {
   "base_numbering": 1,
   "nav_menu": {},
   "number_sections": true,
   "sideBar": true,
   "skip_h1_title": false,
   "title_cell": "Table of Contents",
   "title_sidebar": "Contents",
   "toc_cell": false,
   "toc_position": {
    "height": "calc(100% - 180px)",
    "left": "10px",
    "top": "150px",
    "width": "384px"
   },
   "toc_section_display": true,
   "toc_window_display": true
  }
 },
 "nbformat": 4,
 "nbformat_minor": 2
}